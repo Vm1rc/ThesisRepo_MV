{
 "cells": [
  {
   "cell_type": "markdown",
   "metadata": {},
   "source": [
    "# Packages"
   ]
  },
  {
   "cell_type": "code",
   "execution_count": 3,
   "metadata": {},
   "outputs": [],
   "source": [
    "import pandas as pd\n",
    "import numpy as np\n",
    "#import seaborn as sns\n",
    "#import matplotlib as plt\n",
    "import re \n"
   ]
  },
  {
   "cell_type": "markdown",
   "metadata": {},
   "source": [
    "# Import file and exploration"
   ]
  },
  {
   "cell_type": "code",
   "execution_count": 29,
   "metadata": {},
   "outputs": [],
   "source": [
    "df = pd.read_csv(\"/Volumes/Extreme SSD/03_TheGraph/LP_UniswapV2_raw.csv\")"
   ]
  },
  {
   "cell_type": "code",
   "execution_count": 6,
   "metadata": {},
   "outputs": [
    {
     "name": "stdout",
     "output_type": "stream",
     "text": [
      "<class 'pandas.core.frame.DataFrame'>\n",
      "RangeIndex: 65780 entries, 0 to 65779\n",
      "Data columns (total 6 columns):\n",
      " #   Column      Non-Null Count  Dtype  \n",
      "---  ------      --------------  -----  \n",
      " 0   Unnamed: 0  65780 non-null  int64  \n",
      " 1   poolId      65780 non-null  object \n",
      " 2   token0      65776 non-null  object \n",
      " 3   token1      65779 non-null  object \n",
      " 4   volumeUSD   65780 non-null  float64\n",
      " 5   reserveUSD  65780 non-null  float64\n",
      "dtypes: float64(2), int64(1), object(3)\n",
      "memory usage: 3.0+ MB\n"
     ]
    },
    {
     "data": {
      "text/html": [
       "<div>\n",
       "<style scoped>\n",
       "    .dataframe tbody tr th:only-of-type {\n",
       "        vertical-align: middle;\n",
       "    }\n",
       "\n",
       "    .dataframe tbody tr th {\n",
       "        vertical-align: top;\n",
       "    }\n",
       "\n",
       "    .dataframe thead th {\n",
       "        text-align: right;\n",
       "    }\n",
       "</style>\n",
       "<table border=\"1\" class=\"dataframe\">\n",
       "  <thead>\n",
       "    <tr style=\"text-align: right;\">\n",
       "      <th></th>\n",
       "      <th>Unnamed: 0</th>\n",
       "      <th>volumeUSD</th>\n",
       "      <th>reserveUSD</th>\n",
       "    </tr>\n",
       "  </thead>\n",
       "  <tbody>\n",
       "    <tr>\n",
       "      <th>count</th>\n",
       "      <td>65780.000000</td>\n",
       "      <td>6.578000e+04</td>\n",
       "      <td>6.578000e+04</td>\n",
       "    </tr>\n",
       "    <tr>\n",
       "      <th>mean</th>\n",
       "      <td>498.195652</td>\n",
       "      <td>6.054236e+06</td>\n",
       "      <td>8.519737e+04</td>\n",
       "    </tr>\n",
       "    <tr>\n",
       "      <th>std</th>\n",
       "      <td>288.252205</td>\n",
       "      <td>2.478661e+08</td>\n",
       "      <td>7.247750e+06</td>\n",
       "    </tr>\n",
       "    <tr>\n",
       "      <th>min</th>\n",
       "      <td>0.000000</td>\n",
       "      <td>0.000000e+00</td>\n",
       "      <td>0.000000e+00</td>\n",
       "    </tr>\n",
       "    <tr>\n",
       "      <th>25%</th>\n",
       "      <td>249.000000</td>\n",
       "      <td>0.000000e+00</td>\n",
       "      <td>6.300000e-15</td>\n",
       "    </tr>\n",
       "    <tr>\n",
       "      <th>50%</th>\n",
       "      <td>498.000000</td>\n",
       "      <td>0.000000e+00</td>\n",
       "      <td>1.799500e-13</td>\n",
       "    </tr>\n",
       "    <tr>\n",
       "      <th>75%</th>\n",
       "      <td>747.000000</td>\n",
       "      <td>0.000000e+00</td>\n",
       "      <td>8.688717e+00</td>\n",
       "    </tr>\n",
       "    <tr>\n",
       "      <th>max</th>\n",
       "      <td>999.000000</td>\n",
       "      <td>3.835843e+10</td>\n",
       "      <td>1.743372e+09</td>\n",
       "    </tr>\n",
       "  </tbody>\n",
       "</table>\n",
       "</div>"
      ],
      "text/plain": [
       "         Unnamed: 0     volumeUSD    reserveUSD\n",
       "count  65780.000000  6.578000e+04  6.578000e+04\n",
       "mean     498.195652  6.054236e+06  8.519737e+04\n",
       "std      288.252205  2.478661e+08  7.247750e+06\n",
       "min        0.000000  0.000000e+00  0.000000e+00\n",
       "25%      249.000000  0.000000e+00  6.300000e-15\n",
       "50%      498.000000  0.000000e+00  1.799500e-13\n",
       "75%      747.000000  0.000000e+00  8.688717e+00\n",
       "max      999.000000  3.835843e+10  1.743372e+09"
      ]
     },
     "execution_count": 6,
     "metadata": {},
     "output_type": "execute_result"
    }
   ],
   "source": [
    "df.head()\n",
    "df.tail()\n",
    "df.shape\n",
    "df.info()\n",
    "df.dtypes\n",
    "df.count()\n",
    "df.describe()\n",
    "\n"
   ]
  },
  {
   "cell_type": "code",
   "execution_count": 7,
   "metadata": {},
   "outputs": [
    {
     "data": {
      "text/plain": [
       "1000"
      ]
     },
     "execution_count": 7,
     "metadata": {},
     "output_type": "execute_result"
    }
   ],
   "source": [
    "# First Colum is repeating index values between 0-1000  from looping through the API. To be removed.\n",
    "len(df.iloc[:,0].unique())"
   ]
  },
  {
   "cell_type": "code",
   "execution_count": 30,
   "metadata": {},
   "outputs": [],
   "source": [
    "# Remove first column\n",
    "dfClean = df.drop(\"Unnamed: 0\", axis =1)"
   ]
  },
  {
   "cell_type": "code",
   "execution_count": 31,
   "metadata": {},
   "outputs": [
    {
     "name": "stdout",
     "output_type": "stream",
     "text": [
      "Unnamed: 0    0\n",
      "poolId        0\n",
      "token0        4\n",
      "token1        1\n",
      "volumeUSD     0\n",
      "reserveUSD    0\n",
      "dtype: int64\n",
      "poolId        0\n",
      "token0        4\n",
      "token1        1\n",
      "volumeUSD     0\n",
      "reserveUSD    0\n",
      "dtype: int64\n"
     ]
    }
   ],
   "source": [
    "# Checking columns for NULL values\n",
    "print(df.isnull().sum())\n",
    "print(dfClean.isnull().sum())"
   ]
  },
  {
   "cell_type": "markdown",
   "metadata": {},
   "source": [
    "# Removing Null values"
   ]
  },
  {
   "cell_type": "code",
   "execution_count": 10,
   "metadata": {},
   "outputs": [],
   "source": [
    "# Null values for token0\n",
    "null0 = df[df[\"token0\"].isnull()]"
   ]
  },
  {
   "cell_type": "code",
   "execution_count": 11,
   "metadata": {},
   "outputs": [],
   "source": [
    "# Null values for token1\n",
    "null1 = df[df[\"token1\"].isnull()]"
   ]
  },
  {
   "cell_type": "code",
   "execution_count": 12,
   "metadata": {},
   "outputs": [
    {
     "data": {
      "text/plain": [
       "poolId        0x9de60d24a3ac21d113d07e74845daf6259d0d536\n",
       "token0                                               gm👶\n",
       "token1                                              WETH\n",
       "volumeUSD                                            0.0\n",
       "reserveUSD                                           0.0\n",
       "Name: 40620, dtype: object"
      ]
     },
     "execution_count": 12,
     "metadata": {},
     "output_type": "execute_result"
    }
   ],
   "source": [
    "# Cheeck position of example\n",
    "dfClean.loc[40620]"
   ]
  },
  {
   "cell_type": "code",
   "execution_count": 12,
   "metadata": {},
   "outputs": [
    {
     "name": "stderr",
     "output_type": "stream",
     "text": [
      "/var/folders/fw/z98v802x6fx6hbz_spqj2r740000gn/T/ipykernel_6210/1672124346.py:2: FutureWarning: The frame.append method is deprecated and will be removed from pandas in a future version. Use pandas.concat instead.\n",
      "  dfNull = null0.append(null1)\n"
     ]
    }
   ],
   "source": [
    "# Create df with rows missing values\n",
    "dfNull = null0.append(null1)"
   ]
  },
  {
   "cell_type": "code",
   "execution_count": 13,
   "metadata": {},
   "outputs": [],
   "source": [
    "# Remove NULL observations\n",
    "dfClean = dfClean.drop(dfNull.iloc[:,0].index)"
   ]
  },
  {
   "cell_type": "code",
   "execution_count": 14,
   "metadata": {},
   "outputs": [
    {
     "name": "stdout",
     "output_type": "stream",
     "text": [
      "poolId        0\n",
      "token0        0\n",
      "token1        0\n",
      "volumeUSD     0\n",
      "reserveUSD    0\n",
      "dtype: int64 \n",
      "\n",
      "Shape:  (65775, 5)\n"
     ]
    }
   ],
   "source": [
    "# Check result table\n",
    "print(dfClean.isnull().sum(), \"\\n\")\n",
    "\n",
    "print(\"Shape: \", dfClean.shape)"
   ]
  },
  {
   "cell_type": "markdown",
   "metadata": {},
   "source": [
    "# Cleaning table"
   ]
  },
  {
   "cell_type": "code",
   "execution_count": 15,
   "metadata": {},
   "outputs": [],
   "source": [
    "# Remove commas from value strings in columns that are object-type\n",
    "for i in range(len(dfClean.columns)):\n",
    "    if (dfClean.dtypes[i]) == \"object\":\n",
    "        dfClean.iloc[:,i] = dfClean.iloc[:,i].replace(\",\", \"\", regex=True)\n",
    "        dfClean.iloc[:,i] = dfClean.iloc[:,i].replace('\"', \"\", regex=True)\n",
    "        dfClean.iloc[:,i] = dfClean.iloc[:,i].replace(r'\"', \"\", regex=True)\n",
    "        dfClean.iloc[:,i] = dfClean.iloc[:,i].replace(r'<.+>', \"\", regex=True)\n",
    "        dfClean.iloc[:,i] = dfClean.iloc[:,i].replace(\"<\", \"\", regex=True)\n",
    "        dfClean.iloc[:,i] = dfClean.iloc[:,i].replace(\">\", \"\", regex=True)\n"
   ]
  },
  {
   "cell_type": "code",
   "execution_count": 32,
   "metadata": {},
   "outputs": [],
   "source": [
    "# Add flag column\n",
    "dfClean[\"UniswapV2_LP\"] = 1"
   ]
  },
  {
   "cell_type": "markdown",
   "metadata": {},
   "source": [
    "# Add UniswapV2Router Address"
   ]
  },
  {
   "cell_type": "code",
   "execution_count": 33,
   "metadata": {},
   "outputs": [
    {
     "name": "stderr",
     "output_type": "stream",
     "text": [
      "/var/folders/fw/z98v802x6fx6hbz_spqj2r740000gn/T/ipykernel_2118/2790402635.py:3: FutureWarning: The frame.append method is deprecated and will be removed from pandas in a future version. Use pandas.concat instead.\n",
      "  dfClean = dfClean.append(dfTemp, ignore_index = True)\n"
     ]
    }
   ],
   "source": [
    "#dfClean.loc[len(dfClean.index)] = ['test', 1] \n",
    "dfTemp = {'poolId': '0x7a250d5630b4cf539739df2c5dacb4c659f2488d', 'UniswapV2_LP': 1}\n",
    "dfClean = dfClean.append(dfTemp, ignore_index = True)"
   ]
  },
  {
   "cell_type": "markdown",
   "metadata": {},
   "source": [
    "# Export as csv\n",
    "\n"
   ]
  },
  {
   "cell_type": "code",
   "execution_count": null,
   "metadata": {},
   "outputs": [],
   "source": [
    "# Export all columns from cleaned df. Doesnt work for upload to BQ. Use '_export'\n",
    "dfClean.to_csv(\"/Users/marcvendramet/Desktop/HSG/Master/MA/08_Data/04_TheGraph/LP_UniswapV2_clean.csv\""
   ]
  },
  {
   "cell_type": "code",
   "execution_count": 34,
   "metadata": {},
   "outputs": [],
   "source": [
    "# Export only two columns for useabulity on BigQuery\n",
    "dfExport = dfClean[[\"poolId\", \"UniswapV2_LP\"]]"
   ]
  },
  {
   "cell_type": "code",
   "execution_count": 39,
   "metadata": {},
   "outputs": [],
   "source": [
    "dfExport.to_csv(\"/Volumes/Extreme SSD/03_TheGraph/LP_UniswapV2_export.csv\", index_label = \"index\", index = True)"
   ]
  },
  {
   "cell_type": "markdown",
   "metadata": {},
   "source": [
    "## Archived: Labels not needed\n",
    "clabels = dfClean.columns.tolist()\n",
    "clabels.insert(0, \"index\")\n",
    "print(clabels)\n"
   ]
  }
 ],
 "metadata": {
  "kernelspec": {
   "display_name": "Python 3 (ipykernel)",
   "language": "python",
   "name": "python3"
  },
  "language_info": {
   "codemirror_mode": {
    "name": "ipython",
    "version": 3
   },
   "file_extension": ".py",
   "mimetype": "text/x-python",
   "name": "python",
   "nbconvert_exporter": "python",
   "pygments_lexer": "ipython3",
   "version": "3.9.12"
  }
 },
 "nbformat": 4,
 "nbformat_minor": 4
}
