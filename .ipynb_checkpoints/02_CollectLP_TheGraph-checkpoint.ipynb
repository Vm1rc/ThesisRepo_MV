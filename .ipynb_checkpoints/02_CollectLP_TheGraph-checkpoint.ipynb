{
 "cells": [
  {
   "cell_type": "markdown",
   "id": "5f3850a3-09e2-4489-bf19-e1e498bce3d9",
   "metadata": {},
   "source": [
    "# Sources\n",
    "\n",
    "* TWD approach with update(): https://towardsdatascience.com/exploring-decentraland-marketplace-sales-with-thegraph-and-graphql-2f5e8e7199b5\n",
    "* Pagination of graphQL queries: https://stackoverflow.com/questions/59666982/how-to-use-variables-in-python-gql\n",
    "* Pagination doc TheGraph: https://thegraph.com/docs/en/developer/graphql-api/\n"
   ]
  },
  {
   "cell_type": "markdown",
   "id": "02e3cd88-0b88-42f9-ad00-615a03f55f2f",
   "metadata": {},
   "source": [
    "# Packages"
   ]
  },
  {
   "cell_type": "code",
   "execution_count": null,
   "id": "c1eb6244-0388-4761-bcea-b843ec667860",
   "metadata": {},
   "outputs": [],
   "source": [
    "import requests\n",
    "import json\n",
    "from gql import gql, Client # not installed in Thesis39 env\n",
    "import pandas as pd\n",
    "from gql.transport.requests import RequestsHTTPTransport"
   ]
  },
  {
   "cell_type": "code",
   "execution_count": null,
   "id": "40204e8d-2689-4a41-8ee3-51f7754316ca",
   "metadata": {},
   "outputs": [],
   "source": [
    "r = requests.get('https://api.github.com/events') # testing import requests"
   ]
  },
  {
   "cell_type": "markdown",
   "id": "1f77fd38-dd24-466b-b0b0-e5b2b19e53a3",
   "metadata": {},
   "source": [
    "# Create dynamic API request"
   ]
  },
  {
   "cell_type": "code",
   "execution_count": null,
   "id": "7ce9a6d4-4071-457a-bfde-6b40b4101288",
   "metadata": {},
   "outputs": [],
   "source": [
    "# Select your transport with a defined url endpoint\n",
    "sample_transport = RequestsHTTPTransport(url='https://api.thegraph.com/subgraphs/name/uniswap/uniswap-v2',\n",
    "                                         verify=True,\n",
    "                                         retries=3,)\n",
    "# Create a GraphQL client using the defined transport\n",
    "client = Client(transport=sample_transport,\n",
    "                fetch_schema_from_transport=True,\n",
    "                )\n",
    "\n",
    "myString = '''\n",
    "query manyPairs($lastID: ID) {\n",
    "    pairs(first: 1000, where: {id_gt: $lastID}) {\n",
    "      id\n",
    "     token0 {\n",
    "      id\n",
    "      symbol\n",
    "    }\n",
    "    token1 {\n",
    "      id\n",
    "      symbol\n",
    "    }\n",
    "    reserveUSD\n",
    "    volumeUSD\n",
    "   }\n",
    "    }\n",
    "'''\n",
    "\n",
    "params = {\n",
    "    \"lastID\": \"\"\n",
    "}\n",
    "\n",
    "\n",
    "\n",
    "df = pd.DataFrame(columns = ['poolId','token0','token1','volumeUSD','reserveUSD'])\n",
    "\n",
    "# First run has no 'lastID'\n",
    "params[\"lastID\"] = \"\""
   ]
  },
  {
   "cell_type": "markdown",
   "id": "8d825be4-02fd-4199-abe4-69b9b653cc7e",
   "metadata": {},
   "source": [
    "# Create loop with pagination on TheGraph"
   ]
  },
  {
   "cell_type": "code",
   "execution_count": null,
   "id": "1ed5a20a-0844-49b0-8a99-1e77acd4394d",
   "metadata": {},
   "outputs": [],
   "source": [
    "while True:\n",
    "    queryAllLp = gql(myString)\n",
    "    response = client.execute(queryAllLp, variable_values=params)\n",
    "\n",
    "    #if there is no data returned it means you reached the end and should stop querying.\n",
    "    if len(client.execute(queryAllLp, variable_values=params)['pairs']) <= 1:\n",
    "        break\n",
    "\n",
    "    else:\n",
    "        df1 = []\n",
    "        for i in response['pairs']:\n",
    "            df1.append([\n",
    "                i['id'],\n",
    "                i['token0']['symbol'],\n",
    "                i['token1']['symbol'],\n",
    "                i['volumeUSD'],\n",
    "                i['reserveUSD']\n",
    "            ])\n",
    "        df1 = pd.DataFrame(df1, columns = ['poolId','token0','token1','volumeUSD','reserveUSD'])\n",
    "\n",
    "        # append your temp dataframe to your master dataset.\n",
    "        df = df.append(df1)\n",
    "\n",
    "        #renew counter variable\n",
    "        params[\"lastID\"] = df.iloc[-1,0]\n"
   ]
  },
  {
   "cell_type": "code",
   "execution_count": null,
   "id": "e68d3ac0-f0fe-486c-abbe-8ff9c9a91379",
   "metadata": {},
   "outputs": [],
   "source": [
    "# Save cleaned LPs as csv"
   ]
  },
  {
   "cell_type": "code",
   "execution_count": null,
   "id": "0e05e6e9-fc70-45ee-bb36-2ab829845030",
   "metadata": {},
   "outputs": [],
   "source": [
    "# add column names to finished df after query\n",
    "\n",
    "len(df[\"poolId\"].unique())\n",
    "df.head()\n",
    "df.to_csv(\"/Users/marcvendramet/Desktop/HSG/Master/MA/08_Data/04_TheGraph/LP_UniswapV2_raw.csv\")"
   ]
  }
 ],
 "metadata": {
  "kernelspec": {
   "display_name": "Python 3 (ipykernel)",
   "language": "python",
   "name": "python3"
  },
  "language_info": {
   "codemirror_mode": {
    "name": "ipython",
    "version": 3
   },
   "file_extension": ".py",
   "mimetype": "text/x-python",
   "name": "python",
   "nbconvert_exporter": "python",
   "pygments_lexer": "ipython3",
   "version": "3.9.12"
  }
 },
 "nbformat": 4,
 "nbformat_minor": 5
}
