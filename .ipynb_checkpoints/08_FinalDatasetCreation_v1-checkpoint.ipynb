{
 "cells": [
  {
   "cell_type": "markdown",
   "id": "cd47c6b6-82d2-4fae-aa5f-c1f80fe6ea86",
   "metadata": {},
   "source": [
    "# Packages"
   ]
  },
  {
   "cell_type": "code",
   "execution_count": null,
   "id": "d8f014d7-0e56-4cf4-839c-17c1201f0c64",
   "metadata": {},
   "outputs": [],
   "source": [
    "import pandas as pd\n",
    "import numpy as np\n",
    "import os\n",
    "import statsmodels.api as sm\n",
    "import matplotlib.pyplot as plt\n",
    "import seaborn as sns\n",
    "import datetime\n",
    "\n",
    "pd.set_option('display.max_columns', None)\n",
    "pd.set_option('max_colwidth', None) # show full width of showing cols"
   ]
  },
  {
   "cell_type": "code",
   "execution_count": null,
   "id": "1e45102a-8c75-49fd-bba1-4afb45567f92",
   "metadata": {},
   "outputs": [],
   "source": [
    "import mitosheet"
   ]
  },
  {
   "cell_type": "markdown",
   "id": "b2de8da3-0b1b-4366-960b-2f2c9c25d63a",
   "metadata": {},
   "source": [
    "# Load Data"
   ]
  },
  {
   "cell_type": "code",
   "execution_count": null,
   "id": "2b660de4-f23a-4dfc-904b-061baab5018b",
   "metadata": {},
   "outputs": [],
   "source": [
    "# File including all sandwich attacks\n",
    "dfAttackMaster = pd.read_parquet(f\"/Volumes/Extreme SSD/98_Output/AttacksUniswapV2_Master.par\")\n",
    "# File including all relevant gas price data (gas data Barbon + gas data threshold)\n",
    "dfMaster = pd.read_parquet(f\"/Volumes/Extreme SSD/01_GasData/GasPriceAll.par\")\n",
    "\n",
    "# File including with avg gas price and gas_used per block from BQ to calculate GasFee per block\n",
    "dfGasFeeSum = pd.read_csv(f\"/Volumes/Extreme SSD/01_GasData/GasFeePerBlock_BQ_v2.csv\")\n"
   ]
  },
  {
   "cell_type": "code",
   "execution_count": null,
   "id": "43540ac2-2e12-4025-8e70-44b2567155e6",
   "metadata": {},
   "outputs": [],
   "source": [
    "# not neede anymore\n",
    "#dfMaster = dfMaster.rename(columns={\"trans_gasPrice_Gwei\": \"threshold_gas\"})"
   ]
  },
  {
   "cell_type": "code",
   "execution_count": null,
   "id": "3fbe5f67-e92d-4325-85f1-aaa7bec9c535",
   "metadata": {},
   "outputs": [],
   "source": [
    "dfMaster"
   ]
  },
  {
   "cell_type": "markdown",
   "id": "0fa9a1ed-323c-48ad-9b53-f3414eb23a51",
   "metadata": {},
   "source": [
    "# Data Set with total gas fee per block"
   ]
  },
  {
   "cell_type": "code",
   "execution_count": null,
   "id": "e7c85502-b450-465e-8a19-f124bc81133a",
   "metadata": {},
   "outputs": [],
   "source": [
    "#Gwei and ETH conversion\n",
    "dfGasFeeSum = dfGasFeeSum.rename(columns={\"total_gasFee\": \"total_gasFee_Gwei\"})\n",
    "dfGasFeeSum['total_gasFee_ETH'] = dfGasFeeSum['total_gasFee_Gwei']/1000000000\n",
    "\n"
   ]
  },
  {
   "cell_type": "code",
   "execution_count": null,
   "id": "ab232b18-155e-4818-a071-dca80317c320",
   "metadata": {},
   "outputs": [],
   "source": [
    "# not needed anymore\n",
    "#dfGasFeeSum = dfGasFeeSum.sort_values('block_number')\n",
    "#dfGasFeeSum['avgGasPrice'] = dfGasFeeSum['avgGasPrice']/1000000000\n",
    "#dfGasFeeSum['total_GasFee'] = dfGasFeeSum['avgGasPrice']*dfGasFeeSum['sumGasUsed']"
   ]
  },
  {
   "cell_type": "code",
   "execution_count": null,
   "id": "e23423bf-d3c5-4358-8547-ebf6e1bbfd2a",
   "metadata": {},
   "outputs": [],
   "source": [
    "dfGasFeeSum"
   ]
  },
  {
   "cell_type": "markdown",
   "id": "de5cdf24-5789-4be6-aa4c-bbedb232272f",
   "metadata": {},
   "source": [
    "## Checks of gas data frames"
   ]
  },
  {
   "cell_type": "code",
   "execution_count": null,
   "id": "3014b5a5-3b01-4960-9b7c-46594ae69d6d",
   "metadata": {},
   "outputs": [],
   "source": [
    "dfMaster.isnull().sum().sum()"
   ]
  },
  {
   "cell_type": "code",
   "execution_count": null,
   "id": "fd15cb38-bcee-43ed-b09b-c1ed9f985c91",
   "metadata": {},
   "outputs": [],
   "source": [
    "dfMaster.info()"
   ]
  },
  {
   "cell_type": "code",
   "execution_count": null,
   "id": "e41b31c6-eb36-498f-8dfa-01e4760f7746",
   "metadata": {},
   "outputs": [],
   "source": [
    "# Compare block numbering from barbon and Threshold df\n",
    "dfMaster['Diff'] = np.where( dfMaster['block_number_bar'] == dfMaster['block_number'] , '1', '0')\n",
    "dfMaster['block_number_bar'].compare(dfMaster['block_number'])\n",
    "dfMaster['Diff'] = np.where( dfMaster['block_number_bar'] == dfMaster['block_number'] , '1', '0')\n",
    "print(\n",
    "    dfMaster['Diff'].nunique(),\n",
    "    dfMaster['block_number_bar'].compare(dfMaster['block_number'])\n",
    ")\n",
    "    \n",
    "#dfMaster['block_number_bar'].equals(dfMaster['block_number']) # doesnt work becaus of column header"
   ]
  },
  {
   "cell_type": "code",
   "execution_count": null,
   "id": "c25ceea0-5ea9-4d0d-8abc-bfa0f73e4395",
   "metadata": {},
   "outputs": [],
   "source": [
    "# Delete unused columns\n",
    "dfMaster = dfMaster.drop(['block_number_bar', 'Diff'],axis =1)"
   ]
  },
  {
   "cell_type": "code",
   "execution_count": null,
   "id": "0110d44f-18d8-4176-9775-fa325c0a50fe",
   "metadata": {},
   "outputs": [],
   "source": [
    "# Move block_number to first position\n",
    "first_column = dfMaster.pop('block_number')\n",
    "dfMaster.insert(0, 'block_number', first_column)"
   ]
  },
  {
   "cell_type": "code",
   "execution_count": null,
   "id": "d3615d92-ecfa-4bf3-8287-6568b006509d",
   "metadata": {},
   "outputs": [],
   "source": [
    "dfMaster"
   ]
  },
  {
   "cell_type": "markdown",
   "id": "7c87a229-dcbb-447e-8846-8f358ea6dee7",
   "metadata": {},
   "source": [
    "## Checks for attack dataframe"
   ]
  },
  {
   "cell_type": "code",
   "execution_count": null,
   "id": "71c9b60c-9ee0-4739-bb15-392aa6bbaebb",
   "metadata": {},
   "outputs": [],
   "source": [
    "dfAttackMaster['gasUsed'].isnull().sum()"
   ]
  },
  {
   "cell_type": "code",
   "execution_count": null,
   "id": "e2a2aa9b-3a63-4cbd-b4db-5e8745a6fc76",
   "metadata": {},
   "outputs": [],
   "source": [
    "dfAttackMaster['effective_gas_price'].isnull().sum()"
   ]
  },
  {
   "cell_type": "code",
   "execution_count": null,
   "id": "513eaabd-4faf-4604-8805-d5d62ed14e13",
   "metadata": {},
   "outputs": [],
   "source": [
    "dfAttackMaster['Attack_UID'].isnull().sum()"
   ]
  },
  {
   "cell_type": "code",
   "execution_count": null,
   "id": "1e8489f6-033d-4130-8fb0-0673de820ee5",
   "metadata": {},
   "outputs": [],
   "source": [
    "# Number of transactions which occur in 1+ observations \n",
    "len(dfAttackMaster['transaction_hash'])-dfAttackMaster['transaction_hash'].nunique()"
   ]
  },
  {
   "cell_type": "code",
   "execution_count": null,
   "id": "5af223da-6bec-460f-9b21-f054fbc79f74",
   "metadata": {},
   "outputs": [],
   "source": [
    "# Remoev duplicate 'transaction_hash' to avoid double counting\n",
    "dfAttackMaster = dfAttackMaster.drop_duplicates(subset = ['transaction_hash'], keep=False)"
   ]
  },
  {
   "cell_type": "code",
   "execution_count": null,
   "id": "4f13af35-4d81-4dbb-953e-9f43d72f91c6",
   "metadata": {},
   "outputs": [],
   "source": [
    "# Number of transactions which occur in 1+ observations after duplicate removal\n",
    "len(dfAttackMaster['transaction_hash'])-dfAttackMaster['transaction_hash'].nunique()"
   ]
  },
  {
   "cell_type": "markdown",
   "id": "4237432a-714c-4767-b3db-15ddf2e0dbd4",
   "metadata": {},
   "source": [
    "# AttackMaster: proxy contract identification"
   ]
  },
  {
   "cell_type": "markdown",
   "id": "98f04e29-d6f9-458b-aaa3-c7c6c7ab6364",
   "metadata": {},
   "source": [
    "## Filter for tranactions using Uniswap Routers (both)\n",
    "* 0xf164fc0ec4e93095b804a4795bbe1e041497b92a version01\n",
    "* 0x7a250d5630b4cf539739df2c5dacb4c659f2488d version02"
   ]
  },
  {
   "cell_type": "code",
   "execution_count": null,
   "id": "d7e69fae-92db-4870-92e3-ec2ea4899111",
   "metadata": {},
   "outputs": [],
   "source": [
    "list(dfAttackMaster.columns)"
   ]
  },
  {
   "cell_type": "markdown",
   "id": "588301eb-8d35-408a-828d-e3502c8ef819",
   "metadata": {},
   "source": [
    "### Add new flag column for proxy YES(1)/No(0)\n",
    "Default is 1 = is proxy, because we filter for router contracts in transactions which will be set to 0"
   ]
  },
  {
   "cell_type": "code",
   "execution_count": null,
   "id": "3d5d3d2d-4588-4fe7-8065-b03ec99ac44b",
   "metadata": {},
   "outputs": [],
   "source": [
    "# check\n",
    "dfAttackMaster[\"Attack_UID\"].value_counts().mean() ==2"
   ]
  },
  {
   "cell_type": "code",
   "execution_count": null,
   "id": "efe41726-236f-4905-a120-72bf9b230c93",
   "metadata": {},
   "outputs": [],
   "source": [
    "dfAttackMaster"
   ]
  },
  {
   "cell_type": "code",
   "execution_count": null,
   "id": "910e0bee-7a25-498a-b331-eeed9139e6cf",
   "metadata": {},
   "outputs": [],
   "source": [
    "dfAttackMaster[\"ProxyFlag\"] = 1 \n"
   ]
  },
  {
   "cell_type": "code",
   "execution_count": null,
   "id": "e555e647-3334-4fce-9d93-24592d87ca28",
   "metadata": {},
   "outputs": [],
   "source": [
    "dfAttackMaster.loc[dfAttackMaster[['from_address', 'to_address','trans_fromAddress','trans_toAddress']].isin([\"0x7a250d5630b4cf539739df2c5dacb4c659f2488d\", '0xf164fc0ec4e93095b804a4795bbe1e041497b92a']).any(axis=1) ,'ProxyFlag']=0\n"
   ]
  },
  {
   "cell_type": "code",
   "execution_count": null,
   "id": "480b6b73-4a3b-4c87-b565-03392efd9c9d",
   "metadata": {},
   "outputs": [],
   "source": [
    "dfAttackMaster[\"ProxyFlag\"].value_counts()"
   ]
  },
  {
   "cell_type": "code",
   "execution_count": null,
   "id": "e5497051-75bd-4a2b-a1fa-944fee19016a",
   "metadata": {},
   "outputs": [],
   "source": [
    "ProxyTransCount = dfAttackMaster.groupby(['Attack_UID'])['ProxyFlag'].sum()/4\n",
    "ProxyTransCount = ProxyTransCount.rename('ProxyAttackUID')"
   ]
  },
  {
   "cell_type": "code",
   "execution_count": null,
   "id": "a004864c-dd35-42ba-b4b3-0c2556069528",
   "metadata": {},
   "outputs": [],
   "source": [
    "dfAttackMaster = dfAttackMaster.merge(ProxyTransCount, how = 'left', on = 'Attack_UID' )\n",
    "#dfAttackMaster = dfAttackMaster.rename(columns={'gasUsed':'attacks_GasUsed'})\n"
   ]
  },
  {
   "cell_type": "code",
   "execution_count": null,
   "id": "8d23b92e-5466-492b-947c-1a94efa45952",
   "metadata": {},
   "outputs": [],
   "source": [
    "dfAttackMaster.loc[dfAttackMaster[\"ProxyAttackUID\"] > 0, \"ProxyAttackUID\"] = 1"
   ]
  },
  {
   "cell_type": "code",
   "execution_count": null,
   "id": "9c67aaee-deef-4c11-ada3-f27567c6b1c0",
   "metadata": {},
   "outputs": [],
   "source": [
    "dfAttackMaster[\"ProxyAttackUID\"].value_counts()"
   ]
  },
  {
   "cell_type": "markdown",
   "id": "aa45e621-2361-456b-a8a0-28d210471223",
   "metadata": {},
   "source": [
    "### Checks"
   ]
  },
  {
   "cell_type": "code",
   "execution_count": null,
   "id": "c8436d5b-ee30-42b1-b657-905a5e57f4fe",
   "metadata": {},
   "outputs": [],
   "source": [
    "# https://www.delftstack.com/howto/python-pandas/filter-pandas-dataframe-using-in-and-not-in-like-in-sql/#use-the-isin-method-to-filter-multiple-columns-in-pandas-dataframe\n",
    "dfAttackMaster[dfAttackMaster[['from_address', 'to_address','trans_fromAddress','trans_toAddress']].isin([\"0x7a250d5630b4cf539739df2c5dacb4c659f2488d\", '0xf164fc0ec4e93095b804a4795bbe1e041497b92a']).any(axis=1)]\n"
   ]
  },
  {
   "cell_type": "code",
   "execution_count": null,
   "id": "1ffdb1cc-4880-4a82-b6b3-78ffe3d109f1",
   "metadata": {},
   "outputs": [],
   "source": [
    "dfProxy = dfAttackMaster[dfAttackMaster.ProxyFlag == 0]\n",
    "dfNonProxy = dfAttackMaster[dfAttackMaster.ProxyFlag == 1]\n"
   ]
  },
  {
   "cell_type": "code",
   "execution_count": null,
   "id": "6408fc17-b690-4a1f-b1ad-18a27ccea83c",
   "metadata": {},
   "outputs": [],
   "source": [
    "dfNonProxy[dfNonProxy.to_address == \"0x7a250d5630b4cf539739df2c5dacb4c659f2488d\"]"
   ]
  },
  {
   "cell_type": "code",
   "execution_count": null,
   "id": "4608ab45-adb5-4173-931a-2bfa787b3001",
   "metadata": {},
   "outputs": [],
   "source": [
    "dfNonProxy[dfNonProxy[['from_address', 'to_address','trans_fromAddress','trans_toAddress']].isin([\"0x7a250d5630b4cf539739df2c5dacb4c659f2488d\", '0xf164fc0ec4e93095b804a4795bbe1e041497b92a']).any(axis=1)]\n"
   ]
  },
  {
   "cell_type": "markdown",
   "id": "621d46a3-2179-4675-acf0-e025ec1da40e",
   "metadata": {},
   "source": [
    "### Save new AttackMaster (new version)"
   ]
  },
  {
   "cell_type": "code",
   "execution_count": null,
   "id": "971ca8e4-29dc-4008-8c3c-f8d45324b68d",
   "metadata": {},
   "outputs": [],
   "source": [
    "dfAttackMaster.to_parquet(\"/Volumes/Extreme SSD/98_Output/AttacksUniswapV2_Master_v2.par\")"
   ]
  },
  {
   "cell_type": "code",
   "execution_count": null,
   "id": "2f3ec1b4-53b1-40b7-8f81-7ea967131eb0",
   "metadata": {},
   "outputs": [],
   "source": []
  },
  {
   "cell_type": "markdown",
   "id": "64e91cf2-f5f7-45d0-9761-ec79e35cd348",
   "metadata": {},
   "source": [
    "# Select stats from dfAttackMaster\n",
    "\n",
    "Revelevant stats from attacks:\n",
    "\n",
    "* Number of attacks per block OK\n",
    "* 'GasUsed' per block OK\n",
    "* Gas fee per block: Product from 'gasUsed' and 'effective_gas_price' OK\n",
    "* Minimum 'trans_gasPrice_Gwei' per block OK\n",
    "* Maximum 'trans_gasPrice_Gwei' per block OK\n",
    "* Average 'trans_gasPrice_Gwei' per block OK\n"
   ]
  },
  {
   "cell_type": "markdown",
   "id": "ddae5a1d-b798-4aa8-8541-1204cebbe450",
   "metadata": {},
   "source": [
    "## Add 'GasFee' column to dfAttackMaster"
   ]
  },
  {
   "cell_type": "code",
   "execution_count": null,
   "id": "6adfbb11-0fc0-4d67-bcfc-e08bca35bf92",
   "metadata": {},
   "outputs": [],
   "source": [
    "dfAttackMaster['GasFee_Gwei'] = dfAttackMaster['gasUsed']*dfAttackMaster['trans_gasPrice_Gwei']"
   ]
  },
  {
   "cell_type": "code",
   "execution_count": null,
   "id": "2b6f7780-6ba4-4814-a917-6edaf37b9670",
   "metadata": {},
   "outputs": [],
   "source": [
    "dfAttackMaster['GasFee_ETH'] = (dfAttackMaster['gasUsed']*dfAttackMaster['trans_gasPrice_Gwei'])/1000000000"
   ]
  },
  {
   "cell_type": "code",
   "execution_count": null,
   "id": "b003b4ed-c99d-4bda-83fa-8ef4c2016f62",
   "metadata": {},
   "outputs": [],
   "source": [
    "#Check for outlier: All good\n",
    "dfAttackMaster.sort_values('GasFee_Gwei', ascending = False).head(5)\n",
    "#dfAttackMaster[dfAttackMaster['GasFee_Gwei'] == dfAttackMaster['GasFee_Gwei'].max()]"
   ]
  },
  {
   "cell_type": "markdown",
   "id": "8e417276-b77f-41ee-92d1-271964100d25",
   "metadata": {},
   "source": [
    "## Add 'TotalgasFeePerBlock' column to MEV_final"
   ]
  },
  {
   "cell_type": "code",
   "execution_count": null,
   "id": "9ed25045-ec7b-4c24-95f9-113642e9f788",
   "metadata": {},
   "outputs": [],
   "source": [
    "dfGasFeeSum"
   ]
  },
  {
   "cell_type": "code",
   "execution_count": null,
   "id": "7de69603-c1ec-4243-8993-db8add4de570",
   "metadata": {},
   "outputs": [],
   "source": [
    "GasFeePerBlock = dfGasFeeSum[['block_number','total_gasFee_Gwei', 'total_gasFee_ETH']]\n",
    "dfMaster = dfMaster.merge(GasFeePerBlock, how = 'left', on = 'block_number' )"
   ]
  },
  {
   "cell_type": "code",
   "execution_count": null,
   "id": "58e9faa8-58e8-4455-96f1-bed128058574",
   "metadata": {},
   "outputs": [],
   "source": [
    "dfMaster"
   ]
  },
  {
   "cell_type": "code",
   "execution_count": null,
   "id": "c20d1c61-db56-45bb-845c-c4e2c38a1afd",
   "metadata": {},
   "outputs": [],
   "source": [
    "#Check\n",
    "print(\n",
    "dfMaster['total_gasFee_Gwei'].isna().sum(),\n",
    "dfMaster['total_gasFee_ETH'].isna().sum())"
   ]
  },
  {
   "cell_type": "markdown",
   "id": "a903265e-ca20-4fee-b09d-0a852c11b558",
   "metadata": {},
   "source": [
    "## Add GasFee_Gwei per block to gas data"
   ]
  },
  {
   "cell_type": "code",
   "execution_count": null,
   "id": "6a8335f3-0fc1-4603-9596-b1f63c241dd5",
   "metadata": {},
   "outputs": [],
   "source": [
    "attacks_GasFee_Gwei = dfAttackMaster.groupby(['block_number'])['GasFee_Gwei'].sum()\n"
   ]
  },
  {
   "cell_type": "code",
   "execution_count": null,
   "id": "4413f5a4-17f6-487f-aa2f-61d9d9f2d2a8",
   "metadata": {},
   "outputs": [],
   "source": [
    "dfMaster = dfMaster.merge(attacks_GasFee_Gwei, how = 'left', on = 'block_number' )\n",
    "dfMaster = dfMaster.rename(columns={'GasFee_Gwei':'attacks_GasFee_Gwei'})"
   ]
  },
  {
   "cell_type": "code",
   "execution_count": null,
   "id": "3134fd3e-5eb1-4fe2-b250-0baa96bbc596",
   "metadata": {},
   "outputs": [],
   "source": [
    "dfMaster['attacks_GasFee_Gwei'] = dfMaster['attacks_GasFee_Gwei'].replace(np.nan, 0)\n",
    "dfMaster['attacks_GasFee_Gwei'].isna().sum()\n"
   ]
  },
  {
   "cell_type": "code",
   "execution_count": null,
   "id": "e39de824-4aa3-4e00-968b-df0cb62d2767",
   "metadata": {},
   "outputs": [],
   "source": [
    "dfAttackMaster[dfAttackMaster.block_number == 12158802]\n",
    "# 1.027575e+08"
   ]
  },
  {
   "cell_type": "code",
   "execution_count": null,
   "id": "60fac0ed-00af-4c0f-a7b7-645e0c22c6c1",
   "metadata": {},
   "outputs": [],
   "source": [
    "dfMaster"
   ]
  },
  {
   "cell_type": "markdown",
   "id": "0fdfa9f1-1976-4897-9935-bff592da40b5",
   "metadata": {},
   "source": [
    "## Add 'GasUsed' from Attacks per block"
   ]
  },
  {
   "cell_type": "code",
   "execution_count": null,
   "id": "26ecdf4a-c352-46c1-bd2f-85f3a071291f",
   "metadata": {},
   "outputs": [],
   "source": [
    "attacks_GasUsed = dfAttackMaster.groupby(['block_number'])['gasUsed'].sum()"
   ]
  },
  {
   "cell_type": "code",
   "execution_count": null,
   "id": "8a86b1ec-ec8e-4c39-a870-cd5f38fdf6b2",
   "metadata": {},
   "outputs": [],
   "source": [
    "dfMaster = dfMaster.merge(attacks_GasUsed, how = 'left', on = 'block_number' )\n",
    "dfMaster = dfMaster.rename(columns={'gasUsed':'attacks_GasUsed'})"
   ]
  },
  {
   "cell_type": "code",
   "execution_count": null,
   "id": "56aa9e38-d7a1-4759-b056-5c8fb54c5fed",
   "metadata": {},
   "outputs": [],
   "source": [
    "dfMaster['attacks_GasUsed'] = dfMaster['attacks_GasUsed'].replace(np.nan, 0)\n",
    "dfMaster['attacks_GasUsed'].isna().sum()"
   ]
  },
  {
   "cell_type": "markdown",
   "id": "edfe9e06-a207-4a6d-91be-fa2a2d87a6ae",
   "metadata": {},
   "source": [
    "## Add Number of attacks per block"
   ]
  },
  {
   "cell_type": "code",
   "execution_count": null,
   "id": "d79a5ee8-43ac-4a12-929e-6e9024835565",
   "metadata": {},
   "outputs": [],
   "source": [
    "NrAttacks = dfAttackMaster.groupby(['block_number'])['Attack_UID'].nunique()\n",
    "NrAttacks = NrAttacks.rename('AttackCount')"
   ]
  },
  {
   "cell_type": "code",
   "execution_count": null,
   "id": "097fef20-cca9-4aaf-a5fa-ccbfe34fd5ef",
   "metadata": {},
   "outputs": [],
   "source": [
    "dfMaster = dfMaster.merge(NrAttacks, how = 'left', on = 'block_number' )"
   ]
  },
  {
   "cell_type": "code",
   "execution_count": null,
   "id": "3f8e46aa-16f2-4e32-bcaf-26662a55c088",
   "metadata": {},
   "outputs": [],
   "source": [
    "dfMaster['AttackCount'] = dfMaster['AttackCount'].replace(np.nan, 0)\n",
    "dfMaster['AttackCount'].isna().sum()"
   ]
  },
  {
   "cell_type": "markdown",
   "id": "63aae05a-00c8-43d7-b292-3ed862abd430",
   "metadata": {},
   "source": [
    "## Add Number of Proxy Attacks and proxy transactions invovled in attacks per block\n"
   ]
  },
  {
   "cell_type": "code",
   "execution_count": null,
   "id": "c7765219-d05c-4643-abab-3c2c55daecbd",
   "metadata": {},
   "outputs": [],
   "source": [
    "# add proxy transaction count\n",
    "NrProxy = dfAttackMaster.groupby(['block_number'])['ProxyFlag'].sum()\n",
    "dfMaster = dfMaster.merge(NrProxy, how = 'left', on = 'block_number' )\n",
    "dfMaster = dfMaster.rename(columns={'ProxyFlag':'ProxyTransactions_Count'})"
   ]
  },
  {
   "cell_type": "code",
   "execution_count": null,
   "id": "eaaa55d3-d5de-4c88-89ef-b8b1a5d8864a",
   "metadata": {},
   "outputs": [],
   "source": [
    "dfMaster['ProxyTransactions_Count'] = dfMaster['ProxyTransactions_Count'].replace(np.nan, 0)\n",
    "dfMaster['ProxyTransactions_Count'].isna().sum()"
   ]
  },
  {
   "cell_type": "code",
   "execution_count": null,
   "id": "1211f72d-fd39-481b-8949-18d489447b4e",
   "metadata": {},
   "outputs": [],
   "source": [
    "dfMaster"
   ]
  },
  {
   "cell_type": "code",
   "execution_count": null,
   "id": "f4ab8fbf-190e-48b4-8d79-da3c76da7d00",
   "metadata": {},
   "outputs": [],
   "source": [
    "# add checks"
   ]
  },
  {
   "cell_type": "code",
   "execution_count": null,
   "id": "7d5fa3e3-b632-4ef5-8b2f-c52e27cd1f02",
   "metadata": {},
   "outputs": [],
   "source": [
    "tempProxyCount = dfAttackMaster.groupby('Attack_UID')['ProxyFlag'].apply(lambda x: x[x == 1].count())"
   ]
  },
  {
   "cell_type": "code",
   "execution_count": null,
   "id": "da5a1d88-8a5b-47bf-a76f-1b93c9d28a39",
   "metadata": {},
   "outputs": [],
   "source": [
    "tempProxyCount.value_counts()"
   ]
  },
  {
   "cell_type": "code",
   "execution_count": null,
   "id": "fc987fda-9f15-4a2d-b203-498933cb23b1",
   "metadata": {},
   "outputs": [],
   "source": [
    "dfAttackMaster.groupby(['Attack_UID'])['ProxyFlag'].sum().value_counts()"
   ]
  },
  {
   "cell_type": "code",
   "execution_count": null,
   "id": "dbdd9061-17b1-4492-9989-aa23eed4fb69",
   "metadata": {},
   "outputs": [],
   "source": [
    "(dfAttackMaster.groupby(['Attack_UID'])['ProxyFlag'].sum() % 2).value_counts()"
   ]
  },
  {
   "cell_type": "code",
   "execution_count": null,
   "id": "4bdae2bf-c7ed-46b2-b03f-0f930fce090c",
   "metadata": {},
   "outputs": [],
   "source": [
    "# Check if always to observations per attack\n",
    "dfAttackMaster[\"Attack_UID\"].value_counts().mean() == 2\n"
   ]
  },
  {
   "cell_type": "code",
   "execution_count": null,
   "id": "84533bb8-4e75-410a-896e-7290fd5a04f7",
   "metadata": {},
   "outputs": [],
   "source": [
    "# add proxy attacks count (attacks per block using at least 1 proxy transaction)\n",
    "NrProxyAttack = dfAttackMaster.groupby(['block_number'])['ProxyAttackUID'].sum() / 2\n",
    "dfMaster = dfMaster.merge(NrProxyAttack, how = 'left', on = 'block_number' )\n",
    "dfMaster = dfMaster.rename(columns={'ProxyAttackUID':'ProxyAttacks_Count'})\n"
   ]
  },
  {
   "cell_type": "code",
   "execution_count": null,
   "id": "117020e8-8432-43a7-917b-9fb147c1d52e",
   "metadata": {},
   "outputs": [],
   "source": [
    "dfMaster['ProxyAttacks_Count'] = dfMaster['ProxyAttacks_Count'].replace(np.nan, 0)\n",
    "dfMaster['ProxyAttacks_Count'].isna().sum()"
   ]
  },
  {
   "cell_type": "code",
   "execution_count": null,
   "id": "8e1d3204-a81d-4722-95ca-04ae126ead3a",
   "metadata": {},
   "outputs": [],
   "source": [
    "dfAttackMaster[\"Attack_UID\"].nunique()"
   ]
  },
  {
   "cell_type": "code",
   "execution_count": null,
   "id": "513640a7-6f21-4a43-a7e9-847352c8e2d2",
   "metadata": {},
   "outputs": [],
   "source": [
    "dfMaster[\"ProxyAttacks_Count\"].value_counts()"
   ]
  },
  {
   "cell_type": "code",
   "execution_count": null,
   "id": "bb1324fe-efae-43e0-8793-245b540e6101",
   "metadata": {},
   "outputs": [],
   "source": [
    "dfMaster[\"ProxyAttacks_Count\"].sum() == (dfMaster[\"AttackCount\"].sum()-50475)"
   ]
  },
  {
   "cell_type": "code",
   "execution_count": null,
   "id": "9189174c-44eb-4ae7-9be9-caba86713bf3",
   "metadata": {},
   "outputs": [],
   "source": [
    "dfMaster[\"AttackCount\"].sum()"
   ]
  },
  {
   "cell_type": "code",
   "execution_count": null,
   "id": "c4c4653f-7bbc-4f4a-90bc-9c0453801afc",
   "metadata": {},
   "outputs": [],
   "source": [
    "dfMaster[\"ProxyAttacks_Count\"].value_counts()"
   ]
  },
  {
   "cell_type": "code",
   "execution_count": null,
   "id": "736dc35b-9d59-4116-8a81-0d93e2d6e86f",
   "metadata": {},
   "outputs": [],
   "source": [
    "# add share of proxy attack Vs total attacks per block"
   ]
  },
  {
   "cell_type": "code",
   "execution_count": null,
   "id": "3321109d-9f01-40ac-b491-1c6539346919",
   "metadata": {},
   "outputs": [],
   "source": [
    "dfMaster['ProxyAttack_Share'] = dfMaster['ProxyAttacks_Count']/dfMaster[\"AttackCount\"]"
   ]
  },
  {
   "cell_type": "code",
   "execution_count": null,
   "id": "0777c0cd-fca8-4a47-a8e9-b62e8cf6f407",
   "metadata": {},
   "outputs": [],
   "source": [
    "dfMaster['ProxyAttack_Share'] = dfMaster['ProxyAttack_Share'].replace(np.nan, 0)\n",
    "dfMaster['ProxyAttack_Share'].isna().sum()"
   ]
  },
  {
   "cell_type": "code",
   "execution_count": null,
   "id": "44d5f100-599a-4a8d-8a04-e7c297e72a2a",
   "metadata": {},
   "outputs": [],
   "source": [
    "dfMaster"
   ]
  },
  {
   "cell_type": "markdown",
   "id": "335bfa03-93eb-41b5-b5c3-8106230540c0",
   "metadata": {},
   "source": [
    "## Add Minimum 'trans_gasPrice_Gwei' per block"
   ]
  },
  {
   "cell_type": "code",
   "execution_count": null,
   "id": "fc42fc58-1c5e-4104-b5c6-bc32f73da147",
   "metadata": {},
   "outputs": [],
   "source": [
    "attacks_gasPrice_min = dfAttackMaster.groupby(['block_number'])['trans_gasPrice_Gwei'].min()\n",
    "attacks_gasPrice_min = attacks_gasPrice_min.rename('attacks_gasPrice_min')"
   ]
  },
  {
   "cell_type": "code",
   "execution_count": null,
   "id": "5ffba060-f61e-48f0-af2a-94c30a9aee9b",
   "metadata": {},
   "outputs": [],
   "source": [
    "dfMaster = dfMaster.merge(attacks_gasPrice_min, how = 'left', on = 'block_number' )"
   ]
  },
  {
   "cell_type": "code",
   "execution_count": null,
   "id": "57095e6a-5bb9-4886-a526-3e1aaebdb5c5",
   "metadata": {},
   "outputs": [],
   "source": [
    "dfMaster['attacks_gasPrice_min'] = dfMaster['attacks_gasPrice_min'].replace(np.nan, 0)\n",
    "dfMaster['attacks_gasPrice_min'].isna().sum()"
   ]
  },
  {
   "cell_type": "markdown",
   "id": "1839627f-492a-45b2-adf9-af729d2978a8",
   "metadata": {},
   "source": [
    "## Add Maximum 'trans_gasPrice_Gwei' per block\n"
   ]
  },
  {
   "cell_type": "code",
   "execution_count": null,
   "id": "adac5e8f-73a1-4aeb-9fc2-d8eae35d7685",
   "metadata": {},
   "outputs": [],
   "source": [
    "attacks_gasPrice_max = dfAttackMaster.groupby(['block_number'])['trans_gasPrice_Gwei'].max()\n",
    "attacks_gasPrice_max = attacks_gasPrice_max.rename('attacks_gasPrice_max')"
   ]
  },
  {
   "cell_type": "code",
   "execution_count": null,
   "id": "5193aaa7-e19c-4e15-8ba2-e83bdd630767",
   "metadata": {},
   "outputs": [],
   "source": [
    "dfMaster = dfMaster.merge(attacks_gasPrice_max, how = 'left', on = 'block_number' )"
   ]
  },
  {
   "cell_type": "code",
   "execution_count": null,
   "id": "e8a8343f-6eaa-427e-a772-b118c9653068",
   "metadata": {},
   "outputs": [],
   "source": [
    "dfMaster['attacks_gasPrice_max'] = dfMaster['attacks_gasPrice_max'].replace(np.nan, 0)\n",
    "dfMaster['attacks_gasPrice_max'].isna().sum()"
   ]
  },
  {
   "cell_type": "markdown",
   "id": "45c0916b-fdf5-49b4-8ec1-2deefaa19909",
   "metadata": {},
   "source": [
    "## Add Average 'trans_gasPrice_Gwei' per block"
   ]
  },
  {
   "cell_type": "code",
   "execution_count": null,
   "id": "13a8e3d0-8525-49c2-aee8-6a84e45eac3b",
   "metadata": {},
   "outputs": [],
   "source": [
    "attacks_gasPrice_avg = dfAttackMaster.groupby(['block_number'])['trans_gasPrice_Gwei'].mean() # adjusted to mean\n",
    "attacks_gasPrice_avg = attacks_gasPrice_avg.rename('attacks_gasPrice_avg')"
   ]
  },
  {
   "cell_type": "code",
   "execution_count": null,
   "id": "68ab75a6-8c45-4ecb-8c77-ced59275ae1c",
   "metadata": {},
   "outputs": [],
   "source": [
    "dfMaster = dfMaster.merge(attacks_gasPrice_avg, how = 'left', on = 'block_number' )"
   ]
  },
  {
   "cell_type": "code",
   "execution_count": null,
   "id": "1352adfc-6595-4e75-901a-cf0956f8ff23",
   "metadata": {},
   "outputs": [],
   "source": [
    "dfMaster['attacks_gasPrice_avg'] = dfMaster['attacks_gasPrice_avg'].replace(np.nan, 0)\n",
    "dfMaster['attacks_gasPrice_avg'].isna().sum()"
   ]
  },
  {
   "cell_type": "markdown",
   "id": "c03cc003-8e5b-4d28-92ab-7c38d07848db",
   "metadata": {},
   "source": [
    "# Add control variables"
   ]
  },
  {
   "cell_type": "markdown",
   "id": "09d5ab75-4aef-4dde-83b2-f566da1244cb",
   "metadata": {},
   "source": [
    "## ETH price (change) per block\n",
    "\n",
    "* First block: 10093070 equals May 19, 2020 12:00 AM UTC\n",
    "* Last block: 12500188 equals  May 24, 2021 11:59 PM UTC\n",
    "\n",
    "* original ETH price data set was filtered for dates in scope and saved as  'ETHUSD_scope.par'"
   ]
  },
  {
   "cell_type": "markdown",
   "id": "e5131f98-60a5-4ba4-8994-ec62e865a212",
   "metadata": {},
   "source": [
    "### Reading ETH prices from Kraken"
   ]
  },
  {
   "cell_type": "code",
   "execution_count": null,
   "id": "03e16353-686f-46ad-994a-ac254057b89f",
   "metadata": {},
   "outputs": [],
   "source": [
    "#dfETH = pd.read_csv('/Volumes/Extreme SSD/97_FinalSet/00_Archive/ETHUSD_full.csv', header = None, names = ['ts', 'price_USD', 'volume_ETh'])\n"
   ]
  },
  {
   "cell_type": "code",
   "execution_count": null,
   "id": "354f3f73-8f0a-4e74-b004-9129a771d757",
   "metadata": {},
   "outputs": [],
   "source": [
    "#dfETH['ts'] = pd.to_datetime(dfETH['ts'],unit='s')"
   ]
  },
  {
   "cell_type": "code",
   "execution_count": null,
   "id": "1fe75aba-54fa-4fd7-a4e9-4acd154fa5e4",
   "metadata": {},
   "outputs": [],
   "source": [
    "#dfETH = dfETH[(dfETH['ts'] >= '2020-05-18 00:00:00') & (dfETH['ts'] <= '2021-05-26 00:00:00')]"
   ]
  },
  {
   "cell_type": "code",
   "execution_count": null,
   "id": "9cff4620-96c5-4d8b-a989-af00e61f12df",
   "metadata": {},
   "outputs": [],
   "source": [
    "#dfETH.to_parquet(\"/Volumes/Extreme SSD/97_FinalSet/ETHUSD_scope.par\")"
   ]
  },
  {
   "cell_type": "code",
   "execution_count": null,
   "id": "62ee1ad0-b0da-41c2-8a81-d3659d878f7b",
   "metadata": {},
   "outputs": [],
   "source": [
    "# Reading ETH prices from prepared EETH Kraken file\n",
    "dfETH = pd.read_parquet(\"/Volumes/Extreme SSD/97_FinalSet/ETHUSD_scope.par\")\n"
   ]
  },
  {
   "cell_type": "code",
   "execution_count": null,
   "id": "b570e985-b934-442e-bbc2-d2ef2dba0b52",
   "metadata": {},
   "outputs": [],
   "source": [
    "dfETH = dfETH.sort_values('ts')"
   ]
  },
  {
   "cell_type": "code",
   "execution_count": null,
   "id": "7a358b23-73d7-42f1-9c88-25cb4233c469",
   "metadata": {},
   "outputs": [],
   "source": [
    "dfETH = dfETH.reset_index()\n"
   ]
  },
  {
   "cell_type": "markdown",
   "id": "42e6e87c-c70e-449e-8ce4-32756ebe4584",
   "metadata": {},
   "source": [
    "### Reading blockInfo from BQ with control variables"
   ]
  },
  {
   "cell_type": "code",
   "execution_count": null,
   "id": "9c1e9514-20b5-49b4-8296-7fb2bdae5990",
   "metadata": {},
   "outputs": [],
   "source": [
    "dfblockInfo = pd.read_csv('/Volumes/Extreme SSD/97_FinalSet/MEV_blockInfo_v1.csv')"
   ]
  },
  {
   "cell_type": "code",
   "execution_count": null,
   "id": "8644db40-cb6d-4f79-b3c5-097fc0b1e8c5",
   "metadata": {},
   "outputs": [],
   "source": [
    "dfblockInfo['timestamp'] = dfblockInfo['timestamp'].str.replace(r' UTC$', '')"
   ]
  },
  {
   "cell_type": "code",
   "execution_count": null,
   "id": "2f8f974a-a079-4c90-bbfb-6d07b62f309a",
   "metadata": {},
   "outputs": [],
   "source": [
    "dfblockInfo['timestamp'] = pd.to_datetime(dfblockInfo['timestamp'])"
   ]
  },
  {
   "cell_type": "code",
   "execution_count": null,
   "id": "acd68960-187f-4c1a-b10e-40523be584b1",
   "metadata": {},
   "outputs": [],
   "source": [
    "dfblockInfo = dfblockInfo.sort_values('timestamp')"
   ]
  },
  {
   "cell_type": "code",
   "execution_count": null,
   "id": "15a40616-f2b7-4691-bc4f-78cb40253447",
   "metadata": {},
   "outputs": [],
   "source": [
    "dfblockInfo['price_USD'] = 0\n",
    "dfblockInfo['ts_EthPrice'] = 0\n"
   ]
  },
  {
   "cell_type": "code",
   "execution_count": null,
   "id": "dc7a75bb-7e83-47a8-ba33-4c1bd3538ca5",
   "metadata": {},
   "outputs": [],
   "source": [
    "dfblockInfo = dfblockInfo.reset_index()"
   ]
  },
  {
   "cell_type": "code",
   "execution_count": null,
   "id": "0c2dbd89-4181-4d6c-841f-c860cb45fd70",
   "metadata": {},
   "outputs": [],
   "source": [
    "dfblockInfo"
   ]
  },
  {
   "cell_type": "code",
   "execution_count": null,
   "id": "64995df2-683e-4024-9a2f-8e2053aa24ae",
   "metadata": {},
   "outputs": [],
   "source": [
    "## figuring out how to select the ETH prices closest to the timestamp of the block and add it to dfblockInfo"
   ]
  },
  {
   "cell_type": "code",
   "execution_count": null,
   "id": "3436bfe5-ffe1-4329-8eff-d714b2125880",
   "metadata": {},
   "outputs": [],
   "source": [
    "dfblockInfo['timestamp'].iloc[2407118]"
   ]
  },
  {
   "cell_type": "code",
   "execution_count": null,
   "id": "67bb98e5-201a-423a-b7c3-4958da8e4356",
   "metadata": {},
   "outputs": [],
   "source": [
    "# testing range of loop\n",
    "range(len(dfblockInfo))\n",
    "#dfblockInfo['block_number'].max()\n",
    "dfblockInfo.iloc[2407119-1]"
   ]
  },
  {
   "cell_type": "code",
   "execution_count": null,
   "id": "6f51041e-b15d-4123-8faa-174d29edd899",
   "metadata": {},
   "outputs": [],
   "source": [
    "range(len(dfblockInfo)-1)"
   ]
  },
  {
   "cell_type": "code",
   "execution_count": null,
   "id": "ae7d96c9-7dd3-4482-b7f3-1b197f7ae638",
   "metadata": {},
   "outputs": [],
   "source": [
    "## Example code to find closest timestamp in ETH price data to block timestamp and adding ETh price to dfblockInfo\n",
    "#dfblockInfo['price_USD'].iloc[2407119] = dfETH['price_USD'].iloc[dfETH.ts.searchsorted(dfblockInfo['timestamp'].iloc[2407119])]\n",
    "#dfblockInfo['ts_EthPrice'].iloc[2407119] = dfETH['ts'].iloc[dfETH.ts.searchsorted(dfblockInfo['timestamp'].iloc[2407119])]"
   ]
  },
  {
   "cell_type": "code",
   "execution_count": null,
   "id": "2ea560cd-8ae6-463a-9555-8db3f7c19f81",
   "metadata": {},
   "outputs": [],
   "source": [
    "for i in range(len(dfblockInfo)-1):\n",
    "    dfblockInfo['price_USD'].iloc[i] = dfETH['price_USD'].iloc[dfETH.ts.searchsorted(dfblockInfo['timestamp'].iloc[i])]\n",
    "    dfblockInfo['ts_EthPrice'].iloc[i] = dfETH['ts'].iloc[dfETH.ts.searchsorted(dfblockInfo['timestamp'].iloc[i])]"
   ]
  },
  {
   "cell_type": "code",
   "execution_count": null,
   "id": "e7a4a698-9cc8-4a6f-ab33-c86af2a3d80e",
   "metadata": {},
   "outputs": [],
   "source": [
    "# Adding values manually for last entry, because loop doesnt (range issue?)\n",
    "dfblockInfo['price_USD'].iloc[2407118] = dfETH['price_USD'].iloc[dfETH.ts.searchsorted(dfblockInfo['timestamp'].iloc[2407118])]\n",
    "dfblockInfo['ts_EthPrice'].iloc[2407118] = dfETH['ts'].iloc[dfETH.ts.searchsorted(dfblockInfo['timestamp'].iloc[2407118])]"
   ]
  },
  {
   "cell_type": "code",
   "execution_count": null,
   "id": "434af8d6-27c6-439a-9b7a-6f55a60ab19f",
   "metadata": {},
   "outputs": [],
   "source": [
    "# Example\n",
    "dfETH[dfETH['ts']>='2021-05-24 23:59:51']"
   ]
  },
  {
   "cell_type": "code",
   "execution_count": null,
   "id": "ebfb9404-e1ac-4ef8-92de-febae61f82e1",
   "metadata": {},
   "outputs": [],
   "source": [
    "#Check\n",
    "dfblockInfo[dfblockInfo['price_USD']==0]"
   ]
  },
  {
   "cell_type": "markdown",
   "id": "7ca89e0c-8cf3-45a3-b888-19e5735b64f5",
   "metadata": {},
   "source": [
    "### Add price changes"
   ]
  },
  {
   "cell_type": "code",
   "execution_count": null,
   "id": "e87c3a19-e880-45ea-b369-e3713fade5d0",
   "metadata": {},
   "outputs": [],
   "source": [
    "dfblockInfo.iloc[0]\n",
    "#dfblockInfo.dtypes\n",
    "#dfblockInfo.columns"
   ]
  },
  {
   "cell_type": "code",
   "execution_count": null,
   "id": "170ebf98-985a-4642-8cf4-e5f38120482d",
   "metadata": {},
   "outputs": [],
   "source": [
    "# Adding difference column\n",
    "dfblockInfo['price_USD_delta'] = dfblockInfo['price_USD'].diff()"
   ]
  },
  {
   "cell_type": "code",
   "execution_count": null,
   "id": "471e3e59-8be5-4712-94c7-e3db275e3a2a",
   "metadata": {},
   "outputs": [],
   "source": [
    "# replace leading Na value\n",
    "dfblockInfo['price_USD_delta'] = dfblockInfo['price_USD_delta'].replace(np.nan, 0)\n",
    "dfblockInfo['price_USD_delta'].isna().sum()"
   ]
  },
  {
   "cell_type": "code",
   "execution_count": null,
   "id": "7499402e-545d-4003-8f11-ae902efa951e",
   "metadata": {},
   "outputs": [],
   "source": [
    "dfblockInfo.head(10)"
   ]
  },
  {
   "cell_type": "code",
   "execution_count": null,
   "id": "096635f0-05ec-409e-9450-68c59098d519",
   "metadata": {},
   "outputs": [],
   "source": []
  },
  {
   "cell_type": "markdown",
   "id": "0032e11f-5a33-4aa1-afef-30f2d9618e18",
   "metadata": {},
   "source": [
    "### Add moving average + time deltas "
   ]
  },
  {
   "cell_type": "code",
   "execution_count": null,
   "id": "fd205578-f389-41c3-aa1f-ba6c25ccc59d",
   "metadata": {},
   "outputs": [],
   "source": [
    "# add time delta\n",
    "dfblockInfo['time_delta'] = dfblockInfo['timestamp'].diff()\n",
    "dfblockInfo['time_delta'] = dfblockInfo['time_delta'].replace(np.nan, 0)\n",
    "dfblockInfo['time_delta'].isna().sum()"
   ]
  },
  {
   "cell_type": "code",
   "execution_count": null,
   "id": "c29192a5-429e-4655-ac9a-c644e2ed88b6",
   "metadata": {},
   "outputs": [],
   "source": [
    "# Convert first row to timedelta-object\n",
    "dfblockInfo['time_delta'][0] = pd.to_timedelta(dfblockInfo['time_delta'][0])"
   ]
  },
  {
   "cell_type": "code",
   "execution_count": null,
   "id": "bc90dc47-3ad9-49e8-ad81-ec2d46bae02c",
   "metadata": {},
   "outputs": [],
   "source": [
    "# Convert timedelta-object to seconds\n",
    "dfblockInfo['time_delta'] = dfblockInfo['time_delta'].apply(lambda x: x.total_seconds())\n",
    "#dfMaster['time_delta'][1].total_seconds()"
   ]
  },
  {
   "cell_type": "code",
   "execution_count": null,
   "id": "fb9f4caa-529d-46e2-bae8-5d5285392563",
   "metadata": {},
   "outputs": [],
   "source": [
    "# moving avg over 5 blocks\n",
    "dfblockInfo['price_USD_MA5'] = dfblockInfo['price_USD_delta'].rolling(window=5,min_periods=1).mean()"
   ]
  },
  {
   "cell_type": "code",
   "execution_count": null,
   "id": "83ef7e32-e6e9-4bf8-b287-a5451e16b315",
   "metadata": {},
   "outputs": [],
   "source": [
    "# set timestamp as index for .rolling()\n",
    "dfblockInfo['timestamp_index'] = dfblockInfo['timestamp']\n",
    "dfblockInfo = dfblockInfo.set_index(\"timestamp_index\")\n"
   ]
  },
  {
   "cell_type": "code",
   "execution_count": null,
   "id": "cff37a25-759e-47c3-a337-f0346c25032e",
   "metadata": {},
   "outputs": [],
   "source": [
    "# moving avg over 30 minutes\n",
    "dfblockInfo['price_USD_MA30min'] = dfblockInfo.rolling(\"30T\" ,min_periods=1).price_USD_delta.mean() #  '30T' or '1800s' for 30 minutes window"
   ]
  },
  {
   "cell_type": "code",
   "execution_count": null,
   "id": "2d08c72f-321f-454e-b8b8-a00aead23f2a",
   "metadata": {},
   "outputs": [],
   "source": [
    "# moving avg over 24h \n",
    "dfblockInfo['price_USD_MA24h'] = dfblockInfo.rolling(\"1440T\" ,min_periods=1).price_USD_delta.mean() "
   ]
  },
  {
   "cell_type": "code",
   "execution_count": null,
   "id": "ed619795-0fa3-4662-b68d-1c6a6c08fe7f",
   "metadata": {},
   "outputs": [],
   "source": []
  },
  {
   "cell_type": "markdown",
   "id": "1860744f-e294-4602-84ed-a1cd3c1d4641",
   "metadata": {},
   "source": [
    "# Add controls to master"
   ]
  },
  {
   "cell_type": "code",
   "execution_count": null,
   "id": "5df95e5d-3762-4697-bf8b-cf72787d19d8",
   "metadata": {},
   "outputs": [],
   "source": [
    "dfMaster = dfMaster.merge(dfblockInfo, on = 'block_number', how = 'left') \n",
    "\n"
   ]
  },
  {
   "cell_type": "code",
   "execution_count": null,
   "id": "405d5842-f76d-44ce-9863-5780bf2ced45",
   "metadata": {},
   "outputs": [],
   "source": [
    "dfMaster = dfMaster.drop(['timestamp', 'index', 'tx' ],axis = 1)"
   ]
  },
  {
   "cell_type": "code",
   "execution_count": null,
   "id": "65458207-5438-47a7-b034-8a0825e21a2f",
   "metadata": {},
   "outputs": [],
   "source": [
    "dfMaster.head(5)"
   ]
  },
  {
   "cell_type": "code",
   "execution_count": null,
   "id": "675ea767-8140-4703-872a-d77f38255c63",
   "metadata": {},
   "outputs": [],
   "source": [
    "#type(dfMaster['ts_EthPrice_x'][1])\n",
    "type(dfMaster['ts'][1])"
   ]
  },
  {
   "cell_type": "markdown",
   "id": "e449d8ab-03b8-43f6-b8a8-afc877a4f671",
   "metadata": {},
   "source": [
    "# Save master V1"
   ]
  },
  {
   "cell_type": "code",
   "execution_count": null,
   "id": "68f9c3e0-9bd8-4809-8e88-8de3d417aa73",
   "metadata": {},
   "outputs": [],
   "source": [
    "# Save master\n",
    "# problem is timedelta type => convert to seconds or something\n",
    "#dfMaster.to_parquet(\"/Volumes/Extreme SSD/97_FinalSet/MEV_finalDataSet\", engine=\"fastparquet\")\n",
    "\n",
    "dfMaster.to_csv(\"/Volumes/Extreme SSD/97_FinalSet/MEV_finalDataSet.csv\")"
   ]
  },
  {
   "cell_type": "code",
   "execution_count": null,
   "id": "cfc83b05-0f2d-4cc8-a3ec-5c73886a92bd",
   "metadata": {},
   "outputs": [],
   "source": [
    "#dftest = pd.read_csv(\"/Volumes/Extreme SSD/97_FinalSet/MEV_finalDataSet.csv\")"
   ]
  },
  {
   "cell_type": "code",
   "execution_count": null,
   "id": "92f7fd7c-90e5-4603-ad25-fb186cad1ec8",
   "metadata": {},
   "outputs": [],
   "source": [
    "dfMaster.dtypes"
   ]
  },
  {
   "cell_type": "markdown",
   "id": "ebd64bee-b1e0-41a6-92f4-a8e97b1f7cd7",
   "metadata": {},
   "source": [
    "# Add additional variables and data prep"
   ]
  },
  {
   "cell_type": "markdown",
   "id": "7751a350-4a37-4421-90fb-05eaf01831ea",
   "metadata": {},
   "source": [
    "## Load saved Masterv1 file\n",
    "Only needed in case the code above is not run"
   ]
  },
  {
   "cell_type": "code",
   "execution_count": null,
   "id": "7720ed98-d60e-4af7-b3fb-d137f4257372",
   "metadata": {},
   "outputs": [],
   "source": [
    "# reading version incl. proxy attacks\n",
    "dfFinal = pd.read_csv(f\"/Volumes/Extreme SSD/97_FinalSet/MEV_finalDataSet.csv\")"
   ]
  },
  {
   "cell_type": "code",
   "execution_count": null,
   "id": "d7bd869c-19f3-4009-87be-382fb99ed160",
   "metadata": {},
   "outputs": [],
   "source": [
    "dfFinal.dtypes\n"
   ]
  },
  {
   "cell_type": "code",
   "execution_count": null,
   "id": "9bcffeec-8976-4bec-9b86-a2dda9b390a4",
   "metadata": {},
   "outputs": [],
   "source": [
    "dfFinal = dfFinal.drop(['Unnamed: 0'] ,axis =1)"
   ]
  },
  {
   "cell_type": "code",
   "execution_count": null,
   "id": "1870e515-bc4d-4c50-8f41-758225901f42",
   "metadata": {},
   "outputs": [],
   "source": [
    "dfFinal.head(2)"
   ]
  },
  {
   "cell_type": "markdown",
   "id": "de7ae6c1-9af3-47ef-b14a-fe140751b354",
   "metadata": {},
   "source": [
    "## Add transaction count per block as control"
   ]
  },
  {
   "cell_type": "code",
   "execution_count": null,
   "id": "7bab1c9f-d408-4336-a99f-48d7a129053b",
   "metadata": {},
   "outputs": [],
   "source": [
    "dfTransactions = pd.read_csv(f\"/Volumes/Extreme SSD/01_GasData/TransactionCountBlock_v1.csv\")"
   ]
  },
  {
   "cell_type": "code",
   "execution_count": null,
   "id": "057ff838-23f1-44e3-9080-209ca9bcdd58",
   "metadata": {},
   "outputs": [],
   "source": [
    "dfTransactions = dfTransactions.rename(columns={\"transaction_count\": \"transaction_count_block\"})"
   ]
  },
  {
   "cell_type": "code",
   "execution_count": null,
   "id": "3f9316df-dfea-41bb-9260-7e9c98b8c4b5",
   "metadata": {},
   "outputs": [],
   "source": [
    "dfTransactions"
   ]
  },
  {
   "cell_type": "code",
   "execution_count": null,
   "id": "fe5bbab5-4cef-4fbe-97ae-d1c43d3f4aeb",
   "metadata": {},
   "outputs": [],
   "source": [
    "dfFinal = dfFinal.merge(dfTransactions, on = 'block_number', how = 'left') \n",
    "\n"
   ]
  },
  {
   "cell_type": "code",
   "execution_count": null,
   "id": "d5c3e27a-47f3-4088-b49a-856080429767",
   "metadata": {},
   "outputs": [],
   "source": [
    "dfFinal['transaction_count_block'].isna().sum()"
   ]
  },
  {
   "cell_type": "markdown",
   "id": "1dd52b7e-7498-47cd-9cdb-8d27e95408e1",
   "metadata": {},
   "source": [
    "## Addtional variables"
   ]
  },
  {
   "cell_type": "code",
   "execution_count": null,
   "id": "a4052ed9-75eb-434a-8d69-2b3a823425d8",
   "metadata": {},
   "outputs": [],
   "source": [
    "# moving avg number of attacks per 10k blocks\n",
    "dfFinal['AttackCount_10k'] = dfFinal['AttackCount'].rolling(window=10000,min_periods=1).sum()"
   ]
  },
  {
   "cell_type": "code",
   "execution_count": null,
   "id": "00ac3450-df7a-43cd-b586-a2c6f3384be6",
   "metadata": {},
   "outputs": [],
   "source": [
    "# moving avg number of proxy  and shareattacks per 10k blocks\n",
    "dfFinal['ProxyAttacks_Count_10k'] = dfFinal['ProxyAttacks_Count'].rolling(window=10000,min_periods=1).sum()\n",
    "dfFinal['ProxyAttack_Share_10k'] = dfFinal['ProxyAttack_Share'].rolling(window=10000,min_periods=1).mean()"
   ]
  },
  {
   "cell_type": "code",
   "execution_count": null,
   "id": "714a6322-4260-4f6d-9c61-d9b9f5048d09",
   "metadata": {},
   "outputs": [],
   "source": [
    "# GasFee per attack\n",
    "dfFinal['attacks_GasFeePerAttack'] = dfFinal['attacks_GasFee_Gwei']/dfFinal['AttackCount']\n",
    "dfFinal['attacks_GasFeePerAttack'] = dfFinal['attacks_GasFeePerAttack'].replace(np.nan, 0)\n",
    "dfFinal['attacks_GasFeePerAttack'].isna().sum()"
   ]
  },
  {
   "cell_type": "code",
   "execution_count": null,
   "id": "79141469-7636-429c-84a8-90064b573859",
   "metadata": {},
   "outputs": [],
   "source": [
    "dfFinal['attacks_AttackGasFeeShare'] = dfFinal['attacks_GasFee_Gwei']/dfFinal['total_gasFee_Gwei']\n",
    "dfFinal['attacks_AttackGasFeeShare'] = dfFinal['attacks_AttackGasFeeShare'].replace(np.nan, 0)\n",
    "dfFinal['attacks_AttackGasFeeShare'] = dfFinal['attacks_AttackGasFeeShare'].replace(np.inf, 0)\n",
    "dfFinal['attacks_AttackGasFeeShare'].isna().sum()"
   ]
  },
  {
   "cell_type": "code",
   "execution_count": null,
   "id": "209ae12b-f3a4-462b-a630-fa1c1266cbb1",
   "metadata": {},
   "outputs": [],
   "source": [
    "# Check\n",
    "dfFinal.sort_values(by =\"attacks_AttackGasFeeShare\", ascending = False).head(5)"
   ]
  },
  {
   "cell_type": "code",
   "execution_count": null,
   "id": "58b5b2b6-dd71-4870-bd19-de6ebfbef94a",
   "metadata": {},
   "outputs": [],
   "source": [
    "dfFinal[dfFinal.block_number == 12150245]"
   ]
  },
  {
   "cell_type": "code",
   "execution_count": null,
   "id": "a52caec1-8a4f-4e7a-860d-642658016a2a",
   "metadata": {},
   "outputs": [],
   "source": [
    "dfFinal['flashbots_Flag'] = 0"
   ]
  },
  {
   "cell_type": "code",
   "execution_count": null,
   "id": "9f53b54d-f346-4f3d-b2cd-f4dd691a3be4",
   "metadata": {},
   "outputs": [],
   "source": [
    "dfFinal[dfFinal.block_number >= 12150245]"
   ]
  },
  {
   "cell_type": "code",
   "execution_count": null,
   "id": "cd53d139-ec56-4d73-9628-3febb5ff3707",
   "metadata": {},
   "outputs": [],
   "source": [
    "# add flashbots (MEV-relay) flag from 1.april onwords (Weintraub et al, 2022), block 12150245\n",
    "dfFinal.loc[dfFinal[\"block_number\"] >= 12150245, \"flashbots_Flag\"] = 1"
   ]
  },
  {
   "cell_type": "code",
   "execution_count": null,
   "id": "dc907ec3-b6e1-45da-93fa-3a00b1ae4523",
   "metadata": {},
   "outputs": [],
   "source": [
    "dfFinal['flashbots_Flag'].isna().sum()"
   ]
  },
  {
   "cell_type": "markdown",
   "id": "2d1f6ebf-e420-4f45-9a2c-91e68dfe5d71",
   "metadata": {},
   "source": [
    "Add time varibales for controls"
   ]
  },
  {
   "cell_type": "code",
   "execution_count": null,
   "id": "507e94d9-0cc0-46dc-9c38-9c3e43b4112a",
   "metadata": {},
   "outputs": [],
   "source": [
    "dfFinal['tsDT'] = pd.to_datetime(dfFinal['ts'])"
   ]
  },
  {
   "cell_type": "code",
   "execution_count": null,
   "id": "afd5ec9f-83e6-4c1f-afd9-cfb84f721abf",
   "metadata": {},
   "outputs": [],
   "source": [
    "dfFinal['Month'] = dfFinal['tsDT'].dt.month\n",
    "dfFinal['WeekNumber'] = dfFinal['tsDT'].dt.isocalendar().week\n",
    "dfFinal['Weekyday'] = dfFinal['tsDT'].dt.isocalendar().day\n",
    "dfFinal['Hour'] = dfFinal['tsDT'].dt.hour"
   ]
  },
  {
   "cell_type": "code",
   "execution_count": null,
   "id": "170d4ab5-f744-4f0a-9ce1-01b49bac036a",
   "metadata": {},
   "outputs": [],
   "source": [
    "print(\n",
    "dfFinal['tsDT'].isna().sum(),\n",
    "dfFinal['Month'].isna().sum(),\n",
    "dfFinal['WeekNumber'].isna().sum(),\n",
    "dfFinal['Weekyday'].isna().sum(),\n",
    "dfFinal['Hour'].isna().sum())"
   ]
  },
  {
   "cell_type": "code",
   "execution_count": null,
   "id": "bebef867-2c57-4468-a34e-73fc79bc66ce",
   "metadata": {},
   "outputs": [],
   "source": [
    "dfFinal"
   ]
  },
  {
   "cell_type": "markdown",
   "id": "f515d7d1-20a9-49d0-a626-d6a315f6759a",
   "metadata": {},
   "source": [
    "## Outlier handling gas prcie data (avg gas price)"
   ]
  },
  {
   "cell_type": "code",
   "execution_count": null,
   "id": "6ffb46a3-2bc5-483b-8462-208e2d0eab7b",
   "metadata": {},
   "outputs": [],
   "source": [
    "tempMean = dfFinal[dfFinal['avg_gas']<10000][\"avg_gas\"].mean()"
   ]
  },
  {
   "cell_type": "code",
   "execution_count": null,
   "id": "b70cf4be-1c29-4571-9d2e-3e3cbbc137db",
   "metadata": {},
   "outputs": [],
   "source": [
    "dfFinal.loc[(dfFinal.avg_gas>10000),'avg_gas']=dfFinal[dfFinal['avg_gas']<10000][\"avg_gas\"].mean()"
   ]
  },
  {
   "cell_type": "code",
   "execution_count": null,
   "id": "9ff5e817-2467-4348-a1b9-0664d0d8a2b2",
   "metadata": {},
   "outputs": [],
   "source": [
    "dfFinal[dfFinal['avg_gas'] == tempMean]\n",
    "#np.where( dfFinal['avg_gas'] > 10000 , '1', '0')\n",
    "#dfFinal['avg_gas'] = "
   ]
  },
  {
   "cell_type": "code",
   "execution_count": null,
   "id": "e6c6a370-ee6b-4623-b258-f76dc3f23695",
   "metadata": {},
   "outputs": [],
   "source": [
    "#check outlier\n",
    "dfFinal[dfFinal['attacks_GasFee_Gwei'] == dfFinal['attacks_GasFee_Gwei'].max()]"
   ]
  },
  {
   "cell_type": "code",
   "execution_count": null,
   "id": "bc7fa8c8-6d7a-446c-80c1-9f985006ba04",
   "metadata": {},
   "outputs": [],
   "source": [
    "32746359"
   ]
  },
  {
   "cell_type": "markdown",
   "id": "fca37285-6b36-41b2-91cd-70821f922846",
   "metadata": {},
   "source": [
    "## Save final data set"
   ]
  },
  {
   "cell_type": "code",
   "execution_count": null,
   "id": "1f928e8b-2f3b-4822-949b-4fb8c502a991",
   "metadata": {},
   "outputs": [],
   "source": [
    "dfFinal.to_csv(\"/Volumes/Extreme SSD/97_FinalSet/MEV_finalDataSet_v2.csv\")"
   ]
  },
  {
   "cell_type": "markdown",
   "id": "32cbd8bc-52a0-40a1-9d28-1d69d69c2f91",
   "metadata": {},
   "source": [
    "# EDA"
   ]
  },
  {
   "cell_type": "markdown",
   "id": "53105f26-fad3-4d50-871b-b5fff9688ae1",
   "metadata": {},
   "source": [
    "## Basic statistics"
   ]
  },
  {
   "cell_type": "code",
   "execution_count": null,
   "id": "30295d99-081d-4f58-82e3-658f42fb2ced",
   "metadata": {},
   "outputs": [],
   "source": [
    "dfTemp = dfFinal[(dfFinal['block_number'] >= 9976964) & (dfFinal['block_number'] <= 12344944)]"
   ]
  },
  {
   "cell_type": "code",
   "execution_count": null,
   "id": "2585d990-1c1a-49d6-91af-f47528c52698",
   "metadata": {},
   "outputs": [],
   "source": [
    "dfTemp['AttackCount'].sum()"
   ]
  },
  {
   "cell_type": "code",
   "execution_count": null,
   "id": "3a261434-ed62-4cbc-b051-02da1b694d45",
   "metadata": {},
   "outputs": [],
   "source": [
    "dfFinal['AttackCount'].sum()"
   ]
  },
  {
   "cell_type": "code",
   "execution_count": null,
   "id": "1e6b1083-4892-4694-a8ec-a520a4663953",
   "metadata": {},
   "outputs": [],
   "source": [
    "dfTemp.shape"
   ]
  },
  {
   "cell_type": "code",
   "execution_count": null,
   "id": "22dec73d-8d4d-40ce-837e-2261826b7da8",
   "metadata": {},
   "outputs": [],
   "source": [
    "12344944-9976964"
   ]
  },
  {
   "cell_type": "code",
   "execution_count": null,
   "id": "864db7e5-f213-4ed0-82f2-ebc07e5f52e7",
   "metadata": {},
   "outputs": [],
   "source": [
    "dfFinal['block_number'].max() - dfFinal['block_number'].min() -len(dfFinal['block_number'])"
   ]
  },
  {
   "cell_type": "code",
   "execution_count": null,
   "id": "cf1445f4-ac98-43ba-b8ae-ba3dd771eabd",
   "metadata": {},
   "outputs": [],
   "source": [
    "len(dfFinal['block_number'])"
   ]
  },
  {
   "cell_type": "markdown",
   "id": "094c4b50-52f1-4651-89d5-b2160351a5b3",
   "metadata": {},
   "source": [
    "## Seaborn and matplotlib EDA"
   ]
  },
  {
   "cell_type": "code",
   "execution_count": null,
   "id": "6d1b88ed-4aa8-4a35-be97-d8046034374f",
   "metadata": {},
   "outputs": [],
   "source": [
    "dfFinal[\"avg_gas_log\"] = np.log10(dfFinal[\"avg_gas\"])"
   ]
  },
  {
   "cell_type": "code",
   "execution_count": null,
   "id": "5f2c65b5-8c62-4aa0-8fd9-634aa48bb536",
   "metadata": {},
   "outputs": [],
   "source": [
    "\n",
    "line_Gasavg = sns.lineplot(x=\"block_number\", y=\"avg_gas\", data=dfFinal)\n",
    "line_Gasavg.set_ylim(bottom=0, top=1000)"
   ]
  },
  {
   "cell_type": "code",
   "execution_count": null,
   "id": "18174329-8aac-46c8-912e-6b1b75c49a98",
   "metadata": {},
   "outputs": [],
   "source": [
    "dfFinal[\"avg_gas\"].describe"
   ]
  },
  {
   "cell_type": "code",
   "execution_count": null,
   "id": "f69cda5b-6b3f-41f3-b9ff-8054003b441d",
   "metadata": {},
   "outputs": [],
   "source": [
    "sns.histplot(data=dfFinal, x=\"avg_gas\")"
   ]
  },
  {
   "cell_type": "code",
   "execution_count": null,
   "id": "7b0ca54b-be38-4056-988f-9d962a42592c",
   "metadata": {},
   "outputs": [],
   "source": [
    "# moving avg over 5 blocks\n",
    "dfFinal['AttackCount_10k'] = dfFinal['AttackCount'].rolling(window=10000,min_periods=1).sum()"
   ]
  },
  {
   "cell_type": "code",
   "execution_count": null,
   "id": "6ff4c4d6-7a30-4eb9-815c-ac2f0effc3e5",
   "metadata": {},
   "outputs": [],
   "source": [
    "line_attacks10k = sns.lineplot(x=\"block_number\", y=\"AttackCount_10k\", data=dfFinal)\n",
    "#line_attacks10k.set_ylim(bottom=0, top=1000)"
   ]
  },
  {
   "cell_type": "markdown",
   "id": "d2fbbfe8-adc7-4ca1-a13a-88b89a0f7bd1",
   "metadata": {},
   "source": []
  },
  {
   "cell_type": "code",
   "execution_count": null,
   "id": "65eda689-bc04-4a47-b68e-fde4c145a78c",
   "metadata": {},
   "outputs": [],
   "source": []
  },
  {
   "cell_type": "code",
   "execution_count": null,
   "id": "bd31ee41-a0bb-45b4-9436-5857ccbef95a",
   "metadata": {},
   "outputs": [],
   "source": []
  }
 ],
 "metadata": {
  "kernelspec": {
   "display_name": "Python 3 (ipykernel)",
   "language": "python",
   "name": "python3"
  },
  "language_info": {
   "codemirror_mode": {
    "name": "ipython",
    "version": 3
   },
   "file_extension": ".py",
   "mimetype": "text/x-python",
   "name": "python",
   "nbconvert_exporter": "python",
   "pygments_lexer": "ipython3",
   "version": "3.9.12"
  }
 },
 "nbformat": 4,
 "nbformat_minor": 5
}
