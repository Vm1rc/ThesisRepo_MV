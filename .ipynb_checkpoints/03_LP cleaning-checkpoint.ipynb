{
 "cells": [
  {
   "cell_type": "markdown",
   "metadata": {},
   "source": [
    "# Packages"
   ]
  },
  {
   "cell_type": "code",
   "execution_count": null,
   "metadata": {},
   "outputs": [],
   "source": [
    "import pandas as pd\n",
    "import numpy as np\n",
    "#import seaborn as sns\n",
    "#import matplotlib as plt\n",
    "import re \n"
   ]
  },
  {
   "cell_type": "markdown",
   "metadata": {},
   "source": [
    "# Import file and exploration"
   ]
  },
  {
   "cell_type": "code",
   "execution_count": null,
   "metadata": {},
   "outputs": [],
   "source": [
    "df = pd.read_csv(\"/Volumes/Extreme SSD/03_TheGraph/LP_UniswapV2_raw.csv\")"
   ]
  },
  {
   "cell_type": "code",
   "execution_count": null,
   "metadata": {},
   "outputs": [],
   "source": [
    "df.head()\n",
    "df.tail()\n",
    "df.shape\n",
    "df.info()\n",
    "df.dtypes\n",
    "df.count()\n",
    "df.describe()\n",
    "\n"
   ]
  },
  {
   "cell_type": "code",
   "execution_count": null,
   "metadata": {},
   "outputs": [],
   "source": [
    "# First Colum is repeating index values between 0-1000  from looping through the API. To be removed.\n",
    "len(df.iloc[:,0].unique())"
   ]
  },
  {
   "cell_type": "code",
   "execution_count": null,
   "metadata": {},
   "outputs": [],
   "source": [
    "# Remove first column\n",
    "dfClean = df.drop(\"Unnamed: 0\", axis =1)"
   ]
  },
  {
   "cell_type": "code",
   "execution_count": null,
   "metadata": {},
   "outputs": [],
   "source": [
    "# Checking columns for NULL values\n",
    "print(df.isnull().sum())\n",
    "print(dfClean.isnull().sum())"
   ]
  },
  {
   "cell_type": "markdown",
   "metadata": {},
   "source": [
    "# Removing Null values"
   ]
  },
  {
   "cell_type": "code",
   "execution_count": null,
   "metadata": {},
   "outputs": [],
   "source": [
    "# Null values for token0\n",
    "null0 = df[df[\"token0\"].isnull()]"
   ]
  },
  {
   "cell_type": "code",
   "execution_count": null,
   "metadata": {},
   "outputs": [],
   "source": [
    "# Null values for token1\n",
    "null1 = df[df[\"token1\"].isnull()]"
   ]
  },
  {
   "cell_type": "code",
   "execution_count": null,
   "metadata": {},
   "outputs": [],
   "source": [
    "# Cheeck position of example\n",
    "dfClean.loc[40620]"
   ]
  },
  {
   "cell_type": "code",
   "execution_count": null,
   "metadata": {},
   "outputs": [],
   "source": [
    "# Create df with rows missing values\n",
    "dfNull = null0.append(null1)"
   ]
  },
  {
   "cell_type": "code",
   "execution_count": null,
   "metadata": {},
   "outputs": [],
   "source": [
    "# Remove NULL observations\n",
    "dfClean = dfClean.drop(dfNull.iloc[:,0].index)"
   ]
  },
  {
   "cell_type": "code",
   "execution_count": null,
   "metadata": {},
   "outputs": [],
   "source": [
    "# Check result table\n",
    "print(dfClean.isnull().sum(), \"\\n\")\n",
    "\n",
    "print(\"Shape: \", dfClean.shape)"
   ]
  },
  {
   "cell_type": "markdown",
   "metadata": {},
   "source": [
    "# Cleaning table"
   ]
  },
  {
   "cell_type": "code",
   "execution_count": null,
   "metadata": {},
   "outputs": [],
   "source": [
    "# Remove commas from value strings in columns that are object-type\n",
    "for i in range(len(dfClean.columns)):\n",
    "    if (dfClean.dtypes[i]) == \"object\":\n",
    "        dfClean.iloc[:,i] = dfClean.iloc[:,i].replace(\",\", \"\", regex=True)\n",
    "        dfClean.iloc[:,i] = dfClean.iloc[:,i].replace('\"', \"\", regex=True)\n",
    "        dfClean.iloc[:,i] = dfClean.iloc[:,i].replace(r'\"', \"\", regex=True)\n",
    "        dfClean.iloc[:,i] = dfClean.iloc[:,i].replace(r'<.+>', \"\", regex=True)\n",
    "        dfClean.iloc[:,i] = dfClean.iloc[:,i].replace(\"<\", \"\", regex=True)\n",
    "        dfClean.iloc[:,i] = dfClean.iloc[:,i].replace(\">\", \"\", regex=True)\n"
   ]
  },
  {
   "cell_type": "code",
   "execution_count": null,
   "metadata": {},
   "outputs": [],
   "source": [
    "# Add flag column\n",
    "dfClean[\"UniswapV2_LP\"] = 1"
   ]
  },
  {
   "cell_type": "markdown",
   "metadata": {},
   "source": [
    "# Add UniswapV2Router Address"
   ]
  },
  {
   "cell_type": "code",
   "execution_count": null,
   "metadata": {},
   "outputs": [],
   "source": [
    "#dfClean.loc[len(dfClean.index)] = ['test', 1] \n",
    "dfTemp = {'poolId': '0x7a250d5630b4cf539739df2c5dacb4c659f2488d', 'UniswapV2_LP': 1}\n",
    "dfClean = dfClean.append(dfTemp, ignore_index = True)"
   ]
  },
  {
   "cell_type": "markdown",
   "metadata": {},
   "source": [
    "# Export as csv\n",
    "\n"
   ]
  },
  {
   "cell_type": "code",
   "execution_count": null,
   "metadata": {},
   "outputs": [],
   "source": [
    "# Export all columns from cleaned df. Doesnt work for upload to BQ. Use '_export'\n",
    "dfClean.to_csv(\"/Users/marcvendramet/Desktop/HSG/Master/MA/08_Data/04_TheGraph/LP_UniswapV2_clean.csv\""
   ]
  },
  {
   "cell_type": "code",
   "execution_count": null,
   "metadata": {},
   "outputs": [],
   "source": [
    "# Export only two columns for useabulity on BigQuery\n",
    "dfExport = dfClean[[\"poolId\", \"UniswapV2_LP\"]]"
   ]
  },
  {
   "cell_type": "code",
   "execution_count": null,
   "metadata": {},
   "outputs": [],
   "source": [
    "dfExport.to_csv(\"/Volumes/Extreme SSD/03_TheGraph/LP_UniswapV2_export.csv\", index_label = \"index\", index = True)"
   ]
  },
  {
   "cell_type": "markdown",
   "metadata": {},
   "source": [
    "## Archived: Labels not needed\n",
    "clabels = dfClean.columns.tolist()\n",
    "clabels.insert(0, \"index\")\n",
    "print(clabels)\n"
   ]
  }
 ],
 "metadata": {
  "kernelspec": {
   "display_name": "Python 3 (ipykernel)",
   "language": "python",
   "name": "python3"
  },
  "language_info": {
   "codemirror_mode": {
    "name": "ipython",
    "version": 3
   },
   "file_extension": ".py",
   "mimetype": "text/x-python",
   "name": "python",
   "nbconvert_exporter": "python",
   "pygments_lexer": "ipython3",
   "version": "3.9.12"
  }
 },
 "nbformat": 4,
 "nbformat_minor": 4
}
