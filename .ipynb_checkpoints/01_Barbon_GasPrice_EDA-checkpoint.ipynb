{
 "cells": [
  {
   "cell_type": "markdown",
   "metadata": {},
   "source": [
    "# Manage libraries\n"
   ]
  },
  {
   "cell_type": "code",
   "execution_count": 11,
   "metadata": {
    "pycharm": {
     "name": "#%%\n"
    }
   },
   "outputs": [],
   "source": [
    "import pandas as pd\n",
    "import seaborn as sns\n",
    "import matplotlib.pyplot as plt"
   ]
  },
  {
   "cell_type": "code",
   "execution_count": null,
   "metadata": {},
   "outputs": [],
   "source": []
  },
  {
   "cell_type": "markdown",
   "metadata": {},
   "source": [
    "# Gas data"
   ]
  },
  {
   "cell_type": "code",
   "execution_count": 2,
   "metadata": {},
   "outputs": [],
   "source": [
    "dfGas = pd.read_parquet(\"/Users/marcvendramet/Desktop/HSG/Master/MA/08_Data/gas_ts_block.par\", engine='pyarrow')\n",
    "dfGasCSV = dfGas.to_csv()"
   ]
  },
  {
   "cell_type": "code",
   "execution_count": 3,
   "metadata": {},
   "outputs": [],
   "source": [
    "# Export to a csv file (around 700MB)\n",
    "# dfGas.to_csv(\"/Users/marcvendramet/Desktop/HSG/Master/MA/08_Data/gas_ts_block_csv.csv\")"
   ]
  },
  {
   "cell_type": "markdown",
   "metadata": {},
   "source": [
    "## Exploration"
   ]
  },
  {
   "cell_type": "markdown",
   "metadata": {},
   "source": [
    "## Findings\n",
    "- index refers to block\n",
    "- 12423140 blocks observed\n",
    "- blocks start in 2015 (block: 46147)\n",
    "- tx = number of transactions per block\n"
   ]
  },
  {
   "cell_type": "code",
   "execution_count": 24,
   "metadata": {},
   "outputs": [
    {
     "data": {
      "text/plain": [
       "tot_gas                  19789471\n",
       "avg_gas                 16.809029\n",
       "median_gas                   21.0\n",
       "tx                            121\n",
       "ts            2017-08-17 09:20:36\n",
       "Name: 4168584, dtype: object"
      ]
     },
     "execution_count": 24,
     "metadata": {},
     "output_type": "execute_result"
    }
   ],
   "source": [
    "dfGas.head()\n",
    "dfGas.iloc[dfGas[\"avg_gas\"].idxmax()]"
   ]
  },
  {
   "cell_type": "code",
   "execution_count": 16,
   "metadata": {},
   "outputs": [
    {
     "data": {
      "text/plain": [
       "pandas.core.frame.DataFrame"
      ]
     },
     "execution_count": 16,
     "metadata": {},
     "output_type": "execute_result"
    }
   ],
   "source": [
    "type(dfGas)"
   ]
  },
  {
   "cell_type": "code",
   "execution_count": 18,
   "metadata": {},
   "outputs": [
    {
     "data": {
      "text/html": [
       "<div>\n",
       "<style scoped>\n",
       "    .dataframe tbody tr th:only-of-type {\n",
       "        vertical-align: middle;\n",
       "    }\n",
       "\n",
       "    .dataframe tbody tr th {\n",
       "        vertical-align: top;\n",
       "    }\n",
       "\n",
       "    .dataframe thead th {\n",
       "        text-align: right;\n",
       "    }\n",
       "</style>\n",
       "<table border=\"1\" class=\"dataframe\">\n",
       "  <thead>\n",
       "    <tr style=\"text-align: right;\">\n",
       "      <th></th>\n",
       "      <th>tot_gas</th>\n",
       "      <th>avg_gas</th>\n",
       "      <th>median_gas</th>\n",
       "      <th>tx</th>\n",
       "    </tr>\n",
       "  </thead>\n",
       "  <tbody>\n",
       "    <tr>\n",
       "      <th>count</th>\n",
       "      <td>1.242314e+07</td>\n",
       "      <td>1.242314e+07</td>\n",
       "      <td>1.242314e+07</td>\n",
       "      <td>1.242314e+07</td>\n",
       "    </tr>\n",
       "    <tr>\n",
       "      <th>mean</th>\n",
       "      <td>2.044811e+07</td>\n",
       "      <td>5.088429e+01</td>\n",
       "      <td>4.460539e+01</td>\n",
       "      <td>1.155945e+02</td>\n",
       "    </tr>\n",
       "    <tr>\n",
       "      <th>std</th>\n",
       "      <td>1.846975e+07</td>\n",
       "      <td>1.036140e+04</td>\n",
       "      <td>1.029067e+04</td>\n",
       "      <td>9.526101e+01</td>\n",
       "    </tr>\n",
       "    <tr>\n",
       "      <th>min</th>\n",
       "      <td>2.100000e+04</td>\n",
       "      <td>0.000000e+00</td>\n",
       "      <td>0.000000e+00</td>\n",
       "      <td>1.000000e+00</td>\n",
       "    </tr>\n",
       "    <tr>\n",
       "      <th>25%</th>\n",
       "      <td>6.057088e+06</td>\n",
       "      <td>1.442998e+01</td>\n",
       "      <td>9.900000e+00</td>\n",
       "      <td>3.000000e+01</td>\n",
       "    </tr>\n",
       "    <tr>\n",
       "      <th>50%</th>\n",
       "      <td>1.959910e+07</td>\n",
       "      <td>2.333333e+01</td>\n",
       "      <td>2.000000e+01</td>\n",
       "      <td>1.090000e+02</td>\n",
       "    </tr>\n",
       "    <tr>\n",
       "      <th>75%</th>\n",
       "      <td>2.849054e+07</td>\n",
       "      <td>5.133333e+01</td>\n",
       "      <td>5.000000e+01</td>\n",
       "      <td>1.760000e+02</td>\n",
       "    </tr>\n",
       "    <tr>\n",
       "      <th>max</th>\n",
       "      <td>8.677214e+08</td>\n",
       "      <td>3.626777e+07</td>\n",
       "      <td>3.626777e+07</td>\n",
       "      <td>1.431000e+03</td>\n",
       "    </tr>\n",
       "  </tbody>\n",
       "</table>\n",
       "</div>"
      ],
      "text/plain": [
       "            tot_gas       avg_gas    median_gas            tx\n",
       "count  1.242314e+07  1.242314e+07  1.242314e+07  1.242314e+07\n",
       "mean   2.044811e+07  5.088429e+01  4.460539e+01  1.155945e+02\n",
       "std    1.846975e+07  1.036140e+04  1.029067e+04  9.526101e+01\n",
       "min    2.100000e+04  0.000000e+00  0.000000e+00  1.000000e+00\n",
       "25%    6.057088e+06  1.442998e+01  9.900000e+00  3.000000e+01\n",
       "50%    1.959910e+07  2.333333e+01  2.000000e+01  1.090000e+02\n",
       "75%    2.849054e+07  5.133333e+01  5.000000e+01  1.760000e+02\n",
       "max    8.677214e+08  3.626777e+07  3.626777e+07  1.431000e+03"
      ]
     },
     "execution_count": 18,
     "metadata": {},
     "output_type": "execute_result"
    }
   ],
   "source": [
    "dfGas.describe()"
   ]
  },
  {
   "cell_type": "code",
   "execution_count": 19,
   "metadata": {},
   "outputs": [
    {
     "data": {
      "text/plain": [
       "Int64Index([   46147,    46169,    46170,    46194,    46205,    46214,\n",
       "               46217,    46219,    46220,    46230,\n",
       "            ...\n",
       "            14011194, 14011195, 14011197, 14011198, 14011199, 14011200,\n",
       "            14011201, 14011202, 14011203, 14011204],\n",
       "           dtype='int64', length=12423140)"
      ]
     },
     "execution_count": 19,
     "metadata": {},
     "output_type": "execute_result"
    }
   ],
   "source": [
    "dfGas.index"
   ]
  },
  {
   "cell_type": "code",
   "execution_count": 21,
   "metadata": {},
   "outputs": [
    {
     "data": {
      "text/plain": [
       "12423140"
      ]
     },
     "execution_count": 21,
     "metadata": {},
     "output_type": "execute_result"
    }
   ],
   "source": [
    "len(dfGas)"
   ]
  },
  {
   "cell_type": "code",
   "execution_count": 26,
   "metadata": {},
   "outputs": [
    {
     "data": {
      "text/plain": [
       "1431"
      ]
     },
     "execution_count": 26,
     "metadata": {},
     "output_type": "execute_result"
    }
   ],
   "source": [
    "max(dfGas[\"tx\"])"
   ]
  },
  {
   "cell_type": "code",
   "execution_count": 27,
   "metadata": {},
   "outputs": [
    {
     "data": {
      "text/plain": [
       "867721361"
      ]
     },
     "execution_count": 27,
     "metadata": {},
     "output_type": "execute_result"
    }
   ],
   "source": [
    "max(dfGas[\"tot_gas\"])"
   ]
  },
  {
   "cell_type": "code",
   "execution_count": 28,
   "metadata": {},
   "outputs": [
    {
     "data": {
      "text/plain": [
       "21000"
      ]
     },
     "execution_count": 28,
     "metadata": {},
     "output_type": "execute_result"
    }
   ],
   "source": [
    "min(dfGas[\"tot_gas\"])"
   ]
  },
  {
   "cell_type": "code",
   "execution_count": null,
   "metadata": {},
   "outputs": [],
   "source": [
    "dfGas.isna().any()\n"
   ]
  },
  {
   "cell_type": "code",
   "execution_count": 32,
   "metadata": {},
   "outputs": [
    {
     "data": {
      "text/plain": [
       "<bound method DataFrame.info of            tot_gas       avg_gas    median_gas   tx                  ts\n",
       "46147        21000  50000.000000  50000.000000    1 2015-08-07 03:30:33\n",
       "46169        21000    909.808708    909.808708    1 2015-08-07 03:36:53\n",
       "46170        21000    500.000000    500.000000    1 2015-08-07 03:37:10\n",
       "46194        21000   1000.000000   1000.000000    1 2015-08-07 03:43:03\n",
       "46205        21000    500.000000    500.000000    1 2015-08-07 03:46:15\n",
       "...            ...           ...           ...  ...                 ...\n",
       "14011200  58928852    129.139985    119.860533  397 2022-01-15 16:52:34\n",
       "14011201  23094532    139.612300    134.020694  183 2022-01-15 16:52:51\n",
       "14011202   5251538    136.994748    132.358104   57 2022-01-15 16:53:02\n",
       "14011203  24500938    126.977642    120.047371  193 2022-01-15 16:53:06\n",
       "14011204  43854115    131.442949    121.936421  378 2022-01-15 16:53:17\n",
       "\n",
       "[12423140 rows x 5 columns]>"
      ]
     },
     "execution_count": 32,
     "metadata": {},
     "output_type": "execute_result"
    }
   ],
   "source": []
  },
  {
   "cell_type": "code",
   "execution_count": null,
   "metadata": {},
   "outputs": [],
   "source": [
    "# takes too long to execute\n",
    "# sns.histplot(dfGas['avg_gas'])"
   ]
  },
  {
   "cell_type": "code",
   "execution_count": 6,
   "metadata": {},
   "outputs": [
    {
     "data": {
      "text/plain": [
       "array([[<AxesSubplot:title={'center':'tot_gas'}>,\n",
       "        <AxesSubplot:title={'center':'avg_gas'}>],\n",
       "       [<AxesSubplot:title={'center':'median_gas'}>,\n",
       "        <AxesSubplot:title={'center':'tx'}>],\n",
       "       [<AxesSubplot:title={'center':'ts'}>, <AxesSubplot:>]],\n",
       "      dtype=object)"
      ]
     },
     "execution_count": 6,
     "metadata": {},
     "output_type": "execute_result"
    },
    {
     "data": {
      "image/png": "[encoded data removed]",
      "text/plain": [
       "<Figure size 432x288 with 6 Axes>"
      ]
     },
     "metadata": {
      "needs_background": "light"
     },
     "output_type": "display_data"
    }
   ],
   "source": [
    "dfGas.hist()"
   ]
  },
  {
   "cell_type": "code",
   "execution_count": 21,
   "metadata": {},
   "outputs": [
    {
     "data": {
      "image/png": "[encoded data removed]",
      "text/plain": [
       "<Figure size 432x288 with 1 Axes>"
      ]
     },
     "metadata": {
      "needs_background": "light"
     },
     "output_type": "display_data"
    }
   ],
   "source": [
    "plt.plot(dfGas.index, dfGas[\"avg_gas\"])\n",
    "plt.xscale(\"log\")"
   ]
  },
  {
   "cell_type": "code",
   "execution_count": 14,
   "metadata": {},
   "outputs": [],
   "source": []
  },
  {
   "cell_type": "code",
   "execution_count": null,
   "metadata": {},
   "outputs": [],
   "source": []
  }
 ],
 "metadata": {
  "kernelspec": {
   "display_name": "Python 3 (ipykernel)",
   "language": "python",
   "name": "python3"
  },
  "language_info": {
   "codemirror_mode": {
    "name": "ipython",
    "version": 3
   },
   "file_extension": ".py",
   "mimetype": "text/x-python",
   "name": "python",
   "nbconvert_exporter": "python",
   "pygments_lexer": "ipython3",
   "version": "3.9.12"
  }
 },
 "nbformat": 4,
 "nbformat_minor": 4
}
