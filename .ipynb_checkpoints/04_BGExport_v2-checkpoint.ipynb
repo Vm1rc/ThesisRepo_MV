{
 "cells": [
  {
   "cell_type": "markdown",
   "metadata": {
    "pycharm": {
     "is_executing": true
    }
   },
   "source": [
    "# Useful Links\n",
    "Useful links:\n",
    "* Export job to GCS: https://blog.getcensus.com/3-ways-to-export-csv-files-from-google-bigquery/\n",
    "* Export job to GCS: https://hevodata.com/learn/export-bigquery-table-to-csv/#met3\n",
    "* Export job to GCS: https://cloud.google.com/bigquery/docs/samples/bigquery-extract-table#bigquery_extract_table-python\n",
    "* Query BQ via Python: https://sophiamyang.github.io/DS/dataaccess/bigquery/bigquery.html\n",
    "* Query via Python: https://cloud.google.com/bigquery/docs/quickstarts/quickstart-client-libraries?hl=de#run_the_query\n",
    "\n",
    "* Query GBQ with pandas.gbq: https://stackoverflow.com/questions/44647310/convert-bigquery-results-to-pandas-data-frame\n",
    "* Doc pandas-gbq: https://pandas-gbq.readthedocs.io/en/latest/install.html#conda\n",
    "* Google doc zu pandas-gbq: https://cloud.google.com/bigquery/docs/pandas-gbq-migration?hl=de#conda\n",
    "* Running Parametrized queries: https://cloud.google.com/bigquery/docs/parameterized-queries\n",
    "* .to_dataframe doc: https://googleapis.dev/python/bigquery/latest/generated/google.cloud.bigquery.job.QueryJob.html#google.cloud.bigquery.job.QueryJob.to_dataframe\n",
    "* Get BQ table as dataframe: https://cloud.google.com/bigquery/docs/samples/bigquery-list-rows-dataframe\n",
    "* globals().clear()\n"
   ]
  },
  {
   "cell_type": "markdown",
   "metadata": {},
   "source": [
    "# Packages"
   ]
  },
  {
   "cell_type": "code",
   "execution_count": null,
   "metadata": {},
   "outputs": [],
   "source": [
    "import pandas as pd\n",
    "import numpy as np\n",
    "from google.cloud import bigquery # when buggy: 'conda remove protobuf'\n",
    "import os\n",
    "import pyarrow\n"
   ]
  },
  {
   "cell_type": "code",
   "execution_count": null,
   "metadata": {},
   "outputs": [],
   "source": [
    "print(bigquery.__version__)"
   ]
  },
  {
   "cell_type": "markdown",
   "metadata": {},
   "source": [
    "# Set env variable for credentials"
   ]
  },
  {
   "cell_type": "code",
   "execution_count": null,
   "metadata": {},
   "outputs": [],
   "source": [
    "os.environ[\"GOOGLE_APPLICATION_CREDENTIALS\"]=\"/Users/marcvendramet/Desktop/HSG/Master/MA/08_Data/03_BQKey/mevtest-32e3980294f1.json\""
   ]
  },
  {
   "cell_type": "code",
   "execution_count": null,
   "metadata": {},
   "outputs": [],
   "source": [
    "client = bigquery.Client()"
   ]
  },
  {
   "cell_type": "markdown",
   "metadata": {},
   "source": [
    "# Build Query Masterset"
   ]
  },
  {
   "cell_type": "markdown",
   "metadata": {},
   "source": [
    "## Define query function"
   ]
  },
  {
   "cell_type": "code",
   "execution_count": null,
   "metadata": {},
   "outputs": [],
   "source": [
    "my_query = '''\n",
    "SELECT *\n",
    "\n",
    "\n",
    "FROM `mevtest.MEVextract.UniswapV2_transactions_download_v4`\n",
    "WHERE block_number BETWEEN  @lower_bound AND @upper_bound \n",
    "\n",
    "ORDER BY block_number ASC, transaction_index ASC, log_index ASC\n",
    "\n",
    "'''"
   ]
  },
  {
   "cell_type": "markdown",
   "metadata": {},
   "source": [
    "## Collect results"
   ]
  },
  {
   "cell_type": "code",
   "execution_count": null,
   "metadata": {},
   "outputs": [],
   "source": [
    "bqCols = ['transaction_hash','block_number','transaction_index','log_index','from_address','to_address',\n",
    "                            'trans_fromAddress','trans_toAddress', 'poolId', 'tf_tokenAddress', 'tokenName',\n",
    "                            'value','trans_gasPrice','gasUsed','effective_gas_price']"
   ]
  },
  {
   "cell_type": "code",
   "execution_count": null,
   "metadata": {},
   "outputs": [],
   "source": [
    "dfMain = pd.DataFrame(columns = bqCols)"
   ]
  },
  {
   "cell_type": "markdown",
   "metadata": {},
   "source": [
    "# Collect loop"
   ]
  },
  {
   "cell_type": "markdown",
   "metadata": {},
   "source": [
    "## Collect manual"
   ]
  },
  {
   "cell_type": "code",
   "execution_count": null,
   "metadata": {},
   "outputs": [],
   "source": [
    "counter = 1\n",
    "lowerB = 10093070\n",
    "upperB = lowerB + 100000"
   ]
  },
  {
   "cell_type": "code",
   "execution_count": null,
   "metadata": {},
   "outputs": [],
   "source": [
    "\n",
    "job_config1 = bigquery.QueryJobConfig(\n",
    "query_parameters=[\n",
    "        bigquery.ScalarQueryParameter(\"lower_bound\", \"INT64\", lowerB),\n",
    "        bigquery.ScalarQueryParameter(\"upper_bound\", \"INT64\", upperB),\n",
    "    ]\n",
    "    )\n",
    "    \n",
    "query_job = client.query(my_query, job_config=job_config1)\n",
    "    \n",
    "dfTemp = query_job.to_dataframe()\n",
    "# create path variable\n",
    "# save to.csv or parquet on ssd OK\n",
    "dfTemp.to_parquet(f\"/Volumes/Extreme SSD/02_UniswapV2Transactions/UniswapV2Transactions_{counter}.par\")\n",
    "# collect params from dfTemp andd update counter for new query OK\n",
    "counter = counter + 1\n",
    "lastEntry = dfTemp[\"block_number\"].max().item() # OR: dfMain[\"block_number\"].iloc[-1]\n",
    "lowerB = lastEntry+1\n",
    "upperB = lastEntry+100001"
   ]
  },
  {
   "cell_type": "code",
   "execution_count": null,
   "metadata": {},
   "outputs": [],
   "source": [
    "len(dfTemp.iloc[:,0]) >=1\n",
    "print(lowerB, upperB, counter)"
   ]
  },
  {
   "cell_type": "code",
   "execution_count": null,
   "metadata": {},
   "outputs": [],
   "source": [
    "dfTemp.to_csv(f\"/Volumes/Extreme SSD/02_UniswapV2Transactions/UniswapV2Transactions_2.csv\")"
   ]
  },
  {
   "cell_type": "code",
   "execution_count": null,
   "metadata": {},
   "outputs": [],
   "source": [
    "dfTemp1 = dfTemp"
   ]
  },
  {
   "cell_type": "code",
   "execution_count": null,
   "metadata": {},
   "outputs": [],
   "source": [
    "lastEntry= lastEntry.item()\n",
    "lowerB=lowerB.item()\n",
    "upperB=upperB.item()"
   ]
  },
  {
   "cell_type": "code",
   "execution_count": null,
   "metadata": {},
   "outputs": [],
   "source": [
    "type(lastEntry.item())"
   ]
  },
  {
   "cell_type": "markdown",
   "metadata": {},
   "source": [
    "## Automatic loop (full)"
   ]
  },
  {
   "cell_type": "code",
   "execution_count": null,
   "metadata": {},
   "outputs": [],
   "source": [
    "while True:\n",
    "    # len(dfTemp.iloc[:,0]) >=1\n",
    "    print(lowerB, upperB)\n",
    "    job_config1 = bigquery.QueryJobConfig(\n",
    "    query_parameters=[\n",
    "        bigquery.ScalarQueryParameter(\"lower_bound\", \"INT64\", lowerB),\n",
    "        bigquery.ScalarQueryParameter(\"upper_bound\", \"INT64\", upperB),\n",
    "    ]\n",
    "    )\n",
    "    \n",
    "    query_job = client.query(my_query, job_config=job_config1)\n",
    "    \n",
    "    dfTemp = query_job.to_dataframe()\n",
    "    \n",
    "    if dfTemp[\"block_number\"].max() >= 12500188:\n",
    "        dfTemp.to_parquet(f\"/Volumes/Extreme SSD/02_UniswapV2Transactions/UniswapV2Transactions_{counter}.par\")\n",
    "        break\n",
    "    else:\n",
    "        # create path variable\n",
    "        # save to.csv or parquet on ssd OK\n",
    "        dfTemp.to_parquet(f\"/Volumes/Extreme SSD/02_UniswapV2Transactions/UniswapV2Transactions_{counter}.par\")\n",
    "        # collect params from dfTemp andd update counter for new query OK\n",
    "        counter = counter + 1\n",
    "        lastEntry =dfTemp[\"block_number\"].max().item() # OR: dfMain[\"block_number\"].iloc[-1]\n",
    "        lowerB = lastEntry+1\n",
    "        upperB = lastEntry+100001\n",
    "        print(lastEntry)"
   ]
  },
  {
   "cell_type": "code",
   "execution_count": null,
   "metadata": {},
   "outputs": [],
   "source": [
    "# Add nice print outs of status, loop number, part of loop its in, etc"
   ]
  },
  {
   "cell_type": "code",
   "execution_count": null,
   "metadata": {},
   "outputs": [],
   "source": [
    "dfTemp['block_number'].max()"
   ]
  },
  {
   "cell_type": "code",
   "execution_count": null,
   "metadata": {},
   "outputs": [],
   "source": [
    "dfTemp.shape"
   ]
  },
  {
   "cell_type": "code",
   "execution_count": null,
   "metadata": {},
   "outputs": [],
   "source": []
  },
  {
   "cell_type": "markdown",
   "metadata": {},
   "source": [
    "# Query: GasPrice Threeshold data set"
   ]
  },
  {
   "cell_type": "code",
   "execution_count": null,
   "metadata": {},
   "outputs": [],
   "source": [
    "my_query_GP = '''\n",
    "SELECT *  \n",
    "FROM `mevtest.MEVextract.GasPrice_threshold4`\n",
    "\n",
    "WHERE block_number BETWEEN  11296630 AND 12500188 \n",
    "\n",
    "'''"
   ]
  },
  {
   "cell_type": "code",
   "execution_count": null,
   "metadata": {},
   "outputs": [],
   "source": [
    "11296630-10093070"
   ]
  },
  {
   "cell_type": "code",
   "execution_count": null,
   "metadata": {},
   "outputs": [],
   "source": [
    "\n",
    "query_job = client.query(my_query_GP)\n",
    "    \n",
    "\n",
    "\n",
    "\n"
   ]
  },
  {
   "cell_type": "code",
   "execution_count": null,
   "metadata": {},
   "outputs": [],
   "source": [
    "dfTemp = query_job.to_dataframe()\n"
   ]
  },
  {
   "cell_type": "code",
   "execution_count": null,
   "metadata": {},
   "outputs": [],
   "source": [
    "dfTemp['block_number'].max()"
   ]
  },
  {
   "cell_type": "code",
   "execution_count": null,
   "metadata": {},
   "outputs": [],
   "source": [
    "dfTemp.to_parquet(f\"/Volumes/Extreme SSD/01_GasData/GasPriceThreshold_02.par\")"
   ]
  },
  {
   "cell_type": "code",
   "execution_count": null,
   "metadata": {},
   "outputs": [],
   "source": [
    "a = (12500188-10093070)/2\n",
    "10093070 + a"
   ]
  },
  {
   "cell_type": "code",
   "execution_count": null,
   "metadata": {},
   "outputs": [],
   "source": []
  }
 ],
 "metadata": {
  "kernelspec": {
   "display_name": "Python 3 (ipykernel)",
   "language": "python",
   "name": "python3"
  },
  "language_info": {
   "codemirror_mode": {
    "name": "ipython",
    "version": 3
   },
   "file_extension": ".py",
   "mimetype": "text/x-python",
   "name": "python",
   "nbconvert_exporter": "python",
   "pygments_lexer": "ipython3",
   "version": "3.9.12"
  }
 },
 "nbformat": 4,
 "nbformat_minor": 4
}
