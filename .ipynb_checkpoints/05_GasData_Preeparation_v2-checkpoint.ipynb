{
 "cells": [
  {
   "cell_type": "markdown",
   "id": "57f5ce90-9f78-4019-8560-29c229c5564b",
   "metadata": {},
   "source": [
    "# Packages"
   ]
  },
  {
   "cell_type": "code",
   "execution_count": null,
   "id": "195d5d67-ec47-4f47-a74c-345ef2a125e3",
   "metadata": {},
   "outputs": [],
   "source": [
    "import pandas as pd\n",
    "import numpy as np\n",
    "import math\n",
    "pd.set_option('display.max_columns', None)\n",
    "pd.set_option('max_colwidth', None) # show full width of showing cols"
   ]
  },
  {
   "cell_type": "markdown",
   "id": "4b2e9f6b-3cd1-46b0-9f50-7bbb5d60c8f6",
   "metadata": {},
   "source": [
    "# Import file ThresholdGas v3"
   ]
  },
  {
   "cell_type": "code",
   "execution_count": null,
   "id": "b9540ccd-c5f5-4187-a859-3305002414b1",
   "metadata": {},
   "outputs": [],
   "source": [
    "dfThreshold = pd.read_csv(\"/Volumes/Extreme SSD/01_GasData/GasPriceThreshold_v3.csv\")"
   ]
  },
  {
   "cell_type": "code",
   "execution_count": null,
   "id": "68860a73-5b93-4f4b-a134-8033509186f7",
   "metadata": {},
   "outputs": [],
   "source": [
    "dfThreshold = dfThreshold.sort_values(by=['block_number', 'gas_price'])"
   ]
  },
  {
   "cell_type": "code",
   "execution_count": null,
   "id": "2b684731-5455-4d6a-926c-fde04610e42d",
   "metadata": {},
   "outputs": [],
   "source": [
    "dfThreshold = dfThreshold.drop_duplicates(subset = [\"block_number\"],keep = \"first\")"
   ]
  },
  {
   "cell_type": "code",
   "execution_count": null,
   "id": "048f673d-bdf9-415f-a66e-402a71957d36",
   "metadata": {},
   "outputs": [],
   "source": [
    "dfThreshold = dfThreshold.rename(columns={\"gas_price\": \"threshold_gas\"})"
   ]
  },
  {
   "cell_type": "code",
   "execution_count": null,
   "id": "6287f45f-2148-4396-9a51-725802e42a76",
   "metadata": {},
   "outputs": [],
   "source": [
    "dfThreshold = dfThreshold.reset_index(drop=True)"
   ]
  },
  {
   "cell_type": "markdown",
   "id": "d0540e92-b62b-4183-9cb5-944d66b5f54a",
   "metadata": {},
   "source": [
    "# Import gasUseed per block from old GasFeePerBlock_BQ_v1"
   ]
  },
  {
   "cell_type": "code",
   "execution_count": null,
   "id": "a216692a-67be-4cf0-8d73-8d4150dbe34d",
   "metadata": {},
   "outputs": [],
   "source": [
    "dfGasUsedBlock = pd.read_csv(\"/Volumes/Extreme SSD/01_GasData/GasFeePerBlock_BQ_v1.csv\")"
   ]
  },
  {
   "cell_type": "code",
   "execution_count": null,
   "id": "87227d35-5b17-46a4-87c8-ffccc9789b2a",
   "metadata": {},
   "outputs": [],
   "source": [
    "dfGasUsedBlock = dfGasUsedBlock.sort_values(by=['block_number'])"
   ]
  },
  {
   "cell_type": "code",
   "execution_count": null,
   "id": "520d9528-0e2f-42f6-9b55-f95390a3c29e",
   "metadata": {},
   "outputs": [],
   "source": [
    "dfGasUsedBlock"
   ]
  },
  {
   "cell_type": "markdown",
   "id": "21126332-4d67-4c3a-8006-0d66e6da5da3",
   "metadata": {},
   "source": [
    "# Converting to Gwei and add as new column"
   ]
  },
  {
   "cell_type": "code",
   "execution_count": null,
   "id": "05cbafe2-eb22-48c5-a563-e33616489f61",
   "metadata": {},
   "outputs": [],
   "source": []
  },
  {
   "cell_type": "code",
   "execution_count": null,
   "id": "61ae9d8d-788b-457d-8465-c73555e0ec61",
   "metadata": {},
   "outputs": [],
   "source": [
    "dfThreshold['threshold_gas']= (dfThreshold['threshold_gas']/(10**9)).astype(float)"
   ]
  },
  {
   "cell_type": "code",
   "execution_count": null,
   "id": "960efb62-d004-464f-8997-63fbf990651b",
   "metadata": {},
   "outputs": [],
   "source": [
    "dfThreshold"
   ]
  },
  {
   "cell_type": "markdown",
   "id": "5190598d-b8af-46c7-b636-554196afd87a",
   "metadata": {},
   "source": [
    "# Checks\n",
    "* Start block: 19.5.2020 (go-live of UniswapV2) = 10,093,070 height\n",
    "* End block: 24.5.2021 (V3 > V2) = 12,500,188 height\n"
   ]
  },
  {
   "cell_type": "code",
   "execution_count": null,
   "id": "a60a7396-7114-40a1-a825-59b61e1341ad",
   "metadata": {},
   "outputs": [],
   "source": [
    "startB = 10093070\n",
    "endB = 12500188\n",
    "goalLength = endB-startB\n",
    "goalLength"
   ]
  },
  {
   "cell_type": "code",
   "execution_count": null,
   "id": "1a17a627-36d7-4eac-a1b2-f4a9128540c0",
   "metadata": {},
   "outputs": [],
   "source": [
    "blockCount = dfThreshold['block_number'].max() - dfThreshold['block_number'].min()\n",
    "blockCount\n",
    "# 2407118"
   ]
  },
  {
   "cell_type": "code",
   "execution_count": null,
   "id": "c1b67c62-132e-4227-a592-957dc6a2bc6f",
   "metadata": {},
   "outputs": [],
   "source": [
    "blockCount == goalLength"
   ]
  },
  {
   "cell_type": "markdown",
   "id": "b9aff059-c577-4461-bca4-b96eaf4cb28b",
   "metadata": {},
   "source": [
    "# Import Barbon file"
   ]
  },
  {
   "cell_type": "code",
   "execution_count": null,
   "id": "75c792a0-9e59-430b-829f-d80bce0eb025",
   "metadata": {},
   "outputs": [],
   "source": [
    "dfBarb = pd.read_parquet(\"/Volumes/Extreme SSD/01_GasData/gas_ts_block.par\")"
   ]
  },
  {
   "cell_type": "code",
   "execution_count": null,
   "id": "d4a0cd14-4932-4d9e-aafc-92c37ffd7855",
   "metadata": {},
   "outputs": [],
   "source": [
    "dfBarb['block_number_bar'] = dfBarb.index"
   ]
  },
  {
   "cell_type": "code",
   "execution_count": null,
   "id": "4bb0a82a-299f-4842-8042-c9dc11f96da7",
   "metadata": {},
   "outputs": [],
   "source": [
    "dfBarb.sort_values(by = \"avg_gas\", ascending = False)"
   ]
  },
  {
   "cell_type": "code",
   "execution_count": null,
   "id": "a128ef6c-3f76-480c-a9ad-97668458788e",
   "metadata": {},
   "outputs": [],
   "source": [
    "# filter for thesis scope\n",
    "#dfBarb_scope = dfBarb.filter(items = [*range(startB, endB+1)], axis=0) # Was machen wir hier?\n",
    "dfBarb_scope = dfBarb[(dfBarb.block_number_bar >= startB) & (dfBarb.block_number_bar <= endB)]"
   ]
  },
  {
   "cell_type": "code",
   "execution_count": null,
   "id": "46c8fdd8-a8f6-47a6-b3d0-2bc2528c7625",
   "metadata": {},
   "outputs": [],
   "source": [
    "#Check\n",
    "dfBarb_scope['block_number_bar'].nunique() == len(dfBarb_scope.index) # check"
   ]
  },
  {
   "cell_type": "code",
   "execution_count": null,
   "id": "8a075a63-490d-440b-959c-7b4d83e3535d",
   "metadata": {},
   "outputs": [],
   "source": [
    "# Missing blocks in barbon set: more detail in v1\n",
    "dfBarb_scope['block_number_bar'].nunique() - goalLength"
   ]
  },
  {
   "cell_type": "code",
   "execution_count": null,
   "id": "d890a4f6-96f9-44d9-b72c-e8ae47ed73d2",
   "metadata": {},
   "outputs": [],
   "source": [
    "dfBarb_scope.sort_values(by = \"avg_gas\", ascending = False)"
   ]
  },
  {
   "cell_type": "code",
   "execution_count": null,
   "id": "6510086d-2fed-4669-84b7-60b9f1e96939",
   "metadata": {},
   "outputs": [],
   "source": [
    "# Merge Barbin and Threshold files"
   ]
  },
  {
   "cell_type": "code",
   "execution_count": null,
   "id": "f7673c2d-c141-4f56-b6b3-a73fbd4f86ba",
   "metadata": {},
   "outputs": [],
   "source": [
    "# merge files\n",
    "dfMerged = dfBarb_scope.merge(dfThreshold[['block_number','threshold_gas']], left_on = \"block_number_bar\", right_on='block_number')\n"
   ]
  },
  {
   "cell_type": "code",
   "execution_count": null,
   "id": "0600f2ac-7349-4f5b-bf9b-2b2299108de9",
   "metadata": {},
   "outputs": [],
   "source": [
    "dfMerged"
   ]
  },
  {
   "cell_type": "code",
   "execution_count": null,
   "id": "a33d8e98-b765-4ae8-85f9-3cff2d5c60f7",
   "metadata": {},
   "outputs": [],
   "source": [
    "dfMerged.info()"
   ]
  },
  {
   "cell_type": "markdown",
   "id": "f5101c73-cd88-4ba0-92c0-06c5b8ae4a57",
   "metadata": {},
   "source": [
    "# Merge with total gas used per block from BQ"
   ]
  },
  {
   "cell_type": "code",
   "execution_count": null,
   "id": "a6729413-22c2-474d-8140-01c01b7c8717",
   "metadata": {},
   "outputs": [],
   "source": [
    "# merge files\n",
    "dfMerged = dfMerged.merge(dfGasUsedBlock[['block_number','sumGasUsed']], on='block_number', how = 'left')\n"
   ]
  },
  {
   "cell_type": "code",
   "execution_count": null,
   "id": "d9e1c002-7c5b-485d-a5bf-e30a695dfd46",
   "metadata": {},
   "outputs": [],
   "source": [
    "dfMerged = dfMerged.rename(columns={\"sumGasUsed\": \"total_gasUsed\"})"
   ]
  },
  {
   "cell_type": "code",
   "execution_count": null,
   "id": "998f6dec-ecdc-4d70-9023-c6ebad5fc113",
   "metadata": {},
   "outputs": [],
   "source": [
    "dfMerged.info()"
   ]
  },
  {
   "cell_type": "code",
   "execution_count": null,
   "id": "2c074dd3-337a-41e0-a6bf-1f0388c0b62e",
   "metadata": {},
   "outputs": [],
   "source": [
    "dfMerged"
   ]
  },
  {
   "cell_type": "markdown",
   "id": "05c8cc32-6bec-415e-8a70-7d30117ac41c",
   "metadata": {},
   "source": [
    "# Save gasPriceAll-file"
   ]
  },
  {
   "cell_type": "code",
   "execution_count": null,
   "id": "ef2b360c-d268-4e7f-be71-36c78b47ced9",
   "metadata": {},
   "outputs": [],
   "source": [
    "dfMerged.to_parquet(\"/Volumes/Extreme SSD/01_GasData/GasPriceAll.par\")"
   ]
  },
  {
   "cell_type": "code",
   "execution_count": null,
   "id": "9d0caa20-aa23-4015-85da-8f005358f51b",
   "metadata": {},
   "outputs": [],
   "source": [
    "dfMerged.to_csv(\"/Volumes/Extreme SSD/01_GasData/GasPriceAll.csv\")"
   ]
  },
  {
   "cell_type": "code",
   "execution_count": null,
   "id": "a53d6a38-fd46-4ba8-9c05-2527011cb6e0",
   "metadata": {},
   "outputs": [],
   "source": []
  }
 ],
 "metadata": {
  "kernelspec": {
   "display_name": "Python 3 (ipykernel)",
   "language": "python",
   "name": "python3"
  },
  "language_info": {
   "codemirror_mode": {
    "name": "ipython",
    "version": 3
   },
   "file_extension": ".py",
   "mimetype": "text/x-python",
   "name": "python",
   "nbconvert_exporter": "python",
   "pygments_lexer": "ipython3",
   "version": "3.9.12"
  }
 },
 "nbformat": 4,
 "nbformat_minor": 5
}
