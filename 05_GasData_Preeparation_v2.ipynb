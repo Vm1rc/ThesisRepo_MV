{
 "cells": [
  {
   "cell_type": "markdown",
   "id": "57f5ce90-9f78-4019-8560-29c229c5564b",
   "metadata": {},
   "source": [
    "# Packages"
   ]
  },
  {
   "cell_type": "code",
   "execution_count": 1,
   "id": "195d5d67-ec47-4f47-a74c-345ef2a125e3",
   "metadata": {},
   "outputs": [],
   "source": [
    "import pandas as pd\n",
    "import numpy as np\n",
    "import math\n",
    "pd.set_option('display.max_columns', None)\n",
    "pd.set_option('max_colwidth', None) # show full width of showing cols"
   ]
  },
  {
   "cell_type": "markdown",
   "id": "4b2e9f6b-3cd1-46b0-9f50-7bbb5d60c8f6",
   "metadata": {},
   "source": [
    "# Import file ThresholdGas v3"
   ]
  },
  {
   "cell_type": "code",
   "execution_count": 16,
   "id": "b9540ccd-c5f5-4187-a859-3305002414b1",
   "metadata": {},
   "outputs": [],
   "source": [
    "dfThreshold = pd.read_csv(\"/Volumes/Extreme SSD/01_GasData/GasPriceThreshold_v3.csv\")"
   ]
  },
  {
   "cell_type": "code",
   "execution_count": 17,
   "id": "68860a73-5b93-4f4b-a134-8033509186f7",
   "metadata": {},
   "outputs": [],
   "source": [
    "dfThreshold = dfThreshold.sort_values(by=['block_number', 'gas_price'])"
   ]
  },
  {
   "cell_type": "code",
   "execution_count": 18,
   "id": "2b684731-5455-4d6a-926c-fde04610e42d",
   "metadata": {},
   "outputs": [],
   "source": [
    "dfThreshold = dfThreshold.drop_duplicates(subset = [\"block_number\"],keep = \"first\")"
   ]
  },
  {
   "cell_type": "code",
   "execution_count": 19,
   "id": "048f673d-bdf9-415f-a66e-402a71957d36",
   "metadata": {},
   "outputs": [],
   "source": [
    "dfThreshold = dfThreshold.rename(columns={\"gas_price\": \"threshold_gas\"})"
   ]
  },
  {
   "cell_type": "code",
   "execution_count": 20,
   "id": "6287f45f-2148-4396-9a51-725802e42a76",
   "metadata": {},
   "outputs": [],
   "source": [
    "dfThreshold = dfThreshold.reset_index(drop=True)"
   ]
  },
  {
   "cell_type": "markdown",
   "id": "d0540e92-b62b-4183-9cb5-944d66b5f54a",
   "metadata": {},
   "source": [
    "# Import gasUseed per block from old GasFeePerBlock_BQ_v1"
   ]
  },
  {
   "cell_type": "code",
   "execution_count": 21,
   "id": "a216692a-67be-4cf0-8d73-8d4150dbe34d",
   "metadata": {},
   "outputs": [],
   "source": [
    "dfGasUsedBlock = pd.read_csv(\"/Volumes/Extreme SSD/01_GasData/GasFeePerBlock_BQ_v1.csv\")"
   ]
  },
  {
   "cell_type": "code",
   "execution_count": 22,
   "id": "87227d35-5b17-46a4-87c8-ffccc9789b2a",
   "metadata": {},
   "outputs": [],
   "source": [
    "dfGasUsedBlock = dfGasUsedBlock.sort_values(by=['block_number'])"
   ]
  },
  {
   "cell_type": "code",
   "execution_count": 23,
   "id": "520d9528-0e2f-42f6-9b55-f95390a3c29e",
   "metadata": {},
   "outputs": [
    {
     "data": {
      "text/html": [
       "<div><div id=9c4fe14f-48b3-41de-a8fa-5f4ae1323c82 style=\"display:none; background-color:#9D6CFF; color:white; width:200px; height:30px; padding-left:5px; border-radius:4px; flex-direction:row; justify-content:space-around; align-items:center;\" onmouseover=\"this.style.backgroundColor='#BA9BF8'\" onmouseout=\"this.style.backgroundColor='#9D6CFF'\" onclick=\"window.commands?.execute('create-mitosheet-from-dataframe-output');\">See Full Dataframe in Mito</div> <script> if (window.commands?.hasCommand('create-mitosheet-from-dataframe-output')) document.getElementById('9c4fe14f-48b3-41de-a8fa-5f4ae1323c82').style.display = 'flex' </script> <table border=\"1\" class=\"dataframe\">\n",
       "  <thead>\n",
       "    <tr style=\"text-align: right;\">\n",
       "      <th></th>\n",
       "      <th>block_number</th>\n",
       "      <th>avgGasPrice</th>\n",
       "      <th>sumGasUsed</th>\n",
       "    </tr>\n",
       "  </thead>\n",
       "  <tbody>\n",
       "    <tr>\n",
       "      <th>600384</th>\n",
       "      <td>10093070</td>\n",
       "      <td>3.440147e+10</td>\n",
       "      <td>9992145</td>\n",
       "    </tr>\n",
       "    <tr>\n",
       "      <th>1220736</th>\n",
       "      <td>10093071</td>\n",
       "      <td>3.802547e+10</td>\n",
       "      <td>9988660</td>\n",
       "    </tr>\n",
       "    <tr>\n",
       "      <th>482813</th>\n",
       "      <td>10093072</td>\n",
       "      <td>6.624596e+10</td>\n",
       "      <td>9996320</td>\n",
       "    </tr>\n",
       "    <tr>\n",
       "      <th>801803</th>\n",
       "      <td>10093073</td>\n",
       "      <td>2.372361e+10</td>\n",
       "      <td>9981147</td>\n",
       "    </tr>\n",
       "    <tr>\n",
       "      <th>628366</th>\n",
       "      <td>10093074</td>\n",
       "      <td>4.161312e+10</td>\n",
       "      <td>9977063</td>\n",
       "    </tr>\n",
       "    <tr>\n",
       "      <th>...</th>\n",
       "      <td>...</td>\n",
       "      <td>...</td>\n",
       "      <td>...</td>\n",
       "    </tr>\n",
       "    <tr>\n",
       "      <th>1085515</th>\n",
       "      <td>12500184</td>\n",
       "      <td>5.358343e+10</td>\n",
       "      <td>14994858</td>\n",
       "    </tr>\n",
       "    <tr>\n",
       "      <th>667199</th>\n",
       "      <td>12500185</td>\n",
       "      <td>4.171575e+10</td>\n",
       "      <td>14988469</td>\n",
       "    </tr>\n",
       "    <tr>\n",
       "      <th>1780448</th>\n",
       "      <td>12500186</td>\n",
       "      <td>5.026618e+10</td>\n",
       "      <td>14995703</td>\n",
       "    </tr>\n",
       "    <tr>\n",
       "      <th>2145583</th>\n",
       "      <td>12500187</td>\n",
       "      <td>4.635642e+10</td>\n",
       "      <td>15003643</td>\n",
       "    </tr>\n",
       "    <tr>\n",
       "      <th>681191</th>\n",
       "      <td>12500188</td>\n",
       "      <td>8.116156e+10</td>\n",
       "      <td>14995142</td>\n",
       "    </tr>\n",
       "  </tbody>\n",
       "</table></div>"
      ],
      "text/plain": [
       "         block_number   avgGasPrice  sumGasUsed\n",
       "600384       10093070  3.440147e+10     9992145\n",
       "1220736      10093071  3.802547e+10     9988660\n",
       "482813       10093072  6.624596e+10     9996320\n",
       "801803       10093073  2.372361e+10     9981147\n",
       "628366       10093074  4.161312e+10     9977063\n",
       "...               ...           ...         ...\n",
       "1085515      12500184  5.358343e+10    14994858\n",
       "667199       12500185  4.171575e+10    14988469\n",
       "1780448      12500186  5.026618e+10    14995703\n",
       "2145583      12500187  4.635642e+10    15003643\n",
       "681191       12500188  8.116156e+10    14995142\n",
       "\n",
       "[2348828 rows x 3 columns]"
      ]
     },
     "execution_count": 23,
     "metadata": {},
     "output_type": "execute_result"
    }
   ],
   "source": [
    "dfGasUsedBlock"
   ]
  },
  {
   "cell_type": "markdown",
   "id": "21126332-4d67-4c3a-8006-0d66e6da5da3",
   "metadata": {},
   "source": [
    "# Converting to Gwei and add as new column"
   ]
  },
  {
   "cell_type": "code",
   "execution_count": null,
   "id": "05cbafe2-eb22-48c5-a563-e33616489f61",
   "metadata": {},
   "outputs": [],
   "source": []
  },
  {
   "cell_type": "code",
   "execution_count": 24,
   "id": "61ae9d8d-788b-457d-8465-c73555e0ec61",
   "metadata": {},
   "outputs": [],
   "source": [
    "dfThreshold['threshold_gas']= (dfThreshold['threshold_gas']/(10**9)).astype(float)"
   ]
  },
  {
   "cell_type": "code",
   "execution_count": 25,
   "id": "960efb62-d004-464f-8997-63fbf990651b",
   "metadata": {},
   "outputs": [
    {
     "data": {
      "text/html": [
       "<div><div id=b4370705-f6e8-438f-b699-f3b9a906db6e style=\"display:none; background-color:#9D6CFF; color:white; width:200px; height:30px; padding-left:5px; border-radius:4px; flex-direction:row; justify-content:space-around; align-items:center;\" onmouseover=\"this.style.backgroundColor='#BA9BF8'\" onmouseout=\"this.style.backgroundColor='#9D6CFF'\" onclick=\"window.commands?.execute('create-mitosheet-from-dataframe-output');\">See Full Dataframe in Mito</div> <script> if (window.commands?.hasCommand('create-mitosheet-from-dataframe-output')) document.getElementById('b4370705-f6e8-438f-b699-f3b9a906db6e').style.display = 'flex' </script> <table border=\"1\" class=\"dataframe\">\n",
       "  <thead>\n",
       "    <tr style=\"text-align: right;\">\n",
       "      <th></th>\n",
       "      <th>block_number</th>\n",
       "      <th>threshold_gas</th>\n",
       "    </tr>\n",
       "  </thead>\n",
       "  <tbody>\n",
       "    <tr>\n",
       "      <th>0</th>\n",
       "      <td>10093070</td>\n",
       "      <td>16.5</td>\n",
       "    </tr>\n",
       "    <tr>\n",
       "      <th>1</th>\n",
       "      <td>10093071</td>\n",
       "      <td>16.5</td>\n",
       "    </tr>\n",
       "    <tr>\n",
       "      <th>2</th>\n",
       "      <td>10093072</td>\n",
       "      <td>6.0</td>\n",
       "    </tr>\n",
       "    <tr>\n",
       "      <th>3</th>\n",
       "      <td>10093073</td>\n",
       "      <td>16.0</td>\n",
       "    </tr>\n",
       "    <tr>\n",
       "      <th>4</th>\n",
       "      <td>10093074</td>\n",
       "      <td>16.0</td>\n",
       "    </tr>\n",
       "    <tr>\n",
       "      <th>...</th>\n",
       "      <td>...</td>\n",
       "      <td>...</td>\n",
       "    </tr>\n",
       "    <tr>\n",
       "      <th>2346697</th>\n",
       "      <td>12500184</td>\n",
       "      <td>36.3</td>\n",
       "    </tr>\n",
       "    <tr>\n",
       "      <th>2346698</th>\n",
       "      <td>12500185</td>\n",
       "      <td>10.0</td>\n",
       "    </tr>\n",
       "    <tr>\n",
       "      <th>2346699</th>\n",
       "      <td>12500186</td>\n",
       "      <td>6.0</td>\n",
       "    </tr>\n",
       "    <tr>\n",
       "      <th>2346700</th>\n",
       "      <td>12500187</td>\n",
       "      <td>36.0</td>\n",
       "    </tr>\n",
       "    <tr>\n",
       "      <th>2346701</th>\n",
       "      <td>12500188</td>\n",
       "      <td>46.0</td>\n",
       "    </tr>\n",
       "  </tbody>\n",
       "</table></div>"
      ],
      "text/plain": [
       "         block_number  threshold_gas\n",
       "0            10093070           16.5\n",
       "1            10093071           16.5\n",
       "2            10093072            6.0\n",
       "3            10093073           16.0\n",
       "4            10093074           16.0\n",
       "...               ...            ...\n",
       "2346697      12500184           36.3\n",
       "2346698      12500185           10.0\n",
       "2346699      12500186            6.0\n",
       "2346700      12500187           36.0\n",
       "2346701      12500188           46.0\n",
       "\n",
       "[2346702 rows x 2 columns]"
      ]
     },
     "execution_count": 25,
     "metadata": {},
     "output_type": "execute_result"
    }
   ],
   "source": [
    "dfThreshold"
   ]
  },
  {
   "cell_type": "markdown",
   "id": "5190598d-b8af-46c7-b636-554196afd87a",
   "metadata": {},
   "source": [
    "# Checks\n",
    "* Start block: 19.5.2020 (go-live of UniswapV2) = 10,093,070 height\n",
    "* End block: 24.5.2021 (V3 > V2) = 12,500,188 height\n"
   ]
  },
  {
   "cell_type": "code",
   "execution_count": 26,
   "id": "a60a7396-7114-40a1-a825-59b61e1341ad",
   "metadata": {},
   "outputs": [
    {
     "data": {
      "text/plain": [
       "2407118"
      ]
     },
     "execution_count": 26,
     "metadata": {},
     "output_type": "execute_result"
    }
   ],
   "source": [
    "startB = 10093070\n",
    "endB = 12500188\n",
    "goalLength = endB-startB\n",
    "goalLength"
   ]
  },
  {
   "cell_type": "code",
   "execution_count": 27,
   "id": "1a17a627-36d7-4eac-a1b2-f4a9128540c0",
   "metadata": {},
   "outputs": [
    {
     "data": {
      "text/plain": [
       "2407118"
      ]
     },
     "execution_count": 27,
     "metadata": {},
     "output_type": "execute_result"
    }
   ],
   "source": [
    "blockCount = dfThreshold['block_number'].max() - dfThreshold['block_number'].min()\n",
    "blockCount\n",
    "# 2407118"
   ]
  },
  {
   "cell_type": "code",
   "execution_count": 28,
   "id": "c1b67c62-132e-4227-a592-957dc6a2bc6f",
   "metadata": {},
   "outputs": [
    {
     "data": {
      "text/plain": [
       "True"
      ]
     },
     "execution_count": 28,
     "metadata": {},
     "output_type": "execute_result"
    }
   ],
   "source": [
    "blockCount == goalLength"
   ]
  },
  {
   "cell_type": "markdown",
   "id": "b9aff059-c577-4461-bca4-b96eaf4cb28b",
   "metadata": {},
   "source": [
    "# Import Barbon file"
   ]
  },
  {
   "cell_type": "code",
   "execution_count": 29,
   "id": "75c792a0-9e59-430b-829f-d80bce0eb025",
   "metadata": {},
   "outputs": [],
   "source": [
    "dfBarb = pd.read_parquet(\"/Volumes/Extreme SSD/01_GasData/gas_ts_block.par\")"
   ]
  },
  {
   "cell_type": "code",
   "execution_count": 30,
   "id": "d4a0cd14-4932-4d9e-aafc-92c37ffd7855",
   "metadata": {},
   "outputs": [],
   "source": [
    "dfBarb['block_number_bar'] = dfBarb.index"
   ]
  },
  {
   "cell_type": "code",
   "execution_count": 31,
   "id": "4bb0a82a-299f-4842-8042-c9dc11f96da7",
   "metadata": {},
   "outputs": [
    {
     "data": {
      "text/html": [
       "<div><div id=32ef7ed0-1ffe-47e7-a1ae-8726b2299e39 style=\"display:none; background-color:#9D6CFF; color:white; width:200px; height:30px; padding-left:5px; border-radius:4px; flex-direction:row; justify-content:space-around; align-items:center;\" onmouseover=\"this.style.backgroundColor='#BA9BF8'\" onmouseout=\"this.style.backgroundColor='#9D6CFF'\" onclick=\"window.commands?.execute('create-mitosheet-from-dataframe-output');\">See Full Dataframe in Mito</div> <script> if (window.commands?.hasCommand('create-mitosheet-from-dataframe-output')) document.getElementById('32ef7ed0-1ffe-47e7-a1ae-8726b2299e39').style.display = 'flex' </script> <table border=\"1\" class=\"dataframe\">\n",
       "  <thead>\n",
       "    <tr style=\"text-align: right;\">\n",
       "      <th></th>\n",
       "      <th>tot_gas</th>\n",
       "      <th>avg_gas</th>\n",
       "      <th>median_gas</th>\n",
       "      <th>tx</th>\n",
       "      <th>ts</th>\n",
       "      <th>block_number_bar</th>\n",
       "    </tr>\n",
       "  </thead>\n",
       "  <tbody>\n",
       "    <tr>\n",
       "      <th>2770908</th>\n",
       "      <td>21000</td>\n",
       "      <td>3.626777e+07</td>\n",
       "      <td>3.626777e+07</td>\n",
       "      <td>1</td>\n",
       "      <td>2016-12-08 14:48:21</td>\n",
       "      <td>2770908</td>\n",
       "    </tr>\n",
       "    <tr>\n",
       "      <th>10237208</th>\n",
       "      <td>23816361</td>\n",
       "      <td>3.006170e+06</td>\n",
       "      <td>4.000000e+01</td>\n",
       "      <td>169</td>\n",
       "      <td>2020-06-10 09:47:04</td>\n",
       "      <td>10237208</td>\n",
       "    </tr>\n",
       "    <tr>\n",
       "      <th>10241999</th>\n",
       "      <td>27248171</td>\n",
       "      <td>2.189859e+06</td>\n",
       "      <td>4.800000e+01</td>\n",
       "      <td>232</td>\n",
       "      <td>2020-06-11 03:30:12</td>\n",
       "      <td>10241999</td>\n",
       "    </tr>\n",
       "    <tr>\n",
       "      <th>7393675</th>\n",
       "      <td>15877873</td>\n",
       "      <td>1.666683e+06</td>\n",
       "      <td>1.000000e+01</td>\n",
       "      <td>60</td>\n",
       "      <td>2019-03-18 15:28:14</td>\n",
       "      <td>7393675</td>\n",
       "    </tr>\n",
       "    <tr>\n",
       "      <th>10247265</th>\n",
       "      <td>26681052</td>\n",
       "      <td>7.692683e+05</td>\n",
       "      <td>3.200000e+01</td>\n",
       "      <td>143</td>\n",
       "      <td>2020-06-11 23:12:14</td>\n",
       "      <td>10247265</td>\n",
       "    </tr>\n",
       "    <tr>\n",
       "      <th>...</th>\n",
       "      <td>...</td>\n",
       "      <td>...</td>\n",
       "      <td>...</td>\n",
       "      <td>...</td>\n",
       "      <td>...</td>\n",
       "      <td>...</td>\n",
       "    </tr>\n",
       "    <tr>\n",
       "      <th>12473812</th>\n",
       "      <td>12380000</td>\n",
       "      <td>0.000000e+00</td>\n",
       "      <td>0.000000e+00</td>\n",
       "      <td>1</td>\n",
       "      <td>2021-05-20 21:55:38</td>\n",
       "      <td>12473812</td>\n",
       "    </tr>\n",
       "    <tr>\n",
       "      <th>12910993</th>\n",
       "      <td>14970692</td>\n",
       "      <td>0.000000e+00</td>\n",
       "      <td>0.000000e+00</td>\n",
       "      <td>1</td>\n",
       "      <td>2021-07-27 23:31:45</td>\n",
       "      <td>12910993</td>\n",
       "    </tr>\n",
       "    <tr>\n",
       "      <th>12308587</th>\n",
       "      <td>14858420</td>\n",
       "      <td>0.000000e+00</td>\n",
       "      <td>0.000000e+00</td>\n",
       "      <td>1</td>\n",
       "      <td>2021-04-25 09:14:54</td>\n",
       "      <td>12308587</td>\n",
       "    </tr>\n",
       "    <tr>\n",
       "      <th>12429680</th>\n",
       "      <td>12380000</td>\n",
       "      <td>0.000000e+00</td>\n",
       "      <td>0.000000e+00</td>\n",
       "      <td>1</td>\n",
       "      <td>2021-05-14 01:46:46</td>\n",
       "      <td>12429680</td>\n",
       "    </tr>\n",
       "    <tr>\n",
       "      <th>12543622</th>\n",
       "      <td>14999986</td>\n",
       "      <td>0.000000e+00</td>\n",
       "      <td>0.000000e+00</td>\n",
       "      <td>1</td>\n",
       "      <td>2021-05-31 18:07:16</td>\n",
       "      <td>12543622</td>\n",
       "    </tr>\n",
       "  </tbody>\n",
       "</table></div>"
      ],
      "text/plain": [
       "           tot_gas       avg_gas    median_gas   tx                  ts  \\\n",
       "2770908      21000  3.626777e+07  3.626777e+07    1 2016-12-08 14:48:21   \n",
       "10237208  23816361  3.006170e+06  4.000000e+01  169 2020-06-10 09:47:04   \n",
       "10241999  27248171  2.189859e+06  4.800000e+01  232 2020-06-11 03:30:12   \n",
       "7393675   15877873  1.666683e+06  1.000000e+01   60 2019-03-18 15:28:14   \n",
       "10247265  26681052  7.692683e+05  3.200000e+01  143 2020-06-11 23:12:14   \n",
       "...            ...           ...           ...  ...                 ...   \n",
       "12473812  12380000  0.000000e+00  0.000000e+00    1 2021-05-20 21:55:38   \n",
       "12910993  14970692  0.000000e+00  0.000000e+00    1 2021-07-27 23:31:45   \n",
       "12308587  14858420  0.000000e+00  0.000000e+00    1 2021-04-25 09:14:54   \n",
       "12429680  12380000  0.000000e+00  0.000000e+00    1 2021-05-14 01:46:46   \n",
       "12543622  14999986  0.000000e+00  0.000000e+00    1 2021-05-31 18:07:16   \n",
       "\n",
       "          block_number_bar  \n",
       "2770908            2770908  \n",
       "10237208          10237208  \n",
       "10241999          10241999  \n",
       "7393675            7393675  \n",
       "10247265          10247265  \n",
       "...                    ...  \n",
       "12473812          12473812  \n",
       "12910993          12910993  \n",
       "12308587          12308587  \n",
       "12429680          12429680  \n",
       "12543622          12543622  \n",
       "\n",
       "[12423140 rows x 6 columns]"
      ]
     },
     "execution_count": 31,
     "metadata": {},
     "output_type": "execute_result"
    }
   ],
   "source": [
    "dfBarb.sort_values(by = \"avg_gas\", ascending = False)"
   ]
  },
  {
   "cell_type": "code",
   "execution_count": 32,
   "id": "a128ef6c-3f76-480c-a9ad-97668458788e",
   "metadata": {},
   "outputs": [],
   "source": [
    "# filter for thesis scope\n",
    "#dfBarb_scope = dfBarb.filter(items = [*range(startB, endB+1)], axis=0) # Was machen wir hier?\n",
    "dfBarb_scope = dfBarb[(dfBarb.block_number_bar >= startB) & (dfBarb.block_number_bar <= endB)]"
   ]
  },
  {
   "cell_type": "code",
   "execution_count": 33,
   "id": "46c8fdd8-a8f6-47a6-b3d0-2bc2528c7625",
   "metadata": {},
   "outputs": [
    {
     "data": {
      "text/plain": [
       "True"
      ]
     },
     "execution_count": 33,
     "metadata": {},
     "output_type": "execute_result"
    }
   ],
   "source": [
    "#Check\n",
    "dfBarb_scope['block_number_bar'].nunique() == len(dfBarb_scope.index) # check"
   ]
  },
  {
   "cell_type": "code",
   "execution_count": 34,
   "id": "8a075a63-490d-440b-959c-7b4d83e3535d",
   "metadata": {},
   "outputs": [
    {
     "data": {
      "text/plain": [
       "-58290"
      ]
     },
     "execution_count": 34,
     "metadata": {},
     "output_type": "execute_result"
    }
   ],
   "source": [
    "# Missing blocks in barbon set: more detail in v1\n",
    "dfBarb_scope['block_number_bar'].nunique() - goalLength"
   ]
  },
  {
   "cell_type": "code",
   "execution_count": 35,
   "id": "d890a4f6-96f9-44d9-b72c-e8ae47ed73d2",
   "metadata": {},
   "outputs": [
    {
     "data": {
      "text/html": [
       "<div><div id=b47c994d-af3e-4e28-bf1d-38bcfc02337c style=\"display:none; background-color:#9D6CFF; color:white; width:200px; height:30px; padding-left:5px; border-radius:4px; flex-direction:row; justify-content:space-around; align-items:center;\" onmouseover=\"this.style.backgroundColor='#BA9BF8'\" onmouseout=\"this.style.backgroundColor='#9D6CFF'\" onclick=\"window.commands?.execute('create-mitosheet-from-dataframe-output');\">See Full Dataframe in Mito</div> <script> if (window.commands?.hasCommand('create-mitosheet-from-dataframe-output')) document.getElementById('b47c994d-af3e-4e28-bf1d-38bcfc02337c').style.display = 'flex' </script> <table border=\"1\" class=\"dataframe\">\n",
       "  <thead>\n",
       "    <tr style=\"text-align: right;\">\n",
       "      <th></th>\n",
       "      <th>tot_gas</th>\n",
       "      <th>avg_gas</th>\n",
       "      <th>median_gas</th>\n",
       "      <th>tx</th>\n",
       "      <th>ts</th>\n",
       "      <th>block_number_bar</th>\n",
       "    </tr>\n",
       "  </thead>\n",
       "  <tbody>\n",
       "    <tr>\n",
       "      <th>10237208</th>\n",
       "      <td>23816361</td>\n",
       "      <td>3.006170e+06</td>\n",
       "      <td>40.0</td>\n",
       "      <td>169</td>\n",
       "      <td>2020-06-10 09:47:04</td>\n",
       "      <td>10237208</td>\n",
       "    </tr>\n",
       "    <tr>\n",
       "      <th>10241999</th>\n",
       "      <td>27248171</td>\n",
       "      <td>2.189859e+06</td>\n",
       "      <td>48.0</td>\n",
       "      <td>232</td>\n",
       "      <td>2020-06-11 03:30:12</td>\n",
       "      <td>10241999</td>\n",
       "    </tr>\n",
       "    <tr>\n",
       "      <th>10247265</th>\n",
       "      <td>26681052</td>\n",
       "      <td>7.692683e+05</td>\n",
       "      <td>32.0</td>\n",
       "      <td>143</td>\n",
       "      <td>2020-06-11 23:12:14</td>\n",
       "      <td>10247265</td>\n",
       "    </tr>\n",
       "    <tr>\n",
       "      <th>10778143</th>\n",
       "      <td>23406601</td>\n",
       "      <td>3.349862e+04</td>\n",
       "      <td>479.0</td>\n",
       "      <td>157</td>\n",
       "      <td>2020-09-01 22:48:53</td>\n",
       "      <td>10778143</td>\n",
       "    </tr>\n",
       "    <tr>\n",
       "      <th>10864496</th>\n",
       "      <td>29545928</td>\n",
       "      <td>1.571965e+04</td>\n",
       "      <td>182.0</td>\n",
       "      <td>202</td>\n",
       "      <td>2020-09-15 04:42:15</td>\n",
       "      <td>10864496</td>\n",
       "    </tr>\n",
       "    <tr>\n",
       "      <th>...</th>\n",
       "      <td>...</td>\n",
       "      <td>...</td>\n",
       "      <td>...</td>\n",
       "      <td>...</td>\n",
       "      <td>...</td>\n",
       "      <td>...</td>\n",
       "    </tr>\n",
       "    <tr>\n",
       "      <th>12414845</th>\n",
       "      <td>12380000</td>\n",
       "      <td>0.000000e+00</td>\n",
       "      <td>0.0</td>\n",
       "      <td>1</td>\n",
       "      <td>2021-05-11 18:51:31</td>\n",
       "      <td>12414845</td>\n",
       "    </tr>\n",
       "    <tr>\n",
       "      <th>12283500</th>\n",
       "      <td>14553272</td>\n",
       "      <td>0.000000e+00</td>\n",
       "      <td>0.0</td>\n",
       "      <td>1</td>\n",
       "      <td>2021-04-21 12:13:22</td>\n",
       "      <td>12283500</td>\n",
       "    </tr>\n",
       "    <tr>\n",
       "      <th>12414709</th>\n",
       "      <td>12380000</td>\n",
       "      <td>0.000000e+00</td>\n",
       "      <td>0.0</td>\n",
       "      <td>1</td>\n",
       "      <td>2021-05-11 18:23:39</td>\n",
       "      <td>12414709</td>\n",
       "    </tr>\n",
       "    <tr>\n",
       "      <th>12283781</th>\n",
       "      <td>14442844</td>\n",
       "      <td>0.000000e+00</td>\n",
       "      <td>0.0</td>\n",
       "      <td>1</td>\n",
       "      <td>2021-04-21 13:20:35</td>\n",
       "      <td>12283781</td>\n",
       "    </tr>\n",
       "    <tr>\n",
       "      <th>12048645</th>\n",
       "      <td>12463382</td>\n",
       "      <td>0.000000e+00</td>\n",
       "      <td>0.0</td>\n",
       "      <td>1</td>\n",
       "      <td>2021-03-16 08:40:06</td>\n",
       "      <td>12048645</td>\n",
       "    </tr>\n",
       "  </tbody>\n",
       "</table></div>"
      ],
      "text/plain": [
       "           tot_gas       avg_gas  median_gas   tx                  ts  \\\n",
       "10237208  23816361  3.006170e+06        40.0  169 2020-06-10 09:47:04   \n",
       "10241999  27248171  2.189859e+06        48.0  232 2020-06-11 03:30:12   \n",
       "10247265  26681052  7.692683e+05        32.0  143 2020-06-11 23:12:14   \n",
       "10778143  23406601  3.349862e+04       479.0  157 2020-09-01 22:48:53   \n",
       "10864496  29545928  1.571965e+04       182.0  202 2020-09-15 04:42:15   \n",
       "...            ...           ...         ...  ...                 ...   \n",
       "12414845  12380000  0.000000e+00         0.0    1 2021-05-11 18:51:31   \n",
       "12283500  14553272  0.000000e+00         0.0    1 2021-04-21 12:13:22   \n",
       "12414709  12380000  0.000000e+00         0.0    1 2021-05-11 18:23:39   \n",
       "12283781  14442844  0.000000e+00         0.0    1 2021-04-21 13:20:35   \n",
       "12048645  12463382  0.000000e+00         0.0    1 2021-03-16 08:40:06   \n",
       "\n",
       "          block_number_bar  \n",
       "10237208          10237208  \n",
       "10241999          10241999  \n",
       "10247265          10247265  \n",
       "10778143          10778143  \n",
       "10864496          10864496  \n",
       "...                    ...  \n",
       "12414845          12414845  \n",
       "12283500          12283500  \n",
       "12414709          12414709  \n",
       "12283781          12283781  \n",
       "12048645          12048645  \n",
       "\n",
       "[2348828 rows x 6 columns]"
      ]
     },
     "execution_count": 35,
     "metadata": {},
     "output_type": "execute_result"
    }
   ],
   "source": [
    "dfBarb_scope.sort_values(by = \"avg_gas\", ascending = False)"
   ]
  },
  {
   "cell_type": "code",
   "execution_count": 36,
   "id": "6510086d-2fed-4669-84b7-60b9f1e96939",
   "metadata": {},
   "outputs": [],
   "source": [
    "# Merge Barbin and Threshold files"
   ]
  },
  {
   "cell_type": "code",
   "execution_count": 37,
   "id": "f7673c2d-c141-4f56-b6b3-a73fbd4f86ba",
   "metadata": {},
   "outputs": [],
   "source": [
    "# merge files\n",
    "dfMerged = dfBarb_scope.merge(dfThreshold[['block_number','threshold_gas']], left_on = \"block_number_bar\", right_on='block_number')\n"
   ]
  },
  {
   "cell_type": "code",
   "execution_count": 38,
   "id": "0600f2ac-7349-4f5b-bf9b-2b2299108de9",
   "metadata": {},
   "outputs": [
    {
     "data": {
      "text/html": [
       "<div><div id=fc1cb71e-58b8-4961-b9d3-8a77dd907be1 style=\"display:none; background-color:#9D6CFF; color:white; width:200px; height:30px; padding-left:5px; border-radius:4px; flex-direction:row; justify-content:space-around; align-items:center;\" onmouseover=\"this.style.backgroundColor='#BA9BF8'\" onmouseout=\"this.style.backgroundColor='#9D6CFF'\" onclick=\"window.commands?.execute('create-mitosheet-from-dataframe-output');\">See Full Dataframe in Mito</div> <script> if (window.commands?.hasCommand('create-mitosheet-from-dataframe-output')) document.getElementById('fc1cb71e-58b8-4961-b9d3-8a77dd907be1').style.display = 'flex' </script> <table border=\"1\" class=\"dataframe\">\n",
       "  <thead>\n",
       "    <tr style=\"text-align: right;\">\n",
       "      <th></th>\n",
       "      <th>tot_gas</th>\n",
       "      <th>avg_gas</th>\n",
       "      <th>median_gas</th>\n",
       "      <th>tx</th>\n",
       "      <th>ts</th>\n",
       "      <th>block_number_bar</th>\n",
       "      <th>block_number</th>\n",
       "      <th>threshold_gas</th>\n",
       "    </tr>\n",
       "  </thead>\n",
       "  <tbody>\n",
       "    <tr>\n",
       "      <th>0</th>\n",
       "      <td>22817345</td>\n",
       "      <td>34.401466</td>\n",
       "      <td>20.000000</td>\n",
       "      <td>92</td>\n",
       "      <td>2020-05-19 00:00:32</td>\n",
       "      <td>10093070</td>\n",
       "      <td>10093070</td>\n",
       "      <td>16.5</td>\n",
       "    </tr>\n",
       "    <tr>\n",
       "      <th>1</th>\n",
       "      <td>37810488</td>\n",
       "      <td>38.025468</td>\n",
       "      <td>20.000000</td>\n",
       "      <td>59</td>\n",
       "      <td>2020-05-19 00:00:59</td>\n",
       "      <td>10093071</td>\n",
       "      <td>10093071</td>\n",
       "      <td>16.5</td>\n",
       "    </tr>\n",
       "    <tr>\n",
       "      <th>2</th>\n",
       "      <td>19912767</td>\n",
       "      <td>66.245960</td>\n",
       "      <td>31.900000</td>\n",
       "      <td>56</td>\n",
       "      <td>2020-05-19 00:01:04</td>\n",
       "      <td>10093072</td>\n",
       "      <td>10093072</td>\n",
       "      <td>6.0</td>\n",
       "    </tr>\n",
       "    <tr>\n",
       "      <th>3</th>\n",
       "      <td>43009981</td>\n",
       "      <td>23.723614</td>\n",
       "      <td>18.000001</td>\n",
       "      <td>93</td>\n",
       "      <td>2020-05-19 00:01:29</td>\n",
       "      <td>10093073</td>\n",
       "      <td>10093073</td>\n",
       "      <td>16.0</td>\n",
       "    </tr>\n",
       "    <tr>\n",
       "      <th>4</th>\n",
       "      <td>26796744</td>\n",
       "      <td>41.613122</td>\n",
       "      <td>20.000000</td>\n",
       "      <td>77</td>\n",
       "      <td>2020-05-19 00:01:37</td>\n",
       "      <td>10093074</td>\n",
       "      <td>10093074</td>\n",
       "      <td>16.0</td>\n",
       "    </tr>\n",
       "    <tr>\n",
       "      <th>...</th>\n",
       "      <td>...</td>\n",
       "      <td>...</td>\n",
       "      <td>...</td>\n",
       "      <td>...</td>\n",
       "      <td>...</td>\n",
       "      <td>...</td>\n",
       "      <td>...</td>\n",
       "      <td>...</td>\n",
       "    </tr>\n",
       "    <tr>\n",
       "      <th>2346697</th>\n",
       "      <td>42583689</td>\n",
       "      <td>53.583429</td>\n",
       "      <td>46.200000</td>\n",
       "      <td>266</td>\n",
       "      <td>2021-05-24 23:58:42</td>\n",
       "      <td>12500184</td>\n",
       "      <td>12500184</td>\n",
       "      <td>36.3</td>\n",
       "    </tr>\n",
       "    <tr>\n",
       "      <th>2346698</th>\n",
       "      <td>24883565</td>\n",
       "      <td>41.715752</td>\n",
       "      <td>40.000000</td>\n",
       "      <td>213</td>\n",
       "      <td>2021-05-24 23:59:12</td>\n",
       "      <td>12500185</td>\n",
       "      <td>12500185</td>\n",
       "      <td>10.0</td>\n",
       "    </tr>\n",
       "    <tr>\n",
       "      <th>2346699</th>\n",
       "      <td>43760172</td>\n",
       "      <td>50.266184</td>\n",
       "      <td>46.805000</td>\n",
       "      <td>326</td>\n",
       "      <td>2021-05-24 23:59:14</td>\n",
       "      <td>12500186</td>\n",
       "      <td>12500186</td>\n",
       "      <td>6.0</td>\n",
       "    </tr>\n",
       "    <tr>\n",
       "      <th>2346700</th>\n",
       "      <td>54665462</td>\n",
       "      <td>46.356423</td>\n",
       "      <td>44.000000</td>\n",
       "      <td>163</td>\n",
       "      <td>2021-05-24 23:59:41</td>\n",
       "      <td>12500187</td>\n",
       "      <td>12500187</td>\n",
       "      <td>36.0</td>\n",
       "    </tr>\n",
       "    <tr>\n",
       "      <th>2346701</th>\n",
       "      <td>73517761</td>\n",
       "      <td>81.161562</td>\n",
       "      <td>55.500000</td>\n",
       "      <td>267</td>\n",
       "      <td>2021-05-24 23:59:51</td>\n",
       "      <td>12500188</td>\n",
       "      <td>12500188</td>\n",
       "      <td>46.0</td>\n",
       "    </tr>\n",
       "  </tbody>\n",
       "</table></div>"
      ],
      "text/plain": [
       "          tot_gas    avg_gas  median_gas   tx                  ts  \\\n",
       "0        22817345  34.401466   20.000000   92 2020-05-19 00:00:32   \n",
       "1        37810488  38.025468   20.000000   59 2020-05-19 00:00:59   \n",
       "2        19912767  66.245960   31.900000   56 2020-05-19 00:01:04   \n",
       "3        43009981  23.723614   18.000001   93 2020-05-19 00:01:29   \n",
       "4        26796744  41.613122   20.000000   77 2020-05-19 00:01:37   \n",
       "...           ...        ...         ...  ...                 ...   \n",
       "2346697  42583689  53.583429   46.200000  266 2021-05-24 23:58:42   \n",
       "2346698  24883565  41.715752   40.000000  213 2021-05-24 23:59:12   \n",
       "2346699  43760172  50.266184   46.805000  326 2021-05-24 23:59:14   \n",
       "2346700  54665462  46.356423   44.000000  163 2021-05-24 23:59:41   \n",
       "2346701  73517761  81.161562   55.500000  267 2021-05-24 23:59:51   \n",
       "\n",
       "         block_number_bar  block_number  threshold_gas  \n",
       "0                10093070      10093070           16.5  \n",
       "1                10093071      10093071           16.5  \n",
       "2                10093072      10093072            6.0  \n",
       "3                10093073      10093073           16.0  \n",
       "4                10093074      10093074           16.0  \n",
       "...                   ...           ...            ...  \n",
       "2346697          12500184      12500184           36.3  \n",
       "2346698          12500185      12500185           10.0  \n",
       "2346699          12500186      12500186            6.0  \n",
       "2346700          12500187      12500187           36.0  \n",
       "2346701          12500188      12500188           46.0  \n",
       "\n",
       "[2346702 rows x 8 columns]"
      ]
     },
     "execution_count": 38,
     "metadata": {},
     "output_type": "execute_result"
    }
   ],
   "source": [
    "dfMerged"
   ]
  },
  {
   "cell_type": "code",
   "execution_count": 39,
   "id": "a33d8e98-b765-4ae8-85f9-3cff2d5c60f7",
   "metadata": {},
   "outputs": [
    {
     "name": "stdout",
     "output_type": "stream",
     "text": [
      "<class 'pandas.core.frame.DataFrame'>\n",
      "Int64Index: 2346702 entries, 0 to 2346701\n",
      "Data columns (total 8 columns):\n",
      " #   Column            Dtype         \n",
      "---  ------            -----         \n",
      " 0   tot_gas           int64         \n",
      " 1   avg_gas           float64       \n",
      " 2   median_gas        float64       \n",
      " 3   tx                int64         \n",
      " 4   ts                datetime64[ns]\n",
      " 5   block_number_bar  int64         \n",
      " 6   block_number      int64         \n",
      " 7   threshold_gas     float64       \n",
      "dtypes: datetime64[ns](1), float64(3), int64(4)\n",
      "memory usage: 161.1 MB\n"
     ]
    }
   ],
   "source": [
    "dfMerged.info()"
   ]
  },
  {
   "cell_type": "markdown",
   "id": "f5101c73-cd88-4ba0-92c0-06c5b8ae4a57",
   "metadata": {},
   "source": [
    "# Merge with total gas used per block from BQ"
   ]
  },
  {
   "cell_type": "code",
   "execution_count": 41,
   "id": "a6729413-22c2-474d-8140-01c01b7c8717",
   "metadata": {},
   "outputs": [],
   "source": [
    "# merge files\n",
    "dfMerged = dfMerged.merge(dfGasUsedBlock[['block_number','sumGasUsed']], on='block_number', how = 'left')\n"
   ]
  },
  {
   "cell_type": "code",
   "execution_count": 44,
   "id": "d9e1c002-7c5b-485d-a5bf-e30a695dfd46",
   "metadata": {},
   "outputs": [],
   "source": [
    "dfMerged = dfMerged.rename(columns={\"sumGasUsed\": \"total_gasUsed\"})"
   ]
  },
  {
   "cell_type": "code",
   "execution_count": 45,
   "id": "998f6dec-ecdc-4d70-9023-c6ebad5fc113",
   "metadata": {},
   "outputs": [
    {
     "name": "stdout",
     "output_type": "stream",
     "text": [
      "<class 'pandas.core.frame.DataFrame'>\n",
      "Int64Index: 2346702 entries, 0 to 2346701\n",
      "Data columns (total 9 columns):\n",
      " #   Column            Dtype         \n",
      "---  ------            -----         \n",
      " 0   tot_gas           int64         \n",
      " 1   avg_gas           float64       \n",
      " 2   median_gas        float64       \n",
      " 3   tx                int64         \n",
      " 4   ts                datetime64[ns]\n",
      " 5   block_number_bar  int64         \n",
      " 6   block_number      int64         \n",
      " 7   threshold_gas     float64       \n",
      " 8   total_gasUsed     int64         \n",
      "dtypes: datetime64[ns](1), float64(3), int64(5)\n",
      "memory usage: 179.0 MB\n"
     ]
    }
   ],
   "source": [
    "dfMerged.info()"
   ]
  },
  {
   "cell_type": "code",
   "execution_count": 48,
   "id": "2c074dd3-337a-41e0-a6bf-1f0388c0b62e",
   "metadata": {},
   "outputs": [
    {
     "data": {
      "text/html": [
       "<div><div id=ec5b1e57-0525-43bc-b482-f3f97c645878 style=\"display:none; background-color:#9D6CFF; color:white; width:200px; height:30px; padding-left:5px; border-radius:4px; flex-direction:row; justify-content:space-around; align-items:center;\" onmouseover=\"this.style.backgroundColor='#BA9BF8'\" onmouseout=\"this.style.backgroundColor='#9D6CFF'\" onclick=\"window.commands?.execute('create-mitosheet-from-dataframe-output');\">See Full Dataframe in Mito</div> <script> if (window.commands?.hasCommand('create-mitosheet-from-dataframe-output')) document.getElementById('ec5b1e57-0525-43bc-b482-f3f97c645878').style.display = 'flex' </script> <table border=\"1\" class=\"dataframe\">\n",
       "  <thead>\n",
       "    <tr style=\"text-align: right;\">\n",
       "      <th></th>\n",
       "      <th>tot_gas</th>\n",
       "      <th>avg_gas</th>\n",
       "      <th>median_gas</th>\n",
       "      <th>tx</th>\n",
       "      <th>ts</th>\n",
       "      <th>block_number_bar</th>\n",
       "      <th>block_number</th>\n",
       "      <th>threshold_gas</th>\n",
       "      <th>total_gasUsed</th>\n",
       "    </tr>\n",
       "  </thead>\n",
       "  <tbody>\n",
       "    <tr>\n",
       "      <th>0</th>\n",
       "      <td>22817345</td>\n",
       "      <td>34.401466</td>\n",
       "      <td>20.000000</td>\n",
       "      <td>92</td>\n",
       "      <td>2020-05-19 00:00:32</td>\n",
       "      <td>10093070</td>\n",
       "      <td>10093070</td>\n",
       "      <td>16.5</td>\n",
       "      <td>9992145</td>\n",
       "    </tr>\n",
       "    <tr>\n",
       "      <th>1</th>\n",
       "      <td>37810488</td>\n",
       "      <td>38.025468</td>\n",
       "      <td>20.000000</td>\n",
       "      <td>59</td>\n",
       "      <td>2020-05-19 00:00:59</td>\n",
       "      <td>10093071</td>\n",
       "      <td>10093071</td>\n",
       "      <td>16.5</td>\n",
       "      <td>9988660</td>\n",
       "    </tr>\n",
       "    <tr>\n",
       "      <th>2</th>\n",
       "      <td>19912767</td>\n",
       "      <td>66.245960</td>\n",
       "      <td>31.900000</td>\n",
       "      <td>56</td>\n",
       "      <td>2020-05-19 00:01:04</td>\n",
       "      <td>10093072</td>\n",
       "      <td>10093072</td>\n",
       "      <td>6.0</td>\n",
       "      <td>9996320</td>\n",
       "    </tr>\n",
       "    <tr>\n",
       "      <th>3</th>\n",
       "      <td>43009981</td>\n",
       "      <td>23.723614</td>\n",
       "      <td>18.000001</td>\n",
       "      <td>93</td>\n",
       "      <td>2020-05-19 00:01:29</td>\n",
       "      <td>10093073</td>\n",
       "      <td>10093073</td>\n",
       "      <td>16.0</td>\n",
       "      <td>9981147</td>\n",
       "    </tr>\n",
       "    <tr>\n",
       "      <th>4</th>\n",
       "      <td>26796744</td>\n",
       "      <td>41.613122</td>\n",
       "      <td>20.000000</td>\n",
       "      <td>77</td>\n",
       "      <td>2020-05-19 00:01:37</td>\n",
       "      <td>10093074</td>\n",
       "      <td>10093074</td>\n",
       "      <td>16.0</td>\n",
       "      <td>9977063</td>\n",
       "    </tr>\n",
       "    <tr>\n",
       "      <th>...</th>\n",
       "      <td>...</td>\n",
       "      <td>...</td>\n",
       "      <td>...</td>\n",
       "      <td>...</td>\n",
       "      <td>...</td>\n",
       "      <td>...</td>\n",
       "      <td>...</td>\n",
       "      <td>...</td>\n",
       "      <td>...</td>\n",
       "    </tr>\n",
       "    <tr>\n",
       "      <th>2346697</th>\n",
       "      <td>42583689</td>\n",
       "      <td>53.583429</td>\n",
       "      <td>46.200000</td>\n",
       "      <td>266</td>\n",
       "      <td>2021-05-24 23:58:42</td>\n",
       "      <td>12500184</td>\n",
       "      <td>12500184</td>\n",
       "      <td>36.3</td>\n",
       "      <td>14994858</td>\n",
       "    </tr>\n",
       "    <tr>\n",
       "      <th>2346698</th>\n",
       "      <td>24883565</td>\n",
       "      <td>41.715752</td>\n",
       "      <td>40.000000</td>\n",
       "      <td>213</td>\n",
       "      <td>2021-05-24 23:59:12</td>\n",
       "      <td>12500185</td>\n",
       "      <td>12500185</td>\n",
       "      <td>10.0</td>\n",
       "      <td>14988469</td>\n",
       "    </tr>\n",
       "    <tr>\n",
       "      <th>2346699</th>\n",
       "      <td>43760172</td>\n",
       "      <td>50.266184</td>\n",
       "      <td>46.805000</td>\n",
       "      <td>326</td>\n",
       "      <td>2021-05-24 23:59:14</td>\n",
       "      <td>12500186</td>\n",
       "      <td>12500186</td>\n",
       "      <td>6.0</td>\n",
       "      <td>14995703</td>\n",
       "    </tr>\n",
       "    <tr>\n",
       "      <th>2346700</th>\n",
       "      <td>54665462</td>\n",
       "      <td>46.356423</td>\n",
       "      <td>44.000000</td>\n",
       "      <td>163</td>\n",
       "      <td>2021-05-24 23:59:41</td>\n",
       "      <td>12500187</td>\n",
       "      <td>12500187</td>\n",
       "      <td>36.0</td>\n",
       "      <td>15003643</td>\n",
       "    </tr>\n",
       "    <tr>\n",
       "      <th>2346701</th>\n",
       "      <td>73517761</td>\n",
       "      <td>81.161562</td>\n",
       "      <td>55.500000</td>\n",
       "      <td>267</td>\n",
       "      <td>2021-05-24 23:59:51</td>\n",
       "      <td>12500188</td>\n",
       "      <td>12500188</td>\n",
       "      <td>46.0</td>\n",
       "      <td>14995142</td>\n",
       "    </tr>\n",
       "  </tbody>\n",
       "</table></div>"
      ],
      "text/plain": [
       "          tot_gas    avg_gas  median_gas   tx                  ts  \\\n",
       "0        22817345  34.401466   20.000000   92 2020-05-19 00:00:32   \n",
       "1        37810488  38.025468   20.000000   59 2020-05-19 00:00:59   \n",
       "2        19912767  66.245960   31.900000   56 2020-05-19 00:01:04   \n",
       "3        43009981  23.723614   18.000001   93 2020-05-19 00:01:29   \n",
       "4        26796744  41.613122   20.000000   77 2020-05-19 00:01:37   \n",
       "...           ...        ...         ...  ...                 ...   \n",
       "2346697  42583689  53.583429   46.200000  266 2021-05-24 23:58:42   \n",
       "2346698  24883565  41.715752   40.000000  213 2021-05-24 23:59:12   \n",
       "2346699  43760172  50.266184   46.805000  326 2021-05-24 23:59:14   \n",
       "2346700  54665462  46.356423   44.000000  163 2021-05-24 23:59:41   \n",
       "2346701  73517761  81.161562   55.500000  267 2021-05-24 23:59:51   \n",
       "\n",
       "         block_number_bar  block_number  threshold_gas  total_gasUsed  \n",
       "0                10093070      10093070           16.5        9992145  \n",
       "1                10093071      10093071           16.5        9988660  \n",
       "2                10093072      10093072            6.0        9996320  \n",
       "3                10093073      10093073           16.0        9981147  \n",
       "4                10093074      10093074           16.0        9977063  \n",
       "...                   ...           ...            ...            ...  \n",
       "2346697          12500184      12500184           36.3       14994858  \n",
       "2346698          12500185      12500185           10.0       14988469  \n",
       "2346699          12500186      12500186            6.0       14995703  \n",
       "2346700          12500187      12500187           36.0       15003643  \n",
       "2346701          12500188      12500188           46.0       14995142  \n",
       "\n",
       "[2346702 rows x 9 columns]"
      ]
     },
     "execution_count": 48,
     "metadata": {},
     "output_type": "execute_result"
    }
   ],
   "source": [
    "dfMerged"
   ]
  },
  {
   "cell_type": "markdown",
   "id": "05c8cc32-6bec-415e-8a70-7d30117ac41c",
   "metadata": {},
   "source": [
    "# Save gasPriceAll-file"
   ]
  },
  {
   "cell_type": "code",
   "execution_count": 46,
   "id": "ef2b360c-d268-4e7f-be71-36c78b47ced9",
   "metadata": {},
   "outputs": [],
   "source": [
    "dfMerged.to_parquet(\"/Volumes/Extreme SSD/01_GasData/GasPriceAll.par\")"
   ]
  },
  {
   "cell_type": "code",
   "execution_count": 49,
   "id": "9d0caa20-aa23-4015-85da-8f005358f51b",
   "metadata": {},
   "outputs": [],
   "source": [
    "dfMerged.to_csv(\"/Volumes/Extreme SSD/01_GasData/GasPriceAll.csv\")"
   ]
  },
  {
   "cell_type": "code",
   "execution_count": null,
   "id": "a53d6a38-fd46-4ba8-9c05-2527011cb6e0",
   "metadata": {},
   "outputs": [],
   "source": []
  }
 ],
 "metadata": {
  "kernelspec": {
   "display_name": "Python 3 (ipykernel)",
   "language": "python",
   "name": "python3"
  },
  "language_info": {
   "codemirror_mode": {
    "name": "ipython",
    "version": 3
   },
   "file_extension": ".py",
   "mimetype": "text/x-python",
   "name": "python",
   "nbconvert_exporter": "python",
   "pygments_lexer": "ipython3",
   "version": "3.9.12"
  }
 },
 "nbformat": 4,
 "nbformat_minor": 5
}
