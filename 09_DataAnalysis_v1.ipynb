{
 "cells": [
  {
   "cell_type": "markdown",
   "id": "425e2a72-4f0a-4bc3-aea4-ee84e02cf06e",
   "metadata": {},
   "source": [
    "# Packages"
   ]
  },
  {
   "cell_type": "code",
   "execution_count": 1,
   "id": "42225dea-7682-4172-ac72-b4f7b58ff7ce",
   "metadata": {},
   "outputs": [],
   "source": [
    "import pandas as pd\n",
    "import numpy as np\n",
    "import os\n",
    "import statsmodels.api as sm\n",
    "import matplotlib.pyplot as plt\n",
    "import seaborn as sns\n",
    "import mitosheet\n",
    "from stargazer.stargazer import Stargazer\n",
    "\n",
    "pd.set_option('display.max_columns', None)\n",
    "pd.set_option('max_colwidth', None) # show full width of showing cols"
   ]
  },
  {
   "cell_type": "markdown",
   "id": "49b94c03-b6dd-4b00-a60a-3640bb7664b0",
   "metadata": {},
   "source": [
    "# Master frame"
   ]
  },
  {
   "cell_type": "code",
   "execution_count": 2,
   "id": "62823dcd-10e6-40ea-b81c-41697c60e2cd",
   "metadata": {},
   "outputs": [],
   "source": [
    "dfMaster = pd.read_csv(\"/Volumes/Extreme SSD/97_FinalSet/MEV_finalDataSet_v2.csv\")"
   ]
  },
  {
   "cell_type": "code",
   "execution_count": 3,
   "id": "cac84d98-824c-4329-b9b7-44a8befce05c",
   "metadata": {},
   "outputs": [
    {
     "data": {
      "text/html": [
       "<div>\n",
       "<style scoped>\n",
       "    .dataframe tbody tr th:only-of-type {\n",
       "        vertical-align: middle;\n",
       "    }\n",
       "\n",
       "    .dataframe tbody tr th {\n",
       "        vertical-align: top;\n",
       "    }\n",
       "\n",
       "    .dataframe thead th {\n",
       "        text-align: right;\n",
       "    }\n",
       "</style>\n",
       "<table border=\"1\" class=\"dataframe\">\n",
       "  <thead>\n",
       "    <tr style=\"text-align: right;\">\n",
       "      <th></th>\n",
       "      <th>Unnamed: 0</th>\n",
       "      <th>block_number</th>\n",
       "      <th>tot_gas</th>\n",
       "      <th>avg_gas</th>\n",
       "      <th>median_gas</th>\n",
       "      <th>tx</th>\n",
       "      <th>ts</th>\n",
       "      <th>threshold_gas</th>\n",
       "      <th>GasFee_Gwei</th>\n",
       "      <th>gasUsed</th>\n",
       "      <th>AttackCount</th>\n",
       "      <th>gasPrice_min</th>\n",
       "      <th>gasPrice_max</th>\n",
       "      <th>gasPrice_avg</th>\n",
       "      <th>difficulty</th>\n",
       "      <th>transaction_count</th>\n",
       "      <th>price_USD</th>\n",
       "      <th>ts_EthPrice</th>\n",
       "      <th>price_USD_delta</th>\n",
       "      <th>time_delta</th>\n",
       "      <th>price_USD_MA5</th>\n",
       "      <th>price_USD_MA30min</th>\n",
       "      <th>price_USD_MA24h</th>\n",
       "      <th>AttackCount_10k</th>\n",
       "    </tr>\n",
       "  </thead>\n",
       "  <tbody>\n",
       "    <tr>\n",
       "      <th>0</th>\n",
       "      <td>0</td>\n",
       "      <td>10093070</td>\n",
       "      <td>22817345</td>\n",
       "      <td>34.401466</td>\n",
       "      <td>20.0</td>\n",
       "      <td>92</td>\n",
       "      <td>2020-05-19 00:00:32</td>\n",
       "      <td>16.5</td>\n",
       "      <td>0.0</td>\n",
       "      <td>0</td>\n",
       "      <td>0.0</td>\n",
       "      <td>0.0</td>\n",
       "      <td>0.0</td>\n",
       "      <td>0.0</td>\n",
       "      <td>2286461242157597</td>\n",
       "      <td>92</td>\n",
       "      <td>214.91</td>\n",
       "      <td>2020-05-19 00:01:02</td>\n",
       "      <td>0.0</td>\n",
       "      <td>0.0</td>\n",
       "      <td>0.0</td>\n",
       "      <td>0.0</td>\n",
       "      <td>0.0</td>\n",
       "      <td>0.0</td>\n",
       "    </tr>\n",
       "    <tr>\n",
       "      <th>1</th>\n",
       "      <td>1</td>\n",
       "      <td>10093071</td>\n",
       "      <td>37810488</td>\n",
       "      <td>38.025468</td>\n",
       "      <td>20.0</td>\n",
       "      <td>59</td>\n",
       "      <td>2020-05-19 00:00:59</td>\n",
       "      <td>16.5</td>\n",
       "      <td>0.0</td>\n",
       "      <td>0</td>\n",
       "      <td>0.0</td>\n",
       "      <td>0.0</td>\n",
       "      <td>0.0</td>\n",
       "      <td>0.0</td>\n",
       "      <td>2284228369851059</td>\n",
       "      <td>59</td>\n",
       "      <td>214.91</td>\n",
       "      <td>2020-05-19 00:01:02</td>\n",
       "      <td>0.0</td>\n",
       "      <td>27.0</td>\n",
       "      <td>0.0</td>\n",
       "      <td>0.0</td>\n",
       "      <td>0.0</td>\n",
       "      <td>0.0</td>\n",
       "    </tr>\n",
       "  </tbody>\n",
       "</table>\n",
       "</div>"
      ],
      "text/plain": [
       "   Unnamed: 0  block_number   tot_gas    avg_gas  median_gas  tx  \\\n",
       "0           0      10093070  22817345  34.401466        20.0  92   \n",
       "1           1      10093071  37810488  38.025468        20.0  59   \n",
       "\n",
       "                    ts  threshold_gas  GasFee_Gwei  gasUsed  AttackCount  \\\n",
       "0  2020-05-19 00:00:32           16.5          0.0        0          0.0   \n",
       "1  2020-05-19 00:00:59           16.5          0.0        0          0.0   \n",
       "\n",
       "   gasPrice_min  gasPrice_max  gasPrice_avg        difficulty  \\\n",
       "0           0.0           0.0           0.0  2286461242157597   \n",
       "1           0.0           0.0           0.0  2284228369851059   \n",
       "\n",
       "   transaction_count  price_USD          ts_EthPrice  price_USD_delta  \\\n",
       "0                 92     214.91  2020-05-19 00:01:02              0.0   \n",
       "1                 59     214.91  2020-05-19 00:01:02              0.0   \n",
       "\n",
       "   time_delta  price_USD_MA5  price_USD_MA30min  price_USD_MA24h  \\\n",
       "0         0.0            0.0                0.0              0.0   \n",
       "1        27.0            0.0                0.0              0.0   \n",
       "\n",
       "   AttackCount_10k  \n",
       "0              0.0  \n",
       "1              0.0  "
      ]
     },
     "execution_count": 3,
     "metadata": {},
     "output_type": "execute_result"
    }
   ],
   "source": [
    "dfMaster.head(2)\n",
    "\n"
   ]
  },
  {
   "cell_type": "code",
   "execution_count": null,
   "id": "f57dbd1f-d8f5-4a5a-92ad-c452dd0bd177",
   "metadata": {},
   "outputs": [],
   "source": []
  },
  {
   "cell_type": "code",
   "execution_count": null,
   "id": "9c19874c-0b0a-4689-9dd9-4ebecbe014d9",
   "metadata": {},
   "outputs": [],
   "source": []
  },
  {
   "cell_type": "code",
   "execution_count": null,
   "id": "9ae18387-fdfe-4842-b89b-e8fd6c7e6e49",
   "metadata": {},
   "outputs": [],
   "source": []
  },
  {
   "cell_type": "code",
   "execution_count": null,
   "id": "8872f3e8-afbd-461b-9acd-791a2467b7d9",
   "metadata": {},
   "outputs": [],
   "source": []
  },
  {
   "cell_type": "markdown",
   "id": "b73d18e5-764e-464d-8061-cb9a1b386acf",
   "metadata": {},
   "source": [
    "# Gas price data"
   ]
  },
  {
   "cell_type": "code",
   "execution_count": 2,
   "id": "4d1fae05-4db6-40d2-be2b-eeb1e9e4de4c",
   "metadata": {},
   "outputs": [],
   "source": [
    "dfGasPriceAll = pd.read_parquet(f\"/Volumes/Extreme SSD/01_GasData/GasPriceAll.par\")\n"
   ]
  },
  {
   "cell_type": "code",
   "execution_count": 3,
   "id": "e8000eca-86cd-4a7c-b1c5-fee949041b72",
   "metadata": {},
   "outputs": [],
   "source": [
    "dfGasPriceAll = dfGasPriceAll.sort_values(by = \"block_number\", ascending = True)\n",
    "# Rename threshold column\n",
    "dfGasPriceAll = dfGasPriceAll.rename(columns = {\"trans_gasPrice_Gwei\":\"threshold_gas\"})"
   ]
  },
  {
   "cell_type": "code",
   "execution_count": 6,
   "id": "73d06bc0-2471-4b70-9ff5-03d201bea11f",
   "metadata": {},
   "outputs": [],
   "source": [
    "dfGasPriceAll[\"avg_gas_log\"] = np.log(dfGasPriceAll[\"avg_gas\"])"
   ]
  },
  {
   "cell_type": "code",
   "execution_count": 4,
   "id": "a5f11c92-bf71-40e6-994f-f642962d5acf",
   "metadata": {},
   "outputs": [],
   "source": [
    "dfBarbon = pd.read_parquet(f\"/Volumes/Extreme SSD/01_GasData/gas_ts_block.par\")\n"
   ]
  },
  {
   "cell_type": "code",
   "execution_count": 13,
   "id": "f48e4a12-eea3-4860-9f1f-1c87b6721e49",
   "metadata": {},
   "outputs": [],
   "source": [
    "dfBarbonScope = dfBarbon.loc[10093070:12500188]\n"
   ]
  },
  {
   "cell_type": "code",
   "execution_count": 14,
   "id": "40332758-e4e5-4979-a211-453d0bef223a",
   "metadata": {},
   "outputs": [
    {
     "data": {
      "text/html": [
       "<div>\n",
       "<style scoped>\n",
       "    .dataframe tbody tr th:only-of-type {\n",
       "        vertical-align: middle;\n",
       "    }\n",
       "\n",
       "    .dataframe tbody tr th {\n",
       "        vertical-align: top;\n",
       "    }\n",
       "\n",
       "    .dataframe thead th {\n",
       "        text-align: right;\n",
       "    }\n",
       "</style>\n",
       "<table border=\"1\" class=\"dataframe\">\n",
       "  <thead>\n",
       "    <tr style=\"text-align: right;\">\n",
       "      <th></th>\n",
       "      <th>tot_gas</th>\n",
       "      <th>avg_gas</th>\n",
       "      <th>median_gas</th>\n",
       "      <th>tx</th>\n",
       "      <th>ts</th>\n",
       "    </tr>\n",
       "  </thead>\n",
       "  <tbody>\n",
       "    <tr>\n",
       "      <th>10093070</th>\n",
       "      <td>22817345</td>\n",
       "      <td>34.401466</td>\n",
       "      <td>20.000000</td>\n",
       "      <td>92</td>\n",
       "      <td>2020-05-19 00:00:32</td>\n",
       "    </tr>\n",
       "    <tr>\n",
       "      <th>10093071</th>\n",
       "      <td>37810488</td>\n",
       "      <td>38.025468</td>\n",
       "      <td>20.000000</td>\n",
       "      <td>59</td>\n",
       "      <td>2020-05-19 00:00:59</td>\n",
       "    </tr>\n",
       "    <tr>\n",
       "      <th>10093072</th>\n",
       "      <td>19912767</td>\n",
       "      <td>66.245960</td>\n",
       "      <td>31.900000</td>\n",
       "      <td>56</td>\n",
       "      <td>2020-05-19 00:01:04</td>\n",
       "    </tr>\n",
       "    <tr>\n",
       "      <th>10093073</th>\n",
       "      <td>43009981</td>\n",
       "      <td>23.723614</td>\n",
       "      <td>18.000001</td>\n",
       "      <td>93</td>\n",
       "      <td>2020-05-19 00:01:29</td>\n",
       "    </tr>\n",
       "    <tr>\n",
       "      <th>10093074</th>\n",
       "      <td>26796744</td>\n",
       "      <td>41.613122</td>\n",
       "      <td>20.000000</td>\n",
       "      <td>77</td>\n",
       "      <td>2020-05-19 00:01:37</td>\n",
       "    </tr>\n",
       "    <tr>\n",
       "      <th>...</th>\n",
       "      <td>...</td>\n",
       "      <td>...</td>\n",
       "      <td>...</td>\n",
       "      <td>...</td>\n",
       "      <td>...</td>\n",
       "    </tr>\n",
       "    <tr>\n",
       "      <th>12500184</th>\n",
       "      <td>42583689</td>\n",
       "      <td>53.583429</td>\n",
       "      <td>46.200000</td>\n",
       "      <td>266</td>\n",
       "      <td>2021-05-24 23:58:42</td>\n",
       "    </tr>\n",
       "    <tr>\n",
       "      <th>12500185</th>\n",
       "      <td>24883565</td>\n",
       "      <td>41.715752</td>\n",
       "      <td>40.000000</td>\n",
       "      <td>213</td>\n",
       "      <td>2021-05-24 23:59:12</td>\n",
       "    </tr>\n",
       "    <tr>\n",
       "      <th>12500186</th>\n",
       "      <td>43760172</td>\n",
       "      <td>50.266184</td>\n",
       "      <td>46.805000</td>\n",
       "      <td>326</td>\n",
       "      <td>2021-05-24 23:59:14</td>\n",
       "    </tr>\n",
       "    <tr>\n",
       "      <th>12500187</th>\n",
       "      <td>54665462</td>\n",
       "      <td>46.356423</td>\n",
       "      <td>44.000000</td>\n",
       "      <td>163</td>\n",
       "      <td>2021-05-24 23:59:41</td>\n",
       "    </tr>\n",
       "    <tr>\n",
       "      <th>12500188</th>\n",
       "      <td>73517761</td>\n",
       "      <td>81.161562</td>\n",
       "      <td>55.500000</td>\n",
       "      <td>267</td>\n",
       "      <td>2021-05-24 23:59:51</td>\n",
       "    </tr>\n",
       "  </tbody>\n",
       "</table>\n",
       "<p>2348828 rows × 5 columns</p>\n",
       "</div>"
      ],
      "text/plain": [
       "           tot_gas    avg_gas  median_gas   tx                  ts\n",
       "10093070  22817345  34.401466   20.000000   92 2020-05-19 00:00:32\n",
       "10093071  37810488  38.025468   20.000000   59 2020-05-19 00:00:59\n",
       "10093072  19912767  66.245960   31.900000   56 2020-05-19 00:01:04\n",
       "10093073  43009981  23.723614   18.000001   93 2020-05-19 00:01:29\n",
       "10093074  26796744  41.613122   20.000000   77 2020-05-19 00:01:37\n",
       "...            ...        ...         ...  ...                 ...\n",
       "12500184  42583689  53.583429   46.200000  266 2021-05-24 23:58:42\n",
       "12500185  24883565  41.715752   40.000000  213 2021-05-24 23:59:12\n",
       "12500186  43760172  50.266184   46.805000  326 2021-05-24 23:59:14\n",
       "12500187  54665462  46.356423   44.000000  163 2021-05-24 23:59:41\n",
       "12500188  73517761  81.161562   55.500000  267 2021-05-24 23:59:51\n",
       "\n",
       "[2348828 rows x 5 columns]"
      ]
     },
     "execution_count": 14,
     "metadata": {},
     "output_type": "execute_result"
    }
   ],
   "source": [
    "dfBarbonScope"
   ]
  },
  {
   "cell_type": "code",
   "execution_count": null,
   "id": "7854fa33-d16a-4ea8-9e33-1fc48dcd8c20",
   "metadata": {},
   "outputs": [],
   "source": [
    "dfGasPriceAll"
   ]
  },
  {
   "cell_type": "code",
   "execution_count": 8,
   "id": "fbaed6cb-d044-468c-83a4-1cab364e42df",
   "metadata": {},
   "outputs": [
    {
     "data": {
      "application/vnd.jupyter.widget-view+json": {
       "model_id": "1f33c04039da49768360c7a6ebec84a2",
       "version_major": 2,
       "version_minor": 0
      },
      "text/plain": [
       "MitoWidget(analysis_data_json='{\"analysisName\": \"id-ociefsekff\", \"analysisToReplay\": null, \"code\": [], \"stepSu…"
      ]
     },
     "metadata": {},
     "output_type": "display_data"
    }
   ],
   "source": [
    "import mitosheet\n",
    "mitosheet.sheet(dfGasPriceAll, analysis_to_replay=\"id-ociefsekff\")"
   ]
  },
  {
   "cell_type": "code",
   "execution_count": 4,
   "id": "668a48f7-fe73-4073-9feb-12728c4264cc",
   "metadata": {},
   "outputs": [],
   "source": []
  },
  {
   "cell_type": "code",
   "execution_count": 21,
   "id": "29c3dfbd-e08a-428d-b562-e213741ef974",
   "metadata": {},
   "outputs": [
    {
     "data": {
      "text/html": [
       "<div>\n",
       "<style scoped>\n",
       "    .dataframe tbody tr th:only-of-type {\n",
       "        vertical-align: middle;\n",
       "    }\n",
       "\n",
       "    .dataframe tbody tr th {\n",
       "        vertical-align: top;\n",
       "    }\n",
       "\n",
       "    .dataframe thead th {\n",
       "        text-align: right;\n",
       "    }\n",
       "</style>\n",
       "<table border=\"1\" class=\"dataframe\">\n",
       "  <thead>\n",
       "    <tr style=\"text-align: right;\">\n",
       "      <th></th>\n",
       "      <th>tot_gas</th>\n",
       "      <th>avg_gas</th>\n",
       "      <th>median_gas</th>\n",
       "      <th>tx</th>\n",
       "      <th>block_number_bar</th>\n",
       "      <th>block_number</th>\n",
       "      <th>threshold_gas</th>\n",
       "    </tr>\n",
       "  </thead>\n",
       "  <tbody>\n",
       "    <tr>\n",
       "      <th>count</th>\n",
       "      <td>2.345143e+06</td>\n",
       "      <td>2.345143e+06</td>\n",
       "      <td>2.345143e+06</td>\n",
       "      <td>2.345143e+06</td>\n",
       "      <td>2.345143e+06</td>\n",
       "      <td>2.345143e+06</td>\n",
       "      <td>2.345143e+06</td>\n",
       "    </tr>\n",
       "    <tr>\n",
       "      <th>mean</th>\n",
       "      <td>3.222173e+07</td>\n",
       "      <td>1.074692e+02</td>\n",
       "      <td>9.590141e+01</td>\n",
       "      <td>1.859253e+02</td>\n",
       "      <td>1.130276e+07</td>\n",
       "      <td>1.130276e+07</td>\n",
       "      <td>8.620463e+01</td>\n",
       "    </tr>\n",
       "    <tr>\n",
       "      <th>std</th>\n",
       "      <td>1.489559e+07</td>\n",
       "      <td>2.481893e+03</td>\n",
       "      <td>8.633097e+01</td>\n",
       "      <td>6.470465e+01</td>\n",
       "      <td>6.937131e+05</td>\n",
       "      <td>6.937131e+05</td>\n",
       "      <td>7.825787e+01</td>\n",
       "    </tr>\n",
       "    <tr>\n",
       "      <th>min</th>\n",
       "      <td>6.000000e+04</td>\n",
       "      <td>3.646296e-01</td>\n",
       "      <td>0.000000e+00</td>\n",
       "      <td>1.000000e+00</td>\n",
       "      <td>1.009307e+07</td>\n",
       "      <td>1.009307e+07</td>\n",
       "      <td>1.004233e+00</td>\n",
       "    </tr>\n",
       "    <tr>\n",
       "      <th>25%</th>\n",
       "      <td>2.467491e+07</td>\n",
       "      <td>4.556249e+01</td>\n",
       "      <td>4.000000e+01</td>\n",
       "      <td>1.460000e+02</td>\n",
       "      <td>1.070415e+07</td>\n",
       "      <td>1.070415e+07</td>\n",
       "      <td>3.500000e+01</td>\n",
       "    </tr>\n",
       "    <tr>\n",
       "      <th>50%</th>\n",
       "      <td>2.930626e+07</td>\n",
       "      <td>8.022090e+01</td>\n",
       "      <td>7.300000e+01</td>\n",
       "      <td>1.820000e+02</td>\n",
       "      <td>1.130473e+07</td>\n",
       "      <td>1.130473e+07</td>\n",
       "      <td>6.583500e+01</td>\n",
       "    </tr>\n",
       "    <tr>\n",
       "      <th>75%</th>\n",
       "      <td>3.552057e+07</td>\n",
       "      <td>1.333039e+02</td>\n",
       "      <td>1.230000e+02</td>\n",
       "      <td>2.210000e+02</td>\n",
       "      <td>1.190390e+07</td>\n",
       "      <td>1.190390e+07</td>\n",
       "      <td>1.110000e+02</td>\n",
       "    </tr>\n",
       "    <tr>\n",
       "      <th>max</th>\n",
       "      <td>8.677214e+08</td>\n",
       "      <td>3.006170e+06</td>\n",
       "      <td>8.800000e+03</td>\n",
       "      <td>7.140000e+02</td>\n",
       "      <td>1.250019e+07</td>\n",
       "      <td>1.250019e+07</td>\n",
       "      <td>1.225840e+04</td>\n",
       "    </tr>\n",
       "  </tbody>\n",
       "</table>\n",
       "</div>"
      ],
      "text/plain": [
       "            tot_gas       avg_gas    median_gas            tx  \\\n",
       "count  2.345143e+06  2.345143e+06  2.345143e+06  2.345143e+06   \n",
       "mean   3.222173e+07  1.074692e+02  9.590141e+01  1.859253e+02   \n",
       "std    1.489559e+07  2.481893e+03  8.633097e+01  6.470465e+01   \n",
       "min    6.000000e+04  3.646296e-01  0.000000e+00  1.000000e+00   \n",
       "25%    2.467491e+07  4.556249e+01  4.000000e+01  1.460000e+02   \n",
       "50%    2.930626e+07  8.022090e+01  7.300000e+01  1.820000e+02   \n",
       "75%    3.552057e+07  1.333039e+02  1.230000e+02  2.210000e+02   \n",
       "max    8.677214e+08  3.006170e+06  8.800000e+03  7.140000e+02   \n",
       "\n",
       "       block_number_bar  block_number  threshold_gas  \n",
       "count      2.345143e+06  2.345143e+06   2.345143e+06  \n",
       "mean       1.130276e+07  1.130276e+07   8.620463e+01  \n",
       "std        6.937131e+05  6.937131e+05   7.825787e+01  \n",
       "min        1.009307e+07  1.009307e+07   1.004233e+00  \n",
       "25%        1.070415e+07  1.070415e+07   3.500000e+01  \n",
       "50%        1.130473e+07  1.130473e+07   6.583500e+01  \n",
       "75%        1.190390e+07  1.190390e+07   1.110000e+02  \n",
       "max        1.250019e+07  1.250019e+07   1.225840e+04  "
      ]
     },
     "execution_count": 21,
     "metadata": {},
     "output_type": "execute_result"
    }
   ],
   "source": [
    "dfGasPriceAll.describe()"
   ]
  },
  {
   "cell_type": "code",
   "execution_count": null,
   "id": "cdee924c-8391-4210-bdbe-99172dba627d",
   "metadata": {},
   "outputs": [],
   "source": [
    "dfGasPriceAll"
   ]
  },
  {
   "cell_type": "code",
   "execution_count": 9,
   "id": "426c15ca-9d1e-4757-a786-c164f20d2552",
   "metadata": {},
   "outputs": [
    {
     "data": {
      "application/vnd.jupyter.widget-view+json": {
       "model_id": "cdce65922546459192b07fce71ef76bb",
       "version_major": 2,
       "version_minor": 0
      },
      "text/plain": [
       "MitoWidget(analysis_data_json='{\"analysisName\": \"id-npspcuhhua\", \"analysisToReplay\": null, \"code\": [], \"stepSu…"
      ]
     },
     "metadata": {},
     "output_type": "display_data"
    }
   ],
   "source": [
    "import mitosheet\n",
    "mitosheet.sheet(dfGasPriceAll)"
   ]
  },
  {
   "cell_type": "code",
   "execution_count": 38,
   "id": "b4fd6afc-5f39-44ac-b055-0a352f5d6acb",
   "metadata": {},
   "outputs": [
    {
     "data": {
      "image/png": "[encoded data removed]",
      "text/plain": [
       "<Figure size 432x288 with 1 Axes>"
      ]
     },
     "metadata": {
      "needs_background": "light"
     },
     "output_type": "display_data"
    }
   ],
   "source": [
    "\n"
   ]
  },
  {
   "cell_type": "code",
   "execution_count": 25,
   "id": "05198714-6f21-4a40-ac53-1091038ff6c4",
   "metadata": {},
   "outputs": [
    {
     "ename": "NameError",
     "evalue": "name 'avg_gas' is not defined",
     "output_type": "error",
     "traceback": [
      "\u001b[0;31m---------------------------------------------------------------------------\u001b[0m",
      "\u001b[0;31mNameError\u001b[0m                                 Traceback (most recent call last)",
      "Input \u001b[0;32mIn [25]\u001b[0m, in \u001b[0;36m<cell line: 1>\u001b[0;34m()\u001b[0m\n\u001b[0;32m----> 1\u001b[0m np\u001b[38;5;241m.\u001b[39mlog(\u001b[43mavg_gas\u001b[49m)\n",
      "\u001b[0;31mNameError\u001b[0m: name 'avg_gas' is not defined"
     ]
    }
   ],
   "source": [
    "np.log(dfGasPriceAll[avg_gas])"
   ]
  },
  {
   "cell_type": "code",
   "execution_count": 33,
   "id": "09b9e0de-e6e6-433c-bc79-2c1a7b730eb8",
   "metadata": {},
   "outputs": [],
   "source": [
    "avg_gas_log = np.log(dfGasPriceAll[\"avg_gas\"])\n"
   ]
  },
  {
   "cell_type": "markdown",
   "id": "5e213e6c-c345-44b2-9514-9f556da7d284",
   "metadata": {},
   "source": [
    "# Plot: gas price"
   ]
  },
  {
   "cell_type": "code",
   "execution_count": 7,
   "id": "c2b60ba5-2701-4795-b7c0-e2d9a827011b",
   "metadata": {},
   "outputs": [
    {
     "data": {
      "image/png": "[encoded data removed]",
      "text/plain": [
       "<Figure size 432x288 with 1 Axes>"
      ]
     },
     "metadata": {
      "needs_background": "light"
     },
     "output_type": "display_data"
    }
   ],
   "source": [
    "line_avg_gas = sns.lineplot(x=\"block_number\", y=\"avg_gas_log\", data=dfGasPriceAll)"
   ]
  },
  {
   "cell_type": "code",
   "execution_count": 10,
   "id": "c74989b2-3040-47ae-95bb-46e0dd584018",
   "metadata": {},
   "outputs": [
    {
     "data": {
      "image/png": "[encoded data removed]",
      "text/plain": [
       "<Figure size 432x288 with 1 Axes>"
      ]
     },
     "metadata": {
      "needs_background": "light"
     },
     "output_type": "display_data"
    }
   ],
   "source": [
    "line_avg_gas = sns.lineplot(x=\"block_number\", y=\"avg_gas\", data=dfGasPriceAll)\n",
    "#line_avg_gas.set(ylim=(0, 1000))"
   ]
  },
  {
   "cell_type": "code",
   "execution_count": 11,
   "id": "4ba07f5d-4670-42b9-929c-6321a59bf86c",
   "metadata": {},
   "outputs": [
    {
     "data": {
      "text/plain": [
       "[(0.0, 200.0)]"
      ]
     },
     "execution_count": 11,
     "metadata": {},
     "output_type": "execute_result"
    },
    {
     "data": {
      "image/png": "[encoded data removed]",
      "text/plain": [
       "<Figure size 432x288 with 1 Axes>"
      ]
     },
     "metadata": {
      "needs_background": "light"
     },
     "output_type": "display_data"
    }
   ],
   "source": [
    "line_avg_gas = sns.lineplot(x=\"block_number\", y=\"avg_gas\", data=dfGasPriceAll)\n",
    "line_avg_gas.set(ylim=(0, 200))"
   ]
  },
  {
   "cell_type": "code",
   "execution_count": null,
   "id": "452582b3-881f-4f88-8aca-d7d0ac360797",
   "metadata": {},
   "outputs": [],
   "source": []
  },
  {
   "cell_type": "code",
   "execution_count": null,
   "id": "dcdd7bfb-b5ad-477a-82bc-1236382eb215",
   "metadata": {},
   "outputs": [],
   "source": []
  },
  {
   "cell_type": "code",
   "execution_count": null,
   "id": "69e04575-5d06-407a-859f-be8d4ca9257d",
   "metadata": {},
   "outputs": [],
   "source": []
  },
  {
   "cell_type": "code",
   "execution_count": 8,
   "id": "87fe6d55-70b4-423e-bf08-ba2658569b69",
   "metadata": {},
   "outputs": [
    {
     "data": {
      "application/vnd.jupyter.widget-view+json": {
       "model_id": "d6e18537e33d4882b9e3fcf38705a054",
       "version_major": 2,
       "version_minor": 0
      },
      "text/plain": [
       "MitoWidget(analysis_data_json='{\"analysisName\": \"id-yknlubjckh\", \"analysisToReplay\": null, \"code\": [], \"stepSu…"
      ]
     },
     "metadata": {},
     "output_type": "display_data"
    }
   ],
   "source": [
    "import mitosheet\n",
    "mitosheet.sheet(dfGasPriceAll, view_df=True)"
   ]
  },
  {
   "cell_type": "code",
   "execution_count": 9,
   "id": "6876c1e3-cfe0-4d0b-956e-ed048a746806",
   "metadata": {},
   "outputs": [
    {
     "data": {
      "text/html": [
       "<iframe\n",
       "    scrolling=\"no\"\n",
       "    width=\"100%\"\n",
       "    height=\"545px\"\n",
       "    src=\"iframe_figures/figure_9.html\"\n",
       "    frameborder=\"0\"\n",
       "    allowfullscreen\n",
       "></iframe>\n"
      ]
     },
     "metadata": {},
     "output_type": "display_data"
    }
   ],
   "source": [
    "import plotly.express as px\n",
    "# Construct the graph and style it. Further customize your graph by editing this code.\n",
    "# See Plotly Documentation for help: https://plotly.com/python/plotly-express/\n",
    "fig = px.line(dfGasPriceAll, x='block_number', y='avg_gas')\n",
    "fig.update_layout(\n",
    "    title='block_number, avg_gas line', \n",
    "    xaxis = dict(\n",
    "        rangeslider = dict(\n",
    "            visible=True, \n",
    "            thickness=0.05\n",
    "        )\n",
    "    ), \n",
    "    yaxis = dict(\n",
    "\n",
    "    ), \n",
    "    paper_bgcolor='#FFFFFF', \n",
    "    showlegend=True\n",
    ")\n",
    "fig.show(renderer=\"iframe\")"
   ]
  },
  {
   "cell_type": "markdown",
   "id": "74472465-4e76-4708-8d14-1cc95226884e",
   "metadata": {},
   "source": [
    "# GLS regression"
   ]
  },
  {
   "cell_type": "code",
   "execution_count": 25,
   "id": "19cec89c-e32b-4890-a379-384a8f277b99",
   "metadata": {},
   "outputs": [],
   "source": [
    "# Load packages\n",
    "import statsmodels.api as sm\n",
    "import numpy as np\n",
    "from statsmodels.iolib.table import (SimpleTable, default_txt_fmt)\n",
    "import statsmodels.formula.api as smf"
   ]
  },
  {
   "cell_type": "markdown",
   "id": "f8301913-2fde-42a2-95ce-36c9c9666e43",
   "metadata": {},
   "source": [
    "## Load regression data set prepared in R"
   ]
  },
  {
   "cell_type": "code",
   "execution_count": 77,
   "id": "0e584c75-2fa2-40d6-babd-6965762f6391",
   "metadata": {},
   "outputs": [],
   "source": [
    "dfRegression = pd.read_csv(\"/Volumes/Extreme SSD/97_FinalSet/MEV_Regression_v1.csv\")"
   ]
  },
  {
   "cell_type": "code",
   "execution_count": 68,
   "id": "3cd56c74-ee73-4688-b482-b21527e58db1",
   "metadata": {},
   "outputs": [],
   "source": [
    "dfRegressionSmall = pd.read_csv(\"/Volumes/Extreme SSD/97_FinalSet/MEV_RegressionSmall_v1.csv\")\n"
   ]
  },
  {
   "cell_type": "code",
   "execution_count": 58,
   "id": "d88d8958-c7ea-4221-9917-995439a402dd",
   "metadata": {},
   "outputs": [],
   "source": [
    "# create X and Y dataframes\n",
    "X = dfRegressionSmall[['median_gas', 'difficulty']]\n",
    "X = sm.add_constant(X)\n",
    "Y = dfRegressionSmall[['avg_gas']]"
   ]
  },
  {
   "cell_type": "code",
   "execution_count": 75,
   "id": "8a604025-47d5-409a-bff5-f94f89869156",
   "metadata": {},
   "outputs": [
    {
     "data": {
      "text/plain": [
       "0.018376633402057446"
      ]
     },
     "execution_count": 75,
     "metadata": {},
     "output_type": "execute_result"
    }
   ],
   "source": [
    "dfRegression.head()\n",
    "dfRegression[\"difficulty\"].mean()"
   ]
  },
  {
   "cell_type": "code",
   "execution_count": 15,
   "id": "c1add5ee-f756-4de8-b3b6-09725bafc2a6",
   "metadata": {},
   "outputs": [
    {
     "data": {
      "text/plain": [
       "IDSeq                          int64\n",
       "block_number                   int64\n",
       "avg_gas                      float64\n",
       "median_gas                   float64\n",
       "threshold_gas                float64\n",
       "attacks_GasFee_Gwei          float64\n",
       "attacks_GasFee_ETH           float64\n",
       "attacks_GasUsed                int64\n",
       "AttackCount                    int64\n",
       "attacks_gasPrice_max         float64\n",
       "attacks_gasPrice_avg         float64\n",
       "attacks_AttackGasFeeShare    float64\n",
       "difficulty                   float64\n",
       "price_USD_delta              float64\n",
       "transaction_count_block        int64\n",
       "AttackCount_10k                int64\n",
       "flashbots_Flag                 int64\n",
       "Month                          int64\n",
       "WeekNumber                     int64\n",
       "Weekyday                       int64\n",
       "Hour                           int64\n",
       "dtype: object"
      ]
     },
     "execution_count": 15,
     "metadata": {},
     "output_type": "execute_result"
    }
   ],
   "source": [
    "dfRegression.dtypes"
   ]
  },
  {
   "cell_type": "code",
   "execution_count": null,
   "id": "60044985-37eb-4146-be80-435e9f9e4bde",
   "metadata": {},
   "outputs": [],
   "source": []
  },
  {
   "cell_type": "markdown",
   "id": "7757df30-c768-47d7-89b5-3b835dc1ba62",
   "metadata": {},
   "source": [
    "## Write model \n",
    "* https://www.statsmodels.org/dev/examples/notebooks/generated/gls.html\n",
    "* https://www.youtube.com/watch?v=yeD5ypVdB1s\n",
    "* https://www.statsmodels.org/0.6.1/examples/notebooks/generated/gls.html\n",
    "* Adding interaction terms: https://stackoverflow.com/questions/45828964/how-to-add-interaction-term-in-python-sklearn\n",
    "* https://github.com/markumreed/data_science_for_everyone/blob/main/statsmodels_examples/02_fitting_models_using_r_style_formulas.ipynb\n",
    "* GLSAR with formula like R: https://www.statsmodels.org/dev/generated/statsmodels.regression.linear_model.GLSAR.from_formula.html\n",
    "* Stargazer in pythoin https://stackoverflow.com/questions/67030470/python-stargazer-latex-output-unusable\n"
   ]
  },
  {
   "cell_type": "markdown",
   "id": "96709555-1906-4e6a-aa1d-52ef30cad83c",
   "metadata": {},
   "source": [
    "### GLSAR model"
   ]
  },
  {
   "cell_type": "markdown",
   "id": "ec807db5-d78f-4628-a319-d15dc1a891c6",
   "metadata": {},
   "source": [
    "#### Complex"
   ]
  },
  {
   "cell_type": "code",
   "execution_count": 67,
   "id": "c731776e-7481-44d2-bfec-e56e0667e676",
   "metadata": {},
   "outputs": [
    {
     "name": "stdout",
     "output_type": "stream",
     "text": [
      "                           GLSAR Regression Results                           \n",
      "==============================================================================\n",
      "Dep. Variable:                avg_gas   R-squared:                       0.105\n",
      "Model:                          GLSAR   Adj. R-squared:                  0.105\n",
      "Method:                 Least Squares   F-statistic:                     7674.\n",
      "Date:                Tue, 09 Aug 2022   Prob (F-statistic):               0.00\n",
      "Time:                        19:01:13   Log-Likelihood:            -1.2446e+07\n",
      "No. Observations:             2346701   AIC:                         2.489e+07\n",
      "Df Residuals:                 2346664   BIC:                         2.489e+07\n",
      "Df Model:                          36                                         \n",
      "Covariance Type:            nonrobust                                         \n",
      "==============================================================================================================\n",
      "                                                 coef    std err          t      P>|t|      [0.025      0.975]\n",
      "--------------------------------------------------------------------------------------------------------------\n",
      "Intercept                                     59.7336      0.969     61.613      0.000      57.833      61.634\n",
      "C(flashbots_Flag)[T.1]                       -73.1155      0.835    -87.570      0.000     -74.752     -71.479\n",
      "C(Weekyday)[T.2]                               5.9981      0.675      8.884      0.000       4.675       7.321\n",
      "C(Weekyday)[T.3]                               6.0114      0.677      8.886      0.000       4.685       7.337\n",
      "C(Weekyday)[T.4]                               7.5735      0.677     11.192      0.000       6.247       8.900\n",
      "C(Weekyday)[T.5]                              -3.5511      0.677     -5.248      0.000      -4.877      -2.225\n",
      "C(Weekyday)[T.6]                             -22.6438      0.676    -33.477      0.000     -23.969     -21.318\n",
      "C(Weekyday)[T.7]                             -26.2451      0.675    -38.907      0.000     -27.567     -24.923\n",
      "C(Hour)[T.1]                                  -4.5662      1.105     -4.131      0.000      -6.733      -2.400\n",
      "C(Hour)[T.2]                                  -4.8664      1.153     -4.222      0.000      -7.125      -2.607\n",
      "C(Hour)[T.3]                                  -1.8120      1.156     -1.567      0.117      -4.078       0.454\n",
      "C(Hour)[T.4]                                  -4.1566      1.157     -3.592      0.000      -6.425      -1.888\n",
      "C(Hour)[T.5]                                  -7.3772      1.156     -6.381      0.000      -9.643      -5.111\n",
      "C(Hour)[T.6]                                  -4.9701      1.157     -4.297      0.000      -7.237      -2.703\n",
      "C(Hour)[T.7]                                  -5.4284      1.158     -4.688      0.000      -7.698      -3.159\n",
      "C(Hour)[T.8]                                  -2.6154      1.156     -2.262      0.024      -4.881      -0.350\n",
      "C(Hour)[T.9]                                   3.4610      1.157      2.992      0.003       1.193       5.729\n",
      "C(Hour)[T.10]                                  1.4703      1.156      1.272      0.203      -0.795       3.736\n",
      "C(Hour)[T.11]                                  1.3106      1.157      1.133      0.257      -0.957       3.578\n",
      "C(Hour)[T.12]                                  8.5480      1.155      7.403      0.000       6.285      10.811\n",
      "C(Hour)[T.13]                                 20.0202      1.154     17.345      0.000      17.758      22.282\n",
      "C(Hour)[T.14]                                 33.0013      1.155     28.570      0.000      30.737      35.265\n",
      "C(Hour)[T.15]                                 37.6430      1.154     32.611      0.000      35.381      39.905\n",
      "C(Hour)[T.16]                                 41.8454      1.154     36.263      0.000      39.584      44.107\n",
      "C(Hour)[T.17]                                 28.5396      1.153     24.745      0.000      26.279      30.800\n",
      "C(Hour)[T.18]                                 15.6726      1.154     13.583      0.000      13.411      17.934\n",
      "C(Hour)[T.19]                                  6.3240      1.155      5.477      0.000       4.061       8.587\n",
      "C(Hour)[T.20]                                 -1.6063      1.153     -1.393      0.164      -3.867       0.654\n",
      "C(Hour)[T.21]                                 -5.3161      1.154     -4.607      0.000      -7.578      -3.054\n",
      "C(Hour)[T.22]                                 -8.8465      1.150     -7.694      0.000     -11.100      -6.593\n",
      "C(Hour)[T.23]                                -12.5261      1.105    -11.336      0.000     -14.692     -10.360\n",
      "attacks_GasFee_Gwei                         1.841e-07   4.25e-10    432.949      0.000    1.83e-07    1.85e-07\n",
      "C(flashbots_Flag)[T.1]:attacks_GasFee_Gwei  -3.42e-08   2.02e-09    -16.931      0.000   -3.82e-08   -3.02e-08\n",
      "AttackCount                                    1.4847      0.048     31.025      0.000       1.391       1.579\n",
      "difficulty                                   172.5563      1.140    151.345      0.000     170.322     174.791\n",
      "price_USD_delta                               -0.2210      0.016    -13.893      0.000      -0.252      -0.190\n",
      "transaction_count_block                        0.0031      0.000      6.707      0.000       0.002       0.004\n",
      "==============================================================================\n",
      "Omnibus:                  3962917.784   Durbin-Watson:                   2.703\n",
      "Prob(Omnibus):                  0.000   Jarque-Bera (JB):     358701976422.869\n",
      "Skew:                           9.959   Prob(JB):                         0.00\n",
      "Kurtosis:                    1918.227   Cond. No.                     1.05e+10\n",
      "==============================================================================\n",
      "\n",
      "Notes:\n",
      "[1] Standard Errors assume that the covariance matrix of the errors is correctly specified.\n",
      "[2] The condition number is large, 1.05e+10. This might indicate that there are\n",
      "strong multicollinearity or other numerical problems.\n"
     ]
    }
   ],
   "source": [
    "# Model with interaction term and without (for testing)\n",
    "\n",
    "glsar_model_AR1 = sm.GLSAR.from_formula(formula= \"avg_gas ~ attacks_GasFee_Gwei + AttackCount + C(flashbots_Flag) + C(flashbots_Flag):attacks_GasFee_Gwei + difficulty + price_USD_delta + transaction_count_block + C(Weekyday) + C(Hour)\", data=dfRegression, rho = 1)\n",
    "glsarAR1_results = glsar_model_AR1.iterative_fit(100)\n",
    "print(glsarAR1_results.summary())\n",
    "# print(glsarAR1_results.summary().as_latex()) # Latex output\n",
    "\n",
    "#glsar_model = formula=\"avg_gas ~ median_gas\", data=dfRegression"
   ]
  },
  {
   "cell_type": "code",
   "execution_count": 69,
   "id": "cc8ff45c-004d-4bdc-839f-85e7b9133e6a",
   "metadata": {},
   "outputs": [
    {
     "data": {
      "text/html": [
       "<div><div id=0e92d846-f219-4ac5-a586-72112838c736 style=\"display:none; background-color:#9D6CFF; color:white; width:200px; height:30px; padding-left:5px; border-radius:4px; flex-direction:row; justify-content:space-around; align-items:center;\" onmouseover=\"this.style.backgroundColor='#BA9BF8'\" onmouseout=\"this.style.backgroundColor='#9D6CFF'\" onclick=\"window.commands?.execute('create-mitosheet-from-dataframe-output');\">See Full Dataframe in Mito</div> <script> if (window.commands?.hasCommand('create-mitosheet-from-dataframe-output')) document.getElementById('0e92d846-f219-4ac5-a586-72112838c736').style.display = 'flex' </script> <table border=\"1\" class=\"dataframe\">\n",
       "  <thead>\n",
       "    <tr style=\"text-align: right;\">\n",
       "      <th></th>\n",
       "      <th>IDSeq</th>\n",
       "      <th>block_number</th>\n",
       "      <th>avg_gas</th>\n",
       "      <th>median_gas</th>\n",
       "      <th>threshold_gas</th>\n",
       "      <th>attacks_GasFee_Gwei</th>\n",
       "      <th>attacks_GasFee_ETH</th>\n",
       "      <th>attacks_GasUsed</th>\n",
       "      <th>AttackCount</th>\n",
       "      <th>attacks_gasPrice_max</th>\n",
       "      <th>attacks_gasPrice_avg</th>\n",
       "      <th>attacks_AttackGasFeeShare</th>\n",
       "      <th>difficulty</th>\n",
       "      <th>price_USD_delta</th>\n",
       "      <th>transaction_count_block</th>\n",
       "      <th>AttackCount_10k</th>\n",
       "      <th>flashbots_Flag</th>\n",
       "      <th>Month</th>\n",
       "      <th>WeekNumber</th>\n",
       "      <th>Weekyday</th>\n",
       "      <th>Hour</th>\n",
       "      <th>avg_gas_lag1</th>\n",
       "    </tr>\n",
       "  </thead>\n",
       "  <tbody>\n",
       "    <tr>\n",
       "      <th>0</th>\n",
       "      <td>2</td>\n",
       "      <td>10093071</td>\n",
       "      <td>38.025468</td>\n",
       "      <td>20.000000</td>\n",
       "      <td>16.500000</td>\n",
       "      <td>0.0</td>\n",
       "      <td>0.0</td>\n",
       "      <td>0</td>\n",
       "      <td>0</td>\n",
       "      <td>0.0</td>\n",
       "      <td>0.0</td>\n",
       "      <td>0.0</td>\n",
       "      <td>0.021013</td>\n",
       "      <td>0.00</td>\n",
       "      <td>59</td>\n",
       "      <td>0</td>\n",
       "      <td>0</td>\n",
       "      <td>5</td>\n",
       "      <td>21</td>\n",
       "      <td>2</td>\n",
       "      <td>0</td>\n",
       "      <td>34.401466</td>\n",
       "    </tr>\n",
       "    <tr>\n",
       "      <th>1</th>\n",
       "      <td>3</td>\n",
       "      <td>10093072</td>\n",
       "      <td>66.245960</td>\n",
       "      <td>31.900000</td>\n",
       "      <td>6.000000</td>\n",
       "      <td>0.0</td>\n",
       "      <td>0.0</td>\n",
       "      <td>0</td>\n",
       "      <td>0</td>\n",
       "      <td>0.0</td>\n",
       "      <td>0.0</td>\n",
       "      <td>0.0</td>\n",
       "      <td>0.021189</td>\n",
       "      <td>-0.33</td>\n",
       "      <td>56</td>\n",
       "      <td>0</td>\n",
       "      <td>0</td>\n",
       "      <td>5</td>\n",
       "      <td>21</td>\n",
       "      <td>2</td>\n",
       "      <td>0</td>\n",
       "      <td>38.025468</td>\n",
       "    </tr>\n",
       "    <tr>\n",
       "      <th>2</th>\n",
       "      <td>4</td>\n",
       "      <td>10093073</td>\n",
       "      <td>23.723614</td>\n",
       "      <td>18.000001</td>\n",
       "      <td>16.000000</td>\n",
       "      <td>0.0</td>\n",
       "      <td>0.0</td>\n",
       "      <td>0</td>\n",
       "      <td>0</td>\n",
       "      <td>0.0</td>\n",
       "      <td>0.0</td>\n",
       "      <td>0.0</td>\n",
       "      <td>0.021013</td>\n",
       "      <td>0.00</td>\n",
       "      <td>93</td>\n",
       "      <td>0</td>\n",
       "      <td>0</td>\n",
       "      <td>5</td>\n",
       "      <td>21</td>\n",
       "      <td>2</td>\n",
       "      <td>0</td>\n",
       "      <td>66.245960</td>\n",
       "    </tr>\n",
       "    <tr>\n",
       "      <th>3</th>\n",
       "      <td>5</td>\n",
       "      <td>10093074</td>\n",
       "      <td>41.613122</td>\n",
       "      <td>20.000000</td>\n",
       "      <td>16.000000</td>\n",
       "      <td>0.0</td>\n",
       "      <td>0.0</td>\n",
       "      <td>0</td>\n",
       "      <td>0</td>\n",
       "      <td>0.0</td>\n",
       "      <td>0.0</td>\n",
       "      <td>0.0</td>\n",
       "      <td>0.021189</td>\n",
       "      <td>-0.14</td>\n",
       "      <td>77</td>\n",
       "      <td>0</td>\n",
       "      <td>0</td>\n",
       "      <td>5</td>\n",
       "      <td>21</td>\n",
       "      <td>2</td>\n",
       "      <td>0</td>\n",
       "      <td>23.723614</td>\n",
       "    </tr>\n",
       "    <tr>\n",
       "      <th>4</th>\n",
       "      <td>6</td>\n",
       "      <td>10093075</td>\n",
       "      <td>37.484420</td>\n",
       "      <td>19.025810</td>\n",
       "      <td>16.000000</td>\n",
       "      <td>0.0</td>\n",
       "      <td>0.0</td>\n",
       "      <td>0</td>\n",
       "      <td>0</td>\n",
       "      <td>0.0</td>\n",
       "      <td>0.0</td>\n",
       "      <td>0.0</td>\n",
       "      <td>0.021189</td>\n",
       "      <td>0.00</td>\n",
       "      <td>137</td>\n",
       "      <td>0</td>\n",
       "      <td>0</td>\n",
       "      <td>5</td>\n",
       "      <td>21</td>\n",
       "      <td>2</td>\n",
       "      <td>0</td>\n",
       "      <td>41.613122</td>\n",
       "    </tr>\n",
       "    <tr>\n",
       "      <th>...</th>\n",
       "      <td>...</td>\n",
       "      <td>...</td>\n",
       "      <td>...</td>\n",
       "      <td>...</td>\n",
       "      <td>...</td>\n",
       "      <td>...</td>\n",
       "      <td>...</td>\n",
       "      <td>...</td>\n",
       "      <td>...</td>\n",
       "      <td>...</td>\n",
       "      <td>...</td>\n",
       "      <td>...</td>\n",
       "      <td>...</td>\n",
       "      <td>...</td>\n",
       "      <td>...</td>\n",
       "      <td>...</td>\n",
       "      <td>...</td>\n",
       "      <td>...</td>\n",
       "      <td>...</td>\n",
       "      <td>...</td>\n",
       "      <td>...</td>\n",
       "      <td>...</td>\n",
       "    </tr>\n",
       "    <tr>\n",
       "      <th>9995</th>\n",
       "      <td>9997</td>\n",
       "      <td>10103559</td>\n",
       "      <td>58.173645</td>\n",
       "      <td>48.000002</td>\n",
       "      <td>43.000000</td>\n",
       "      <td>0.0</td>\n",
       "      <td>0.0</td>\n",
       "      <td>0</td>\n",
       "      <td>0</td>\n",
       "      <td>0.0</td>\n",
       "      <td>0.0</td>\n",
       "      <td>0.0</td>\n",
       "      <td>0.020770</td>\n",
       "      <td>0.00</td>\n",
       "      <td>119</td>\n",
       "      <td>2</td>\n",
       "      <td>0</td>\n",
       "      <td>5</td>\n",
       "      <td>21</td>\n",
       "      <td>3</td>\n",
       "      <td>15</td>\n",
       "      <td>40.650019</td>\n",
       "    </tr>\n",
       "    <tr>\n",
       "      <th>9996</th>\n",
       "      <td>9998</td>\n",
       "      <td>10103560</td>\n",
       "      <td>44.273797</td>\n",
       "      <td>42.000000</td>\n",
       "      <td>37.418746</td>\n",
       "      <td>0.0</td>\n",
       "      <td>0.0</td>\n",
       "      <td>0</td>\n",
       "      <td>0</td>\n",
       "      <td>0.0</td>\n",
       "      <td>0.0</td>\n",
       "      <td>0.0</td>\n",
       "      <td>0.020594</td>\n",
       "      <td>-1.35</td>\n",
       "      <td>128</td>\n",
       "      <td>2</td>\n",
       "      <td>0</td>\n",
       "      <td>5</td>\n",
       "      <td>21</td>\n",
       "      <td>3</td>\n",
       "      <td>15</td>\n",
       "      <td>58.173645</td>\n",
       "    </tr>\n",
       "    <tr>\n",
       "      <th>9997</th>\n",
       "      <td>9999</td>\n",
       "      <td>10103561</td>\n",
       "      <td>67.410133</td>\n",
       "      <td>43.004300</td>\n",
       "      <td>36.000000</td>\n",
       "      <td>0.0</td>\n",
       "      <td>0.0</td>\n",
       "      <td>0</td>\n",
       "      <td>0</td>\n",
       "      <td>0.0</td>\n",
       "      <td>0.0</td>\n",
       "      <td>0.0</td>\n",
       "      <td>0.020770</td>\n",
       "      <td>0.04</td>\n",
       "      <td>140</td>\n",
       "      <td>2</td>\n",
       "      <td>0</td>\n",
       "      <td>5</td>\n",
       "      <td>21</td>\n",
       "      <td>3</td>\n",
       "      <td>15</td>\n",
       "      <td>44.273797</td>\n",
       "    </tr>\n",
       "    <tr>\n",
       "      <th>9998</th>\n",
       "      <td>10000</td>\n",
       "      <td>10103562</td>\n",
       "      <td>39.700204</td>\n",
       "      <td>36.000000</td>\n",
       "      <td>35.200000</td>\n",
       "      <td>0.0</td>\n",
       "      <td>0.0</td>\n",
       "      <td>0</td>\n",
       "      <td>0</td>\n",
       "      <td>0.0</td>\n",
       "      <td>0.0</td>\n",
       "      <td>0.0</td>\n",
       "      <td>0.020946</td>\n",
       "      <td>0.56</td>\n",
       "      <td>55</td>\n",
       "      <td>2</td>\n",
       "      <td>0</td>\n",
       "      <td>5</td>\n",
       "      <td>21</td>\n",
       "      <td>3</td>\n",
       "      <td>15</td>\n",
       "      <td>67.410133</td>\n",
       "    </tr>\n",
       "    <tr>\n",
       "      <th>9999</th>\n",
       "      <td>10001</td>\n",
       "      <td>10103563</td>\n",
       "      <td>44.171733</td>\n",
       "      <td>43.000000</td>\n",
       "      <td>35.000000</td>\n",
       "      <td>0.0</td>\n",
       "      <td>0.0</td>\n",
       "      <td>0</td>\n",
       "      <td>0</td>\n",
       "      <td>0.0</td>\n",
       "      <td>0.0</td>\n",
       "      <td>0.0</td>\n",
       "      <td>0.020946</td>\n",
       "      <td>-0.15</td>\n",
       "      <td>112</td>\n",
       "      <td>2</td>\n",
       "      <td>0</td>\n",
       "      <td>5</td>\n",
       "      <td>21</td>\n",
       "      <td>3</td>\n",
       "      <td>15</td>\n",
       "      <td>39.700204</td>\n",
       "    </tr>\n",
       "  </tbody>\n",
       "</table></div>"
      ],
      "text/plain": [
       "      IDSeq  block_number    avg_gas  median_gas  threshold_gas  \\\n",
       "0         2      10093071  38.025468   20.000000      16.500000   \n",
       "1         3      10093072  66.245960   31.900000       6.000000   \n",
       "2         4      10093073  23.723614   18.000001      16.000000   \n",
       "3         5      10093074  41.613122   20.000000      16.000000   \n",
       "4         6      10093075  37.484420   19.025810      16.000000   \n",
       "...     ...           ...        ...         ...            ...   \n",
       "9995   9997      10103559  58.173645   48.000002      43.000000   \n",
       "9996   9998      10103560  44.273797   42.000000      37.418746   \n",
       "9997   9999      10103561  67.410133   43.004300      36.000000   \n",
       "9998  10000      10103562  39.700204   36.000000      35.200000   \n",
       "9999  10001      10103563  44.171733   43.000000      35.000000   \n",
       "\n",
       "      attacks_GasFee_Gwei  attacks_GasFee_ETH  attacks_GasUsed  AttackCount  \\\n",
       "0                     0.0                 0.0                0            0   \n",
       "1                     0.0                 0.0                0            0   \n",
       "2                     0.0                 0.0                0            0   \n",
       "3                     0.0                 0.0                0            0   \n",
       "4                     0.0                 0.0                0            0   \n",
       "...                   ...                 ...              ...          ...   \n",
       "9995                  0.0                 0.0                0            0   \n",
       "9996                  0.0                 0.0                0            0   \n",
       "9997                  0.0                 0.0                0            0   \n",
       "9998                  0.0                 0.0                0            0   \n",
       "9999                  0.0                 0.0                0            0   \n",
       "\n",
       "      attacks_gasPrice_max  attacks_gasPrice_avg  attacks_AttackGasFeeShare  \\\n",
       "0                      0.0                   0.0                        0.0   \n",
       "1                      0.0                   0.0                        0.0   \n",
       "2                      0.0                   0.0                        0.0   \n",
       "3                      0.0                   0.0                        0.0   \n",
       "4                      0.0                   0.0                        0.0   \n",
       "...                    ...                   ...                        ...   \n",
       "9995                   0.0                   0.0                        0.0   \n",
       "9996                   0.0                   0.0                        0.0   \n",
       "9997                   0.0                   0.0                        0.0   \n",
       "9998                   0.0                   0.0                        0.0   \n",
       "9999                   0.0                   0.0                        0.0   \n",
       "\n",
       "      difficulty  price_USD_delta  transaction_count_block  AttackCount_10k  \\\n",
       "0       0.021013             0.00                       59                0   \n",
       "1       0.021189            -0.33                       56                0   \n",
       "2       0.021013             0.00                       93                0   \n",
       "3       0.021189            -0.14                       77                0   \n",
       "4       0.021189             0.00                      137                0   \n",
       "...          ...              ...                      ...              ...   \n",
       "9995    0.020770             0.00                      119                2   \n",
       "9996    0.020594            -1.35                      128                2   \n",
       "9997    0.020770             0.04                      140                2   \n",
       "9998    0.020946             0.56                       55                2   \n",
       "9999    0.020946            -0.15                      112                2   \n",
       "\n",
       "      flashbots_Flag  Month  WeekNumber  Weekyday  Hour  avg_gas_lag1  \n",
       "0                  0      5          21         2     0     34.401466  \n",
       "1                  0      5          21         2     0     38.025468  \n",
       "2                  0      5          21         2     0     66.245960  \n",
       "3                  0      5          21         2     0     23.723614  \n",
       "4                  0      5          21         2     0     41.613122  \n",
       "...              ...    ...         ...       ...   ...           ...  \n",
       "9995               0      5          21         3    15     40.650019  \n",
       "9996               0      5          21         3    15     58.173645  \n",
       "9997               0      5          21         3    15     44.273797  \n",
       "9998               0      5          21         3    15     67.410133  \n",
       "9999               0      5          21         3    15     39.700204  \n",
       "\n",
       "[10000 rows x 22 columns]"
      ]
     },
     "execution_count": 69,
     "metadata": {},
     "output_type": "execute_result"
    }
   ],
   "source": [
    "dfRegressionSmall"
   ]
  },
  {
   "cell_type": "markdown",
   "id": "35ca9613-624a-4343-983d-451d1086aab0",
   "metadata": {},
   "source": [
    "#### Simple"
   ]
  },
  {
   "cell_type": "code",
   "execution_count": 87,
   "id": "5f66f845-cdb4-40c4-84b7-544aedeabb50",
   "metadata": {},
   "outputs": [
    {
     "name": "stdout",
     "output_type": "stream",
     "text": [
      "                           GLSAR Regression Results                           \n",
      "==============================================================================\n",
      "Dep. Variable:                avg_gas   R-squared:                       0.007\n",
      "Model:                          GLSAR   Adj. R-squared:                  0.007\n",
      "Method:                 Least Squares   F-statistic:                 1.638e+04\n",
      "Date:                Tue, 09 Aug 2022   Prob (F-statistic):               0.00\n",
      "Time:                        20:38:23   Log-Likelihood:            -1.2568e+07\n",
      "No. Observations:             2346700   AIC:                         2.514e+07\n",
      "Df Residuals:                 2346698   BIC:                         2.514e+07\n",
      "Df Model:                           1                                         \n",
      "Covariance Type:            nonrobust                                         \n",
      "==============================================================================\n",
      "                 coef    std err          t      P>|t|      [0.025      0.975]\n",
      "------------------------------------------------------------------------------\n",
      "Intercept     76.0989      0.297    256.416      0.000      75.517      76.681\n",
      "difficulty    95.6942      0.748    127.988      0.000      94.229      97.160\n",
      "==============================================================================\n",
      "Omnibus:                  3719525.176   Durbin-Watson:                   2.711\n",
      "Prob(Omnibus):                  0.000   Jarque-Bera (JB):     239136864246.851\n",
      "Skew:                           8.666   Prob(JB):                         0.00\n",
      "Kurtosis:                    1566.772   Cond. No.                         4.23\n",
      "==============================================================================\n",
      "\n",
      "Notes:\n",
      "[1] Standard Errors assume that the covariance matrix of the errors is correctly specified.\n"
     ]
    }
   ],
   "source": [
    "# Simply GLSAR to compare with results from R => same resuklts for simple model, small dataset and high numbe rof iterations for fit\n",
    "#avg_gas ~ difficulty + avg_gas_lag1\n",
    "glsar_model_AR1 = sm.GLSAR.from_formula(formula= \"avg_gas ~ difficulty\", data=dfRegression, rho = 1)\n",
    "glsarAR1_results = glsar_model_AR1.iterative_fit(100)\n",
    "print(glsarAR1_results.summary())\n",
    "# print(glsarAR1_results.summary().as_latex()) # Latex output\n",
    "\n",
    "#glsar_model = formula=\"avg_gas ~ median_gas\", data=dfRegression"
   ]
  },
  {
   "cell_type": "code",
   "execution_count": 59,
   "id": "3b4f9cd0-78b7-468e-b7ef-486791ca23d6",
   "metadata": {},
   "outputs": [
    {
     "name": "stdout",
     "output_type": "stream",
     "text": [
      "                           GLSAR Regression Results                           \n",
      "==============================================================================\n",
      "Dep. Variable:                avg_gas   R-squared:                       0.683\n",
      "Model:                          GLSAR   Adj. R-squared:                  0.683\n",
      "Method:                 Least Squares   F-statistic:                 1.077e+04\n",
      "Date:                Tue, 09 Aug 2022   Prob (F-statistic):               0.00\n",
      "Time:                        18:29:10   Log-Likelihood:                -34418.\n",
      "No. Observations:                9999   AIC:                         6.884e+04\n",
      "Df Residuals:                    9996   BIC:                         6.886e+04\n",
      "Df Model:                           2                                         \n",
      "Covariance Type:            nonrobust                                         \n",
      "==============================================================================\n",
      "                 coef    std err          t      P>|t|      [0.025      0.975]\n",
      "------------------------------------------------------------------------------\n",
      "const          2.2061      0.322      6.862      0.000       1.576       2.836\n",
      "median_gas     1.1298      0.008    146.519      0.000       1.115       1.145\n",
      "difficulty   -19.1544     11.753     -1.630      0.103     -42.193       3.884\n",
      "==============================================================================\n",
      "Omnibus:                    28343.154   Durbin-Watson:                   1.971\n",
      "Prob(Omnibus):                  0.000   Jarque-Bera (JB):       2383687273.394\n",
      "Skew:                          37.163   Prob(JB):                         0.00\n",
      "Kurtosis:                    2393.794   Cond. No.                     4.62e+03\n",
      "==============================================================================\n",
      "\n",
      "Notes:\n",
      "[1] Standard Errors assume that the covariance matrix of the errors is correctly specified.\n",
      "[2] The condition number is large, 4.62e+03. This might indicate that there are\n",
      "strong multicollinearity or other numerical problems.\n"
     ]
    }
   ],
   "source": [
    "# Alternative formulation using vectors\n",
    "glsar_model = sm.GLSAR(Y, X, 1)\n",
    "glsar_results = glsar_model.iterative_fit(1)\n",
    "#glsar_results = glsar_model.fit()\n",
    "print(glsar_results.summary())"
   ]
  },
  {
   "cell_type": "code",
   "execution_count": 10,
   "id": "f7fbbfe2-d2bd-4d66-818e-194edddc8b20",
   "metadata": {},
   "outputs": [
    {
     "data": {
      "text/plain": [
       "'avg_gas'"
      ]
     },
     "execution_count": 10,
     "metadata": {},
     "output_type": "execute_result"
    }
   ],
   "source": [
    "glsar_model.endog_names"
   ]
  },
  {
   "cell_type": "code",
   "execution_count": 12,
   "id": "cbc4c1cd-4d46-4cae-92e8-d88498f80e5c",
   "metadata": {},
   "outputs": [
    {
     "data": {
      "text/plain": [
       "const         6.442569\n",
       "median_gas    1.026575\n",
       "dtype: float64"
      ]
     },
     "execution_count": 12,
     "metadata": {},
     "output_type": "execute_result"
    }
   ],
   "source": [
    "glsar_results.params"
   ]
  },
  {
   "cell_type": "markdown",
   "id": "0fddeed4-35e7-4849-86bb-cb298ade5230",
   "metadata": {},
   "source": [
    "### OLS model"
   ]
  },
  {
   "cell_type": "markdown",
   "id": "241a8470-aa17-4673-ac59-437f2e003541",
   "metadata": {},
   "source": [
    "#### Simple"
   ]
  },
  {
   "cell_type": "code",
   "execution_count": 84,
   "id": "128ef5e2-8c1e-4990-855d-2fa3c75cae85",
   "metadata": {},
   "outputs": [
    {
     "name": "stdout",
     "output_type": "stream",
     "text": [
      "                            OLS Regression Results                            \n",
      "==============================================================================\n",
      "Dep. Variable:                avg_gas   R-squared:                       0.705\n",
      "Model:                            OLS   Adj. R-squared:                  0.705\n",
      "Method:                 Least Squares   F-statistic:                 2.809e+06\n",
      "Date:                Tue, 09 Aug 2022   Prob (F-statistic):               0.00\n",
      "Time:                        20:21:35   Log-Likelihood:            -1.2568e+07\n",
      "No. Observations:             2346701   AIC:                         2.514e+07\n",
      "Df Residuals:                 2346698   BIC:                         2.514e+07\n",
      "Df Model:                           2                                         \n",
      "Covariance Type:            nonrobust                                         \n",
      "================================================================================\n",
      "                   coef    std err          t      P>|t|      [0.025      0.975]\n",
      "--------------------------------------------------------------------------------\n",
      "Intercept       13.2272      0.058    226.325      0.000      13.113      13.342\n",
      "difficulty      16.2369      0.134    121.601      0.000      15.975      16.499\n",
      "avg_gas_lag1     0.8273      0.000   2256.669      0.000       0.827       0.828\n",
      "==============================================================================\n",
      "Omnibus:                  3719548.487   Durbin-Watson:                   2.711\n",
      "Prob(Omnibus):                  0.000   Jarque-Bera (JB):     238850443316.023\n",
      "Skew:                           8.667   Prob(JB):                         0.00\n",
      "Kurtosis:                    1565.835   Cond. No.                         580.\n",
      "==============================================================================\n",
      "\n",
      "Notes:\n",
      "[1] Standard Errors assume that the covariance matrix of the errors is correctly specified.\n"
     ]
    }
   ],
   "source": [
    "\n",
    "# OLS model_ full formula => produces same estimate as lm in R\n",
    "# https://stackoverflow.com/questions/41765767/different-results-from-lm-in-r-vs-statsmodel-ols-in-python\n",
    "#X = sm.add_constant(X)\n",
    "#model = sm.OLS(Y, X)\n",
    "#results = model.fit()\n",
    "#avg_gas ~ difficulty + avg_gas_lag1\n",
    "resultsFormula = smf.ols(formula= \"avg_gas ~ difficulty + avg_gas_lag1\", data=dfRegression).fit()\n",
    "print(resultsFormula.summary())\n"
   ]
  },
  {
   "cell_type": "code",
   "execution_count": 88,
   "id": "f9e689c6-f8c5-418b-a6c7-988a21c44e58",
   "metadata": {},
   "outputs": [
    {
     "name": "stdout",
     "output_type": "stream",
     "text": [
      "                            OLS Regression Results                            \n",
      "==============================================================================\n",
      "Dep. Variable:                avg_gas   R-squared:                       0.066\n",
      "Model:                            OLS   Adj. R-squared:                  0.066\n",
      "Method:                 Least Squares   F-statistic:                 1.659e+05\n",
      "Date:                Tue, 09 Aug 2022   Prob (F-statistic):               0.00\n",
      "Time:                        20:53:33   Log-Likelihood:            -1.3922e+07\n",
      "No. Observations:             2346701   AIC:                         2.784e+07\n",
      "Df Residuals:                 2346699   BIC:                         2.784e+07\n",
      "Df Model:                           1                                         \n",
      "Covariance Type:            nonrobust                                         \n",
      "==============================================================================\n",
      "                 coef    std err          t      P>|t|      [0.025      0.975]\n",
      "------------------------------------------------------------------------------\n",
      "Intercept     76.7280      0.091    841.305      0.000      76.549      76.907\n",
      "difficulty    93.6013      0.230    407.369      0.000      93.151      94.052\n",
      "==============================================================================\n",
      "Omnibus:                  2945135.284   Durbin-Watson:                   0.345\n",
      "Prob(Omnibus):                  0.000   Jarque-Bera (JB):       2861525247.166\n",
      "Skew:                           6.212   Prob(JB):                         0.00\n",
      "Kurtosis:                     173.619   Cond. No.                         4.23\n",
      "==============================================================================\n",
      "\n",
      "Notes:\n",
      "[1] Standard Errors assume that the covariance matrix of the errors is correctly specified.\n"
     ]
    }
   ],
   "source": [
    "\n",
    "# OLS model_ full formula => produces same estimate as lm in R\n",
    "# https://stackoverflow.com/questions/41765767/different-results-from-lm-in-r-vs-statsmodel-ols-in-python\n",
    "#X = sm.add_constant(X)\n",
    "#model = sm.OLS(Y, X)\n",
    "#results = model.fit()\n",
    "#avg_gas ~ difficulty + avg_gas_lag1\n",
    "resultsFormula = smf.ols(formula= \"avg_gas ~ difficulty \", data=dfRegression).fit()\n",
    "print(resultsFormula.summary())\n"
   ]
  },
  {
   "cell_type": "code",
   "execution_count": 66,
   "id": "340f676f-fad8-4e54-a582-a3d6807d1dbc",
   "metadata": {},
   "outputs": [
    {
     "name": "stdout",
     "output_type": "stream",
     "text": [
      "                            OLS Regression Results                            \n",
      "==============================================================================\n",
      "Dep. Variable:                avg_gas   R-squared:                       0.181\n",
      "Model:                            OLS   Adj. R-squared:                  0.181\n",
      "Method:                 Least Squares   F-statistic:                 1.437e+04\n",
      "Date:                Tue, 09 Aug 2022   Prob (F-statistic):               0.00\n",
      "Time:                        18:57:37   Log-Likelihood:            -1.3769e+07\n",
      "No. Observations:             2346702   AIC:                         2.754e+07\n",
      "Df Residuals:                 2346665   BIC:                         2.754e+07\n",
      "Df Model:                          36                                         \n",
      "Covariance Type:            nonrobust                                         \n",
      "==============================================================================================================\n",
      "                                                 coef    std err          t      P>|t|      [0.025      0.975]\n",
      "--------------------------------------------------------------------------------------------------------------\n",
      "Intercept                                     41.0152      0.347    118.314      0.000      40.336      41.695\n",
      "C(flashbots_Flag)[T.1]                       -74.0348      0.262   -282.509      0.000     -74.548     -73.521\n",
      "C(Weekyday)[T.2]                               5.6788      0.209     27.184      0.000       5.269       6.088\n",
      "C(Weekyday)[T.3]                               6.1799      0.209     29.584      0.000       5.771       6.589\n",
      "C(Weekyday)[T.4]                               7.2135      0.209     34.522      0.000       6.804       7.623\n",
      "C(Weekyday)[T.5]                              -3.4266      0.209    -16.402      0.000      -3.836      -3.017\n",
      "C(Weekyday)[T.6]                             -21.7654      0.209   -104.148      0.000     -22.175     -21.356\n",
      "C(Weekyday)[T.7]                             -24.5385      0.209   -117.408      0.000     -24.948     -24.129\n",
      "C(Hour)[T.1]                                  -6.1192      0.387    -15.792      0.000      -6.879      -5.360\n",
      "C(Hour)[T.2]                                  -8.3745      0.388    -21.564      0.000      -9.136      -7.613\n",
      "C(Hour)[T.3]                                  -4.9471      0.388    -12.741      0.000      -5.708      -4.186\n",
      "C(Hour)[T.4]                                  -5.7956      0.388    -14.929      0.000      -6.556      -5.035\n",
      "C(Hour)[T.5]                                  -8.9443      0.388    -23.073      0.000      -9.704      -8.185\n",
      "C(Hour)[T.6]                                  -8.6035      0.388    -22.168      0.000      -9.364      -7.843\n",
      "C(Hour)[T.7]                                 -10.9467      0.390    -28.093      0.000     -11.710     -10.183\n",
      "C(Hour)[T.8]                                  -8.2168      0.390    -21.093      0.000      -8.980      -7.453\n",
      "C(Hour)[T.9]                                   0.7080      0.389      1.821      0.069      -0.054       1.470\n",
      "C(Hour)[T.10]                                 -2.0125      0.388     -5.189      0.000      -2.773      -1.252\n",
      "C(Hour)[T.11]                                 -1.8066      0.388     -4.654      0.000      -2.567      -1.046\n",
      "C(Hour)[T.12]                                  5.2236      0.387     13.486      0.000       4.464       5.983\n",
      "C(Hour)[T.13]                                 16.6683      0.387     43.044      0.000      15.909      17.427\n",
      "C(Hour)[T.14]                                 29.7434      0.388     76.724      0.000      28.984      30.503\n",
      "C(Hour)[T.15]                                 35.8431      0.387     92.546      0.000      35.084      36.602\n",
      "C(Hour)[T.16]                                 41.8837      0.387    108.239      0.000      41.125      42.642\n",
      "C(Hour)[T.17]                                 27.9475      0.386     72.323      0.000      27.190      28.705\n",
      "C(Hour)[T.18]                                 14.7706      0.387     38.212      0.000      14.013      15.528\n",
      "C(Hour)[T.19]                                  5.8522      0.387     15.129      0.000       5.094       6.610\n",
      "C(Hour)[T.20]                                  0.2514      0.386      0.651      0.515      -0.506       1.009\n",
      "C(Hour)[T.21]                                 -4.0466      0.387    -10.463      0.000      -4.805      -3.289\n",
      "C(Hour)[T.22]                                 -7.3186      0.387    -18.928      0.000      -8.076      -6.561\n",
      "C(Hour)[T.23]                                -11.0222      0.387    -28.470      0.000     -11.781     -10.263\n",
      "attacks_GasFee_Gwei                         2.526e-07   9.63e-10    262.284      0.000    2.51e-07    2.55e-07\n",
      "C(flashbots_Flag)[T.1]:attacks_GasFee_Gwei  2.401e-07    4.5e-09     53.377      0.000    2.31e-07    2.49e-07\n",
      "AttackCount                                   -8.3931      0.106    -79.091      0.000      -8.601      -8.185\n",
      "difficulty                                   163.9007      0.361    453.578      0.000     163.193     164.609\n",
      "price_USD_delta                               -0.2219      0.037     -5.938      0.000      -0.295      -0.149\n",
      "transaction_count_block                        0.1351      0.001    145.450      0.000       0.133       0.137\n",
      "==============================================================================\n",
      "Omnibus:                  3161508.916   Durbin-Watson:                   0.380\n",
      "Prob(Omnibus):                  0.000   Jarque-Bera (JB):       4683185178.479\n",
      "Skew:                           7.023   Prob(JB):                         0.00\n",
      "Kurtosis:                     221.399   Cond. No.                     1.60e+09\n",
      "==============================================================================\n",
      "\n",
      "Notes:\n",
      "[1] Standard Errors assume that the covariance matrix of the errors is correctly specified.\n",
      "[2] The condition number is large, 1.6e+09. This might indicate that there are\n",
      "strong multicollinearity or other numerical problems.\n"
     ]
    }
   ],
   "source": [
    "\n",
    "# OLS model_ full formula => produces same estimate as lm in R\n",
    "# https://stackoverflow.com/questions/41765767/different-results-from-lm-in-r-vs-statsmodel-ols-in-python\n",
    "#X = sm.add_constant(X)\n",
    "#model = sm.OLS(Y, X)\n",
    "#results = model.fit()\n",
    "\n",
    "resultsFormula = smf.ols(formula= \"avg_gas ~ attacks_GasFee_Gwei + AttackCount + C(flashbots_Flag) + C(flashbots_Flag):attacks_GasFee_Gwei + difficulty + price_USD_delta + transaction_count_block + C(Weekyday) + C(Hour)\", data=dfRegression).fit()\n",
    "print(resultsFormula.summary())\n"
   ]
  },
  {
   "cell_type": "code",
   "execution_count": 41,
   "id": "d370b786-2b2f-4c02-9f5b-68aedd141d24",
   "metadata": {},
   "outputs": [
    {
     "data": {
      "text/plain": [
       "0.3005386550209898"
      ]
     },
     "execution_count": 41,
     "metadata": {},
     "output_type": "execute_result"
    }
   ],
   "source": [
    "dfRegression[\"difficulty\"].mean()"
   ]
  },
  {
   "cell_type": "code",
   "execution_count": null,
   "id": "69385075-15a0-455d-b787-410318f8e6b4",
   "metadata": {},
   "outputs": [],
   "source": []
  }
 ],
 "metadata": {
  "kernelspec": {
   "display_name": "Python 3 (ipykernel)",
   "language": "python",
   "name": "python3"
  },
  "language_info": {
   "codemirror_mode": {
    "name": "ipython",
    "version": 3
   },
   "file_extension": ".py",
   "mimetype": "text/x-python",
   "name": "python",
   "nbconvert_exporter": "python",
   "pygments_lexer": "ipython3",
   "version": "3.9.12"
  }
 },
 "nbformat": 4,
 "nbformat_minor": 5
}
